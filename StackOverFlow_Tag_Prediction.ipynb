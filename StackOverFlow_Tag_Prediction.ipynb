{
  "nbformat": 4,
  "nbformat_minor": 0,
  "metadata": {
    "colab": {
      "name": "StackOverFlow Tag Prediction Completed.ipynb",
      "version": "0.3.2",
      "provenance": [],
      "collapsed_sections": [
        "kGmC2QoWuYe5",
        "uH9eXat2uYe_",
        "ZqViNTcJuYfE",
        "dZ9Wem6cuYfN",
        "dUvhgCYbuYfS",
        "Gq5nE-R7uYjg",
        "pmDTqgrWuYjj"
      ]
    },
    "kernelspec": {
      "name": "python3",
      "display_name": "Python 3"
    }
  },
  "cells": [
    {
      "metadata": {
        "id": "DXE2KqFCuYea",
        "colab_type": "text"
      },
      "cell_type": "markdown",
      "source": [
        "# StackOverFlow Tag Prediction"
      ]
    },
    {
      "metadata": {
        "id": "-hjHNWLZIhQI",
        "colab_type": "text"
      },
      "cell_type": "markdown",
      "source": [
        "### Problem Description"
      ]
    },
    {
      "metadata": {
        "id": "iWydEBnVIc-J",
        "colab_type": "text"
      },
      "cell_type": "markdown",
      "source": [
        "Stack Overflow is the largest, most trusted online community for developers to learn, share their programming knowledge, and build their careers.\n",
        "\n",
        "Stack Overflow is something which every programmer use one way or another. Each month, over 50 million developers come to Stack Overflow to learn, share their knowledge, and build their careers. It features questions and answers on a wide range of topics in computer programming. The website serves as a platform for users to ask and answer questions, and, through membership and active participation, to vote questions and answers up or down and edit questions and answers in a fashion similar to a wiki or Digg. As of April 2014 Stack Overflow has over 4,000,000 registered users, and it exceeded 10,000,000 questions in late August 2015. Based on the type of tags assigned to questions, the top eight most discussed topics on the site are: Java, JavaScript, C#, PHP, Android, jQuery, Python and HTML.\n",
        "\n",
        "."
      ]
    },
    {
      "metadata": {
        "id": "koX8NJq7IoDF",
        "colab_type": "text"
      },
      "cell_type": "markdown",
      "source": [
        "### Problem Statemtent"
      ]
    },
    {
      "metadata": {
        "id": "RoemOM-vIqK1",
        "colab_type": "text"
      },
      "cell_type": "markdown",
      "source": [
        "Suggest the tags based on the content that was there in the question posted on Stackoverflow."
      ]
    },
    {
      "metadata": {
        "id": "DUMr_trpKSLj",
        "colab_type": "text"
      },
      "cell_type": "markdown",
      "source": [
        "### My Underastanding of Problem"
      ]
    },
    {
      "metadata": {
        "id": "hYT53u_UJISL",
        "colab_type": "text"
      },
      "cell_type": "markdown",
      "source": [
        "* From Probelm Description , We can say that for each question there may contains one or many TAGS\n",
        "*  so for ecah question we need to predict  TAG or TAGS\n",
        "* here input to data be Title,Question etc......\n",
        "* output will be TAGs\n",
        "* so here output may be any no_of_tags from a given tags\n",
        "* So this is MULTILABELClassification  Problem"
      ]
    },
    {
      "metadata": {
        "id": "z-8OOLomI2JK",
        "colab_type": "text"
      },
      "cell_type": "markdown",
      "source": [
        "### Real World / Business Objectives and Constraints\n",
        "       \n",
        "       * Predict as many tags as possible with high precision and recall.\n",
        "       * Incorrect tags could impact customer experience on StackOverflow.\n",
        "       * No strict latency constraints."
      ]
    },
    {
      "metadata": {
        "id": "1znl-UfZK0JY",
        "colab_type": "text"
      },
      "cell_type": "markdown",
      "source": [
        "### Data"
      ]
    },
    {
      "metadata": {
        "id": "NQDAy-CPK2DX",
        "colab_type": "text"
      },
      "cell_type": "markdown",
      "source": [
        "#### DataOverview"
      ]
    },
    {
      "metadata": {
        "id": "V1XjqEauKzAI",
        "colab_type": "text"
      },
      "cell_type": "markdown",
      "source": [
        "Refer: https://www.kaggle.com/c/facebook-recruiting-iii-keyword-extraction/data \n",
        "All of the data is in 2 files: Train and Test.\n",
        "\n",
        "Train.csv contains 4 columns: Id,Title,Body,Tags.\n",
        "\n",
        "Test.csv contains the same columns but without the Tags, which you are to predict.\n",
        "\n",
        "Size of Train.csv - 6.75GB\n",
        "\n",
        "Size of Test.csv - 2GB\n",
        "\n",
        "Number of rows in Train.csv = 6034195\n",
        "\n",
        "The questions are randomized and contains a mix of verbose text sites as well as sites related to math and programming. The number of questions from each site may vary, and no filtering has been performed on the questions (such as closed questions).\n"
      ]
    },
    {
      "metadata": {
        "id": "2BnzGALLK9St",
        "colab_type": "text"
      },
      "cell_type": "markdown",
      "source": [
        "#### Data Field Explaination\n",
        "\n",
        "Dataset contains 6,034,195 rows. The columns in the table are:\n",
        "\n",
        "Id - Unique identifier for each question\n",
        "\n",
        "Title - The question's title\n",
        "\n",
        "Body - The body of the question\n",
        "\n",
        "Tags - The tags associated with the question in a space-seperated format (all lowercase, should not contain tabs '\\t' or ampersands '&')"
      ]
    },
    {
      "metadata": {
        "id": "zm3gB_ijLJ3N",
        "colab_type": "text"
      },
      "cell_type": "markdown",
      "source": [
        "#### Example of Data:\n",
        "\n",
        "Title:  Implementing Boundary Value Analysis of Software Testing in a C++ program?\n",
        "Body : \n",
        "\n",
        "        #include<\n",
        "        iostream>\\n\n",
        "        #include<\n",
        "        stdlib.h>\\n\\n\n",
        "        using namespace std;\\n\\n\n",
        "        int main()\\n\n",
        "        {\\n\n",
        "                 int n,a[n],x,c,u[n],m[n],e[n][4];\\n         \n",
        "              \n",
        "                ..................code here .......\n",
        "                \n",
        "                 system(\"PAUSE\");\\n        \n",
        "                 return 0;    \\n\n",
        "        }\\n\n",
        "        \n",
        "       \n",
        "The answer should come in the form of a table like\n",
        "\n",
        "\\n  \n",
        "       \n",
        "        1            50              50\\n       \n",
        "        2            50              50\\n        \n",
        "        50           50              99\\n       \n",
        "        50           50              100\\n\n",
        "        \n",
        "\\n    \n",
        "if the no of inputs is 3 and their ranges are\\n\n",
        "        1,100\\n\n",
        "        1,100\\n\n",
        "        1,100\\n\n",
        "        (could be varied too)\n",
        "\n",
        "\\n\\n\n",
        "        \n",
        "The output is not coming,can anyone correct the code or tell me what\\'s wrong?\n",
        "\n",
        "\\n'\n",
        "Tags : 'c++ c'"
      ]
    },
    {
      "metadata": {
        "id": "gyB5FvoILy5J",
        "colab_type": "text"
      },
      "cell_type": "markdown",
      "source": [
        "###  Mapping the real-world problem to a Machine Learning Problem"
      ]
    },
    {
      "metadata": {
        "id": "1F-JM0SpL2XT",
        "colab_type": "text"
      },
      "cell_type": "markdown",
      "source": [
        "####Type of Machine Learning Problem\n",
        "\n",
        "* It is a multi-label classification problem \n",
        "* Multi-label Classification: Multilabel classification assigns to each sample a set of target labels. \n",
        "* This can be thought as predicting properties of a data-point that are not mutually exclusive, such as topics that are relevant for a document. \n",
        "* A question on Stackoverflow might be about any of C, Pointers, FileIO and/or memory-management at the same time or none of these. \n",
        "* Credit: http://scikit-learn.org/stable/modules/multiclass.html"
      ]
    },
    {
      "metadata": {
        "id": "60n2sn2mMHmX",
        "colab_type": "text"
      },
      "cell_type": "markdown",
      "source": [
        "#### Performance metric\n",
        "* Micro-Averaged F1-Score (Mean F Score) : The F1 score can be interpreted as a weighted average of the precision and recall, where an F1 score reaches its best value at 1 and worst score at 0. The relative contribution of precision and recall to the F1 score are equal. The formula for the F1 score is:\n",
        "\n",
        "* F1 = 2 (precision recall) / (precision + recall)\n",
        "\n",
        "* In the multi-class and multi-label case, this is the weighted average of the F1 score of each class. \n",
        "\n",
        "*  'Micro f1 score': \n",
        "Calculate metrics globally by counting the total true positives, false negatives and false positives. This is a better metric when we have class imbalance. \n",
        "\n",
        "*  'Macro f1 score': \n",
        "Calculate metrics for each label, and find their unweighted mean. This does not take label imbalance into account. \n",
        "\n",
        "* https://www.kaggle.com/wiki/MeanFScore \n",
        "* http://scikit-learn.org/stable/modules/generated/sklearn.metrics.f1_score.html \n",
        "\n",
        "* Hamming loss : The Hamming loss is the fraction of labels that are incorrectly predicted. \n",
        "https://www.kaggle.com/wiki/HammingLoss "
      ]
    },
    {
      "metadata": {
        "id": "TWJNddPXMmN2",
        "colab_type": "text"
      },
      "cell_type": "markdown",
      "source": [
        "### Libraries used for this Code"
      ]
    },
    {
      "metadata": {
        "id": "lBTrQEjGuYec",
        "colab_type": "code",
        "colab": {}
      },
      "cell_type": "code",
      "source": [
        "import warnings\n",
        "warnings.filterwarnings(\"ignore\")\n",
        "import pandas as pd\n",
        "import sqlite3\n",
        "import csv\n",
        "import matplotlib.pyplot as plt\n",
        "import seaborn as sns\n",
        "import numpy as np\n",
        "from wordcloud import WordCloud\n",
        "import re\n",
        "import os\n",
        "from sqlalchemy import create_engine # database connection\n",
        "import datetime as dt\n",
        "from nltk.corpus import stopwords\n",
        "from nltk.tokenize import word_tokenize\n",
        "from nltk.stem.snowball import SnowballStemmer\n",
        "from sklearn.feature_extraction.text import CountVectorizer\n",
        "from sklearn.feature_extraction.text import TfidfVectorizer\n",
        "from sklearn.multiclass import OneVsRestClassifier\n",
        "from sklearn.linear_model import SGDClassifier\n",
        "from sklearn import metrics\n",
        "from sklearn.metrics import f1_score,precision_score,recall_score\n",
        "from sklearn import svm\n",
        "from sklearn.linear_model import LogisticRegression\n",
        "#from skmultilearn.adapt import mlknn\n",
        "#from skmultilearn.problem_transform import ClassifierChain\n",
        "#from skmultilearn.problem_transform import BinaryRelevance\n",
        "#from skmultilearn.problem_transform import LabelPowerset\n",
        "from sklearn.naive_bayes import GaussianNB\n",
        "from datetime import datetime"
      ],
      "execution_count": 0,
      "outputs": []
    },
    {
      "metadata": {
        "id": "n_rxgKzYNOSG",
        "colab_type": "text"
      },
      "cell_type": "markdown",
      "source": [
        "#### Data Present in Google DRive MOunting to Google Collab"
      ]
    },
    {
      "metadata": {
        "id": "-6ZIKNXNsxoT",
        "colab_type": "code",
        "outputId": "fea4384c-8310-42f6-9bd8-7c2112e95041",
        "colab": {
          "base_uri": "https://localhost:8080/",
          "height": 122
        }
      },
      "cell_type": "code",
      "source": [
        "from google.colab import drive\n",
        "drive.mount('/content/drive')"
      ],
      "execution_count": 2,
      "outputs": [
        {
          "output_type": "stream",
          "text": [
            "Go to this URL in a browser: https://accounts.google.com/o/oauth2/auth?client_id=947318989803-6bn6qk8qdgf4n4g3pfee6491hc0brc4i.apps.googleusercontent.com&redirect_uri=urn%3Aietf%3Awg%3Aoauth%3A2.0%3Aoob&scope=email%20https%3A%2F%2Fwww.googleapis.com%2Fauth%2Fdocs.test%20https%3A%2F%2Fwww.googleapis.com%2Fauth%2Fdrive%20https%3A%2F%2Fwww.googleapis.com%2Fauth%2Fdrive.photos.readonly%20https%3A%2F%2Fwww.googleapis.com%2Fauth%2Fpeopleapi.readonly&response_type=code\n",
            "\n",
            "Enter your authorization code:\n",
            "··········\n",
            "Mounted at /content/drive\n"
          ],
          "name": "stdout"
        }
      ]
    },
    {
      "metadata": {
        "id": "WvyYPZBvtAdo",
        "colab_type": "code",
        "colab": {}
      },
      "cell_type": "code",
      "source": [
        "!cp \"/content/drive/My Drive/StackOverFlowProbelm/data/train_no_dup.db\" \"train_no_dup.db\"\n",
        "!cp \"/content/drive/My Drive/StackOverFlowProbelm/data/Titlemoreweight.db\" \"Titlemoreweight.db\""
      ],
      "execution_count": 0,
      "outputs": []
    },
    {
      "metadata": {
        "id": "YtELuiUFuYeh",
        "colab_type": "text"
      },
      "cell_type": "markdown",
      "source": [
        "# putting CSV data into SQLLite Database"
      ]
    },
    {
      "metadata": {
        "id": "_gLi1UOduYei",
        "colab_type": "text"
      },
      "cell_type": "markdown",
      "source": [
        "* Step1: \n",
        "    * Creating the train.db databse in SQLLite DB\n",
        "    * by using method create_engine('sqlite:///yourpreferenceDataBaseName(train.db)')\n",
        "* Step2:\n",
        "    * in Particular Database we can Store many tables\n",
        "    * how to Store tables in particular dataBase in SqlLite?\n",
        "    * we can do it by using df.tosql(\"NameOfTable\",whichDBDoestableCreatein,if_exists='append') Method"
      ]
    },
    {
      "metadata": {
        "id": "lq11rD5zuYej",
        "colab_type": "code",
        "colab": {}
      },
      "cell_type": "code",
      "source": [
        "#Creating db file from csv\n",
        "#Learn SQL: https://www.w3schools.com/sql/default.asp\n",
        "if not os.path.isfile('train.db'):\n",
        "    start = datetime.now()\n",
        "    disk_engine = create_engine('sqlite:///train.db')\n",
        "    start = dt.datetime.now()\n",
        "    chunksize = 180000\n",
        "    j = 0\n",
        "    index_start = 1\n",
        "    for df in pd.read_csv('/home/bhargav/AAIC/DataSets/StackOverFlowTag/Train.csv', names=['Id', 'Title', 'Body', 'Tags'], chunksize=chunksize, iterator=True, encoding='utf-8', ):\n",
        "        df.index += index_start\n",
        "        j+=1\n",
        "        print('{} rows'.format(j*chunksize))\n",
        "        df.to_sql('stackoverflowdata', disk_engine, if_exists='append')\n",
        "        index_start = df.index[-1] + 1\n",
        "    print(\"Time taken to run this cell :\", datetime.now() - start)"
      ],
      "execution_count": 0,
      "outputs": []
    },
    {
      "metadata": {
        "id": "KdGlXW2XNccz",
        "colab_type": "text"
      },
      "cell_type": "markdown",
      "source": [
        "##  Exploratory Data Analysis\n",
        "### Data Loading and Cleaning"
      ]
    },
    {
      "metadata": {
        "id": "GDRn1nnCuYen",
        "colab_type": "text"
      },
      "cell_type": "markdown",
      "source": [
        "### Reading Data from Particular Table in the Particular DataBase by \n",
        "* Step1: By \n",
        "    * Establishing Connecting to that DB\n",
        "    * sqlite3.connect('dataBaseName')\n",
        "* Step2: \n",
        "    * Query on that Table \n",
        "    * pd.read_sql_query(\"\"\"Query\"\"\", con)"
      ]
    },
    {
      "metadata": {
        "id": "tY0TPIWruYen",
        "colab_type": "code",
        "outputId": "f1b38b3a-1cb1-4536-cd86-a6f9334f400f",
        "colab": {
          "base_uri": "https://localhost:8080/",
          "height": 34
        }
      },
      "cell_type": "code",
      "source": [
        "if os.path.isfile('train.db'):\n",
        "    start = datetime.now()\n",
        "    con = sqlite3.connect('train.db')\n",
        "    num_rows = pd.read_sql_query(\"\"\"SELECT count(*) FROM stackoverflowdata\"\"\", con)\n",
        "    #Always remember to close the database\n",
        "    print(\"Number of rows in the database :\",\"\\n\",num_rows['count(*)'].values[0])\n",
        "    con.close()\n",
        "    print(\"Time taken to count the number of rows :\", datetime.now() - start)\n",
        "else:\n",
        "    print(\"Please download the train.db file from drive or run the above cell to genarate train.db file\")"
      ],
      "execution_count": 0,
      "outputs": [
        {
          "output_type": "stream",
          "text": [
            "Please download the train.db file from drive or run the above cell to genarate train.db file\n"
          ],
          "name": "stdout"
        }
      ]
    },
    {
      "metadata": {
        "id": "msLL87G1uYer",
        "colab_type": "code",
        "colab": {}
      },
      "cell_type": "code",
      "source": [
        "#Learn SQl: https://www.w3schools.com/sql/default.asp\n",
        "if os.path.isfile('train.db'):\n",
        "    start = datetime.now()\n",
        "    con = sqlite3.connect('train.db')\n",
        "    df_no_dup = pd.read_sql_query('SELECT Title, Body, Tags, COUNT(*) as cnt_dup FROM stackoverflowdata GROUP BY Title, Body, Tags', con)\n",
        "    con.close()\n",
        "    print(\"Time taken to run this cell :\", datetime.now() - start)\n",
        "else:\n",
        "    print(\"Please download the train.db file from drive or run the first to genarate train.db file\")"
      ],
      "execution_count": 0,
      "outputs": []
    },
    {
      "metadata": {
        "id": "hzUGs4LnuYev",
        "colab_type": "text"
      },
      "cell_type": "markdown",
      "source": [
        "## Checking whether Duplicates Present or not"
      ]
    },
    {
      "metadata": {
        "id": "06pFmNtTuYew",
        "colab_type": "code",
        "colab": {}
      },
      "cell_type": "code",
      "source": [
        "df_no_dup.head()\n",
        "# we can observe that there are duplicates"
      ],
      "execution_count": 0,
      "outputs": []
    },
    {
      "metadata": {
        "id": "OU89VE-HuYez",
        "colab_type": "text"
      },
      "cell_type": "markdown",
      "source": [
        "### here we are checking at what percentage dupliactes are precent on STAKEOVERFLOW DATA"
      ]
    },
    {
      "metadata": {
        "id": "sg0n5KfiuYe0",
        "colab_type": "code",
        "colab": {}
      },
      "cell_type": "code",
      "source": [
        "print(\"number of duplicate questions :\", num_rows['count(*)'].values[0]- df_no_dup.shape[0], \"(\",(1-((df_no_dup.shape[0])/(num_rows['count(*)'].values[0])))*100,\"% )\")"
      ],
      "execution_count": 0,
      "outputs": []
    },
    {
      "metadata": {
        "id": "kGmC2QoWuYe5",
        "colab_type": "text"
      },
      "cell_type": "markdown",
      "source": [
        "### number of times each question appeared in our database"
      ]
    },
    {
      "metadata": {
        "id": "DxrYIOUvuYe6",
        "colab_type": "code",
        "colab": {}
      },
      "cell_type": "code",
      "source": [
        "\n",
        "df_no_dup.cnt_dup.value_counts()"
      ],
      "execution_count": 0,
      "outputs": []
    },
    {
      "metadata": {
        "id": "uH9eXat2uYe_",
        "colab_type": "text"
      },
      "cell_type": "markdown",
      "source": [
        "### adding a new feature number of tags per question"
      ]
    },
    {
      "metadata": {
        "id": "OEHzhuoIuYfA",
        "colab_type": "code",
        "colab": {}
      },
      "cell_type": "code",
      "source": [
        "start = datetime.now()\n",
        "df_no_dup[\"tag_count\"] = df_no_dup[\"Tags\"].apply(lambda text: len(text.split(\" \")))\n",
        "# adding a new feature number of tags per question\n",
        "print(\"Time taken to run this cell :\", datetime.now() - start)\n",
        "df_no_dup.head()"
      ],
      "execution_count": 0,
      "outputs": []
    },
    {
      "metadata": {
        "id": "ZqViNTcJuYfE",
        "colab_type": "text"
      },
      "cell_type": "markdown",
      "source": [
        "### distribution of number of tags per question"
      ]
    },
    {
      "metadata": {
        "id": "uHKqKpS-uYfF",
        "colab_type": "code",
        "colab": {}
      },
      "cell_type": "code",
      "source": [
        "df_no_dup.tag_count.value_counts()"
      ],
      "execution_count": 0,
      "outputs": []
    },
    {
      "metadata": {
        "id": "uFPO6DXFuYfI",
        "colab_type": "text"
      },
      "cell_type": "markdown",
      "source": [
        "### Creating a new database with no duplicates\n",
        "* DataBase Name : train_no_dup.db\n",
        "* Table name : no_dup_train"
      ]
    },
    {
      "metadata": {
        "id": "6CcOxmCFuYfK",
        "colab_type": "code",
        "colab": {}
      },
      "cell_type": "code",
      "source": [
        "#Creating a new database with no duplicates\n",
        "if not os.path.isfile('train_no_dup.db'):\n",
        "    disk_dup = create_engine(\"sqlite:///train_no_dup.db\")\n",
        "    no_dup = pd.DataFrame(df_no_dup, columns=['Title', 'Body', 'Tags'])\n",
        "    no_dup.to_sql('no_dup_train',disk_dup)"
      ],
      "execution_count": 0,
      "outputs": []
    },
    {
      "metadata": {
        "id": "dZ9Wem6cuYfN",
        "colab_type": "text"
      },
      "cell_type": "markdown",
      "source": [
        "## Removing UnWanted Columns from the  no_dup_train table in train_no_dup.db"
      ]
    },
    {
      "metadata": {
        "id": "dbf7HNNguYfO",
        "colab_type": "code",
        "outputId": "938340ef-c477-4cff-cda9-36c94c1b104d",
        "colab": {
          "base_uri": "https://localhost:8080/",
          "height": 34
        }
      },
      "cell_type": "code",
      "source": [
        "#This method seems more appropriate to work with this much data.\n",
        "#creating the connection with database file.\n",
        "if os.path.isfile('train_no_dup.db'):\n",
        "    start = datetime.now()\n",
        "    con = sqlite3.connect('train_no_dup.db')\n",
        "    tag_data = pd.read_sql_query(\"\"\"SELECT Tags FROM no_dup_train\"\"\", con)\n",
        "    #Always remember to close the database\n",
        "    con.close()\n",
        "\n",
        "    # Let's now drop unwanted column.\n",
        "    tag_data.drop(tag_data.index[0], inplace=True)\n",
        "    #Printing first 5 columns from our data frame\n",
        "    tag_data.head()\n",
        "    print(\"Time taken to run this cell :\", datetime.now() - start)\n",
        "else:\n",
        "    print(\"Please download the train.db file from drive or run the above cells to genarate train.db file\")"
      ],
      "execution_count": 0,
      "outputs": [
        {
          "output_type": "stream",
          "text": [
            "Time taken to run this cell : 0:03:47.831341\n"
          ],
          "name": "stdout"
        }
      ]
    },
    {
      "metadata": {
        "id": "dUvhgCYbuYfS",
        "colab_type": "text"
      },
      "cell_type": "markdown",
      "source": [
        "### Text to Vectors Conversion using BOW Method\n",
        "### Here we are converting Tags in each dataPoint to vectors"
      ]
    },
    {
      "metadata": {
        "id": "s16dZHPfuYfT",
        "colab_type": "code",
        "colab": {}
      },
      "cell_type": "code",
      "source": [
        "# Importing & Initializing the \"CountVectorizer\" object, which \n",
        "#is scikit-learn's bag of words tool.\n",
        "\n",
        "#by default 'split()' will tokenize each tag using space.\n",
        "vectorizer = CountVectorizer(tokenizer = lambda x: x.split())\n",
        "# fit_transform() does two functions: First, it fits the model\n",
        "# and learns the vocabulary; second, it transforms our training data\n",
        "# into feature vectors. The input to fit_transform should be a list of strings.\n",
        "tag_dtm = vectorizer.fit_transform(tag_data['Tags'])"
      ],
      "execution_count": 0,
      "outputs": []
    },
    {
      "metadata": {
        "id": "0Wy2YgJjuYfW",
        "colab_type": "code",
        "outputId": "a83b6777-e245-4d31-d855-948654b7e04e",
        "colab": {
          "base_uri": "https://localhost:8080/",
          "height": 51
        }
      },
      "cell_type": "code",
      "source": [
        "print(\"Number of data points :\", tag_dtm.shape[0])\n",
        "print(\"Number of unique tags :\", tag_dtm.shape[1])"
      ],
      "execution_count": 0,
      "outputs": [
        {
          "output_type": "stream",
          "text": [
            "Number of data points : 4206314\n",
            "Number of unique tags : 42048\n"
          ],
          "name": "stdout"
        }
      ]
    },
    {
      "metadata": {
        "id": "v_gjq-1juYfa",
        "colab_type": "code",
        "outputId": "e2e70ac6-4e2f-46d3-e320-2e5da6fbffb5",
        "colab": {
          "base_uri": "https://localhost:8080/",
          "height": 54
        }
      },
      "cell_type": "code",
      "source": [
        "#'get_feature_name()' gives us the vocabulary.\n",
        "tags = vectorizer.get_feature_names()\n",
        "#Lets look at the tags we have.\n",
        "print(\"Some of the tags we have :\", tags[:10])"
      ],
      "execution_count": 0,
      "outputs": [
        {
          "output_type": "stream",
          "text": [
            "Some of the tags we have : ['.a', '.app', '.asp.net-mvc', '.aspxauth', '.bash-profile', '.class-file', '.cs-file', '.doc', '.drv', '.ds-store']\n"
          ],
          "name": "stdout"
        }
      ]
    },
    {
      "metadata": {
        "id": "GzwqRLHduYfi",
        "colab_type": "code",
        "colab": {}
      },
      "cell_type": "code",
      "source": [
        "# https://stackoverflow.com/questions/15115765/how-to-access-sparse-matrix-elements\n",
        "#Lets now store the document term matrix in a dictionary.\n",
        "freqs = tag_dtm.sum(axis=0).A1\n",
        "result = dict(zip(tags, freqs))"
      ],
      "execution_count": 0,
      "outputs": []
    },
    {
      "metadata": {
        "id": "QtavRPOAuYfn",
        "colab_type": "code",
        "outputId": "3f791309-9cb5-4a63-aea7-ee4a2d11d1d1",
        "colab": {
          "base_uri": "https://localhost:8080/",
          "height": 204
        }
      },
      "cell_type": "code",
      "source": [
        "#Saving this dictionary to csv files.\n",
        "if not os.path.isfile('tag_counts_dict_dtm.csv'):\n",
        "    with open('tag_counts_dict_dtm.csv', 'w') as csv_file:\n",
        "        writer = csv.writer(csv_file)\n",
        "        for key, value in result.items():\n",
        "            writer.writerow([key, value])\n",
        "tag_df = pd.read_csv(\"tag_counts_dict_dtm.csv\", names=['Tags', 'Counts'])\n",
        "tag_df.head()"
      ],
      "execution_count": 0,
      "outputs": [
        {
          "output_type": "execute_result",
          "data": {
            "text/html": [
              "<div>\n",
              "<style scoped>\n",
              "    .dataframe tbody tr th:only-of-type {\n",
              "        vertical-align: middle;\n",
              "    }\n",
              "\n",
              "    .dataframe tbody tr th {\n",
              "        vertical-align: top;\n",
              "    }\n",
              "\n",
              "    .dataframe thead th {\n",
              "        text-align: right;\n",
              "    }\n",
              "</style>\n",
              "<table border=\"1\" class=\"dataframe\">\n",
              "  <thead>\n",
              "    <tr style=\"text-align: right;\">\n",
              "      <th></th>\n",
              "      <th>Tags</th>\n",
              "      <th>Counts</th>\n",
              "    </tr>\n",
              "  </thead>\n",
              "  <tbody>\n",
              "    <tr>\n",
              "      <th>0</th>\n",
              "      <td>.a</td>\n",
              "      <td>18</td>\n",
              "    </tr>\n",
              "    <tr>\n",
              "      <th>1</th>\n",
              "      <td>.app</td>\n",
              "      <td>37</td>\n",
              "    </tr>\n",
              "    <tr>\n",
              "      <th>2</th>\n",
              "      <td>.asp.net-mvc</td>\n",
              "      <td>1</td>\n",
              "    </tr>\n",
              "    <tr>\n",
              "      <th>3</th>\n",
              "      <td>.aspxauth</td>\n",
              "      <td>21</td>\n",
              "    </tr>\n",
              "    <tr>\n",
              "      <th>4</th>\n",
              "      <td>.bash-profile</td>\n",
              "      <td>138</td>\n",
              "    </tr>\n",
              "  </tbody>\n",
              "</table>\n",
              "</div>"
            ],
            "text/plain": [
              "            Tags  Counts\n",
              "0             .a      18\n",
              "1           .app      37\n",
              "2   .asp.net-mvc       1\n",
              "3      .aspxauth      21\n",
              "4  .bash-profile     138"
            ]
          },
          "metadata": {
            "tags": []
          },
          "execution_count": 23
        }
      ]
    },
    {
      "metadata": {
        "id": "9ntzEk8uuYfr",
        "colab_type": "code",
        "colab": {}
      },
      "cell_type": "code",
      "source": [
        "tag_df_sorted = tag_df.sort_values(['Counts'], ascending=False)\n",
        "tag_counts = tag_df_sorted['Counts'].values"
      ],
      "execution_count": 0,
      "outputs": []
    },
    {
      "metadata": {
        "id": "0VcStGFmuYfw",
        "colab_type": "code",
        "outputId": "e0b2a50e-2165-4702-a33c-5d7d46e6de8c",
        "colab": {
          "base_uri": "https://localhost:8080/",
          "height": 376
        }
      },
      "cell_type": "code",
      "source": [
        "plt.plot(tag_counts)\n",
        "plt.title(\"Distribution of number of times tag appeared questions\")\n",
        "plt.grid()\n",
        "plt.xlabel(\"Tag number\")\n",
        "plt.ylabel(\"Number of times tag appeared\")\n",
        "plt.show()"
      ],
      "execution_count": 0,
      "outputs": [
        {
          "output_type": "display_data",
          "data": {
            "image/png": "[encoded data removed]",
            "text/plain": [
              "<Figure size 576x396 with 1 Axes>"
            ]
          },
          "metadata": {
            "tags": []
          }
        }
      ]
    },
    {
      "metadata": {
        "id": "yVdFpeqouYf1",
        "colab_type": "code",
        "outputId": "1e81f11e-2bdf-43c9-b155-c98f4ba0411a",
        "colab": {
          "base_uri": "https://localhost:8080/",
          "height": 1056
        }
      },
      "cell_type": "code",
      "source": [
        "plt.plot(tag_counts[0:10000])\n",
        "plt.title('first 10k tags: Distribution of number of times tag appeared questions')\n",
        "plt.grid()\n",
        "plt.xlabel(\"Tag number\")\n",
        "plt.ylabel(\"Number of times tag appeared\")\n",
        "plt.show()\n",
        "print(len(tag_counts[0:10000:25]), tag_counts[0:10000:25])"
      ],
      "execution_count": 0,
      "outputs": [
        {
          "output_type": "display_data",
          "data": {
            "image/png": "[encoded data removed]",
            "text/plain": [
              "<Figure size 576x396 with 1 Axes>"
            ]
          },
          "metadata": {
            "tags": []
          }
        },
        {
          "output_type": "stream",
          "text": [
            "400 [331505  44829  22429  17728  13364  11162  10029   9148   8054   7151\n",
            "   6466   5865   5370   4983   4526   4281   4144   3929   3750   3593\n",
            "   3453   3299   3123   2989   2891   2738   2647   2527   2431   2331\n",
            "   2259   2186   2097   2020   1959   1900   1828   1770   1723   1673\n",
            "   1631   1574   1532   1479   1448   1406   1365   1328   1300   1266\n",
            "   1245   1222   1197   1181   1158   1139   1121   1101   1076   1056\n",
            "   1038   1023   1006    983    966    952    938    926    911    891\n",
            "    882    869    856    841    830    816    804    789    779    770\n",
            "    752    743    733    725    712    702    688    678    671    658\n",
            "    650    643    634    627    616    607    598    589    583    577\n",
            "    568    559    552    545    540    533    526    518    512    506\n",
            "    500    495    490    485    480    477    469    465    457    450\n",
            "    447    442    437    432    426    422    418    413    408    403\n",
            "    398    393    388    385    381    378    374    370    367    365\n",
            "    361    357    354    350    347    344    342    339    336    332\n",
            "    330    326    323    319    315    312    309    307    304    301\n",
            "    299    296    293    291    289    286    284    281    278    276\n",
            "    275    272    270    268    265    262    260    258    256    254\n",
            "    252    250    249    247    245    243    241    239    238    236\n",
            "    234    233    232    230    228    226    224    222    220    219\n",
            "    217    215    214    212    210    209    207    205    204    203\n",
            "    201    200    199    198    196    194    193    192    191    189\n",
            "    188    186    185    183    182    181    180    179    178    177\n",
            "    175    174    172    171    170    169    168    167    166    165\n",
            "    164    162    161    160    159    158    157    156    156    155\n",
            "    154    153    152    151    150    149    149    148    147    146\n",
            "    145    144    143    142    142    141    140    139    138    137\n",
            "    137    136    135    134    134    133    132    131    130    130\n",
            "    129    128    128    127    126    126    125    124    124    123\n",
            "    123    122    122    121    120    120    119    118    118    117\n",
            "    117    116    116    115    115    114    113    113    112    111\n",
            "    111    110    109    109    108    108    107    106    106    106\n",
            "    105    105    104    104    103    103    102    102    101    101\n",
            "    100    100     99     99     98     98     97     97     96     96\n",
            "     95     95     94     94     93     93     93     92     92     91\n",
            "     91     90     90     89     89     88     88     87     87     86\n",
            "     86     86     85     85     84     84     83     83     83     82\n",
            "     82     82     81     81     80     80     80     79     79     78\n",
            "     78     78     78     77     77     76     76     76     75     75\n",
            "     75     74     74     74     73     73     73     73     72     72]\n"
          ],
          "name": "stdout"
        }
      ]
    },
    {
      "metadata": {
        "id": "dTnSJjuauYf5",
        "colab_type": "code",
        "outputId": "de077fc6-62e2-4242-baab-af95f93acc4c",
        "colab": {
          "base_uri": "https://localhost:8080/",
          "height": 716
        }
      },
      "cell_type": "code",
      "source": [
        "plt.plot(tag_counts[0:1000])\n",
        "plt.title('first 1k tags: Distribution of number of times tag appeared questions')\n",
        "plt.grid()\n",
        "plt.xlabel(\"Tag number\")\n",
        "plt.ylabel(\"Number of times tag appeared\")\n",
        "plt.show()\n",
        "print(len(tag_counts[0:1000:5]), tag_counts[0:1000:5])"
      ],
      "execution_count": 0,
      "outputs": [
        {
          "output_type": "display_data",
          "data": {
            "image/png": "[encoded data removed]",
            "text/plain": [
              "<Figure size 576x396 with 1 Axes>"
            ]
          },
          "metadata": {
            "tags": []
          }
        },
        {
          "output_type": "stream",
          "text": [
            "200 [331505 221533 122769  95160  62023  44829  37170  31897  26925  24537\n",
            "  22429  21820  20957  19758  18905  17728  15533  15097  14884  13703\n",
            "  13364  13157  12407  11658  11228  11162  10863  10600  10350  10224\n",
            "  10029   9884   9719   9411   9252   9148   9040   8617   8361   8163\n",
            "   8054   7867   7702   7564   7274   7151   7052   6847   6656   6553\n",
            "   6466   6291   6183   6093   5971   5865   5760   5577   5490   5411\n",
            "   5370   5283   5207   5107   5066   4983   4891   4785   4658   4549\n",
            "   4526   4487   4429   4335   4310   4281   4239   4228   4195   4159\n",
            "   4144   4088   4050   4002   3957   3929   3874   3849   3818   3797\n",
            "   3750   3703   3685   3658   3615   3593   3564   3521   3505   3483\n",
            "   3453   3427   3396   3363   3326   3299   3272   3232   3196   3168\n",
            "   3123   3094   3073   3050   3012   2989   2984   2953   2934   2903\n",
            "   2891   2844   2819   2784   2754   2738   2726   2708   2681   2669\n",
            "   2647   2621   2604   2594   2556   2527   2510   2482   2460   2444\n",
            "   2431   2409   2395   2380   2363   2331   2312   2297   2290   2281\n",
            "   2259   2246   2222   2211   2198   2186   2162   2142   2132   2107\n",
            "   2097   2078   2057   2045   2036   2020   2011   1994   1971   1965\n",
            "   1959   1952   1940   1932   1912   1900   1879   1865   1855   1841\n",
            "   1828   1821   1813   1801   1782   1770   1760   1747   1741   1734\n",
            "   1723   1707   1697   1688   1683   1673   1665   1656   1646   1639]\n"
          ],
          "name": "stdout"
        }
      ]
    },
    {
      "metadata": {
        "id": "9e_W25fLuYf8",
        "colab_type": "code",
        "outputId": "6db561c9-ab3b-4183-e108-432416d9ecfd",
        "colab": {
          "base_uri": "https://localhost:8080/",
          "height": 546
        }
      },
      "cell_type": "code",
      "source": [
        "plt.plot(tag_counts[0:500])\n",
        "plt.title('first 500 tags: Distribution of number of times tag appeared questions')\n",
        "plt.grid()\n",
        "plt.xlabel(\"Tag number\")\n",
        "plt.ylabel(\"Number of times tag appeared\")\n",
        "plt.show()\n",
        "print(len(tag_counts[0:500:5]), tag_counts[0:500:5])"
      ],
      "execution_count": 0,
      "outputs": [
        {
          "output_type": "display_data",
          "data": {
            "image/png": "[encoded data removed]",
            "text/plain": [
              "<Figure size 576x396 with 1 Axes>"
            ]
          },
          "metadata": {
            "tags": []
          }
        },
        {
          "output_type": "stream",
          "text": [
            "100 [331505 221533 122769  95160  62023  44829  37170  31897  26925  24537\n",
            "  22429  21820  20957  19758  18905  17728  15533  15097  14884  13703\n",
            "  13364  13157  12407  11658  11228  11162  10863  10600  10350  10224\n",
            "  10029   9884   9719   9411   9252   9148   9040   8617   8361   8163\n",
            "   8054   7867   7702   7564   7274   7151   7052   6847   6656   6553\n",
            "   6466   6291   6183   6093   5971   5865   5760   5577   5490   5411\n",
            "   5370   5283   5207   5107   5066   4983   4891   4785   4658   4549\n",
            "   4526   4487   4429   4335   4310   4281   4239   4228   4195   4159\n",
            "   4144   4088   4050   4002   3957   3929   3874   3849   3818   3797\n",
            "   3750   3703   3685   3658   3615   3593   3564   3521   3505   3483]\n"
          ],
          "name": "stdout"
        }
      ]
    },
    {
      "metadata": {
        "id": "9HikbkdluYgA",
        "colab_type": "code",
        "outputId": "76f58eea-4f05-4906-a6cd-e9668c225360",
        "colab": {
          "base_uri": "https://localhost:8080/",
          "height": 410
        }
      },
      "cell_type": "code",
      "source": [
        "plt.plot(tag_counts[0:100], c='b')\n",
        "plt.scatter(x=list(range(0,100,5)), y=tag_counts[0:100:5], c='orange', label=\"quantiles with 0.05 intervals\")\n",
        "# quantiles with 0.25 difference\n",
        "plt.scatter(x=list(range(0,100,25)), y=tag_counts[0:100:25], c='m', label = \"quantiles with 0.25 intervals\")\n",
        "\n",
        "for x,y in zip(list(range(0,100,25)), tag_counts[0:100:25]):\n",
        "    plt.annotate(s=\"({} , {})\".format(x,y), xy=(x,y), xytext=(x-0.05, y+500))\n",
        "\n",
        "plt.title('first 100 tags: Distribution of number of times tag appeared questions')\n",
        "plt.grid()\n",
        "plt.xlabel(\"Tag number\")\n",
        "plt.ylabel(\"Number of times tag appeared\")\n",
        "plt.legend()\n",
        "plt.show()\n",
        "print(len(tag_counts[0:100:5]), tag_counts[0:100:5])"
      ],
      "execution_count": 0,
      "outputs": [
        {
          "output_type": "display_data",
          "data": {
            "image/png": "[encoded data removed]",
            "text/plain": [
              "<Figure size 576x396 with 1 Axes>"
            ]
          },
          "metadata": {
            "tags": []
          }
        },
        {
          "output_type": "stream",
          "text": [
            "20 [331505 221533 122769  95160  62023  44829  37170  31897  26925  24537\n",
            "  22429  21820  20957  19758  18905  17728  15533  15097  14884  13703]\n"
          ],
          "name": "stdout"
        }
      ]
    },
    {
      "metadata": {
        "id": "DcfhpPv4uYgE",
        "colab_type": "code",
        "outputId": "e6223c58-c663-4f5b-f5fa-e447eab8af93",
        "colab": {
          "base_uri": "https://localhost:8080/",
          "height": 51
        }
      },
      "cell_type": "code",
      "source": [
        "# Store tags greater than 10K in one list\n",
        "lst_tags_gt_10k = tag_df[tag_df.Counts>10000].Tags\n",
        "#Print the length of the list\n",
        "print ('{} Tags are used more than 10000 times'.format(len(lst_tags_gt_10k)))\n",
        "# Store tags greater than 100K in one list\n",
        "lst_tags_gt_100k = tag_df[tag_df.Counts>100000].Tags\n",
        "#Print the length of the list.\n",
        "print ('{} Tags are used more than 100000 times'.format(len(lst_tags_gt_100k)))"
      ],
      "execution_count": 0,
      "outputs": [
        {
          "output_type": "stream",
          "text": [
            "153 Tags are used more than 10000 times\n",
            "14 Tags are used more than 100000 times\n"
          ],
          "name": "stdout"
        }
      ]
    },
    {
      "metadata": {
        "id": "5k2OQ5KZuYgI",
        "colab_type": "code",
        "outputId": "3b9c8b43-ab70-4dfe-9e3e-c95e622a5a20",
        "colab": {
          "base_uri": "https://localhost:8080/",
          "height": 51
        }
      },
      "cell_type": "code",
      "source": [
        "#Storing the count of tag in each question in list 'tag_count'\n",
        "tag_quest_count = tag_dtm.sum(axis=1).tolist()\n",
        "#Converting each value in the 'tag_quest_count' to integer.\n",
        "tag_quest_count=[int(j) for i in tag_quest_count for j in i]\n",
        "print ('We have total {} datapoints.'.format(len(tag_quest_count)))\n",
        "\n",
        "print(tag_quest_count[:5])"
      ],
      "execution_count": 0,
      "outputs": [
        {
          "output_type": "stream",
          "text": [
            "We have total 4206314 datapoints.\n",
            "[3, 4, 2, 2, 3]\n"
          ],
          "name": "stdout"
        }
      ]
    },
    {
      "metadata": {
        "id": "fZXolJipuYgK",
        "colab_type": "code",
        "outputId": "929fdae1-0da3-4d29-8a88-d569ae34411a",
        "colab": {
          "base_uri": "https://localhost:8080/",
          "height": 68
        }
      },
      "cell_type": "code",
      "source": [
        "print( \"Maximum number of tags per question: %d\"%max(tag_quest_count))\n",
        "print( \"Minimum number of tags per question: %d\"%min(tag_quest_count))\n",
        "print( \"Avg. number of tags per question: %f\"% ((sum(tag_quest_count)*1.0)/len(tag_quest_count)))"
      ],
      "execution_count": 0,
      "outputs": [
        {
          "output_type": "stream",
          "text": [
            "Maximum number of tags per question: 5\n",
            "Minimum number of tags per question: 1\n",
            "Avg. number of tags per question: 2.899440\n"
          ],
          "name": "stdout"
        }
      ]
    },
    {
      "metadata": {
        "id": "mo6jFeimuYgR",
        "colab_type": "code",
        "outputId": "4dd28571-3a89-45d0-e551-a7ddde7ee590",
        "colab": {
          "base_uri": "https://localhost:8080/",
          "height": 376
        }
      },
      "cell_type": "code",
      "source": [
        "sns.countplot(tag_quest_count, palette='gist_rainbow')\n",
        "plt.title(\"Number of tags in the questions \")\n",
        "plt.xlabel(\"Number of Tags\")\n",
        "plt.ylabel(\"Number of questions\")\n",
        "plt.show()"
      ],
      "execution_count": 0,
      "outputs": [
        {
          "output_type": "display_data",
          "data": {
            "image/png": "[encoded data removed]",
            "text/plain": [
              "<Figure size 576x396 with 1 Axes>"
            ]
          },
          "metadata": {
            "tags": []
          }
        }
      ]
    },
    {
      "metadata": {
        "id": "CfuU63CTuYgX",
        "colab_type": "code",
        "outputId": "42e1999e-749a-4528-96de-4120c1536c47",
        "colab": {
          "base_uri": "https://localhost:8080/",
          "height": 483
        }
      },
      "cell_type": "code",
      "source": [
        "# Ploting word cloud\n",
        "start = datetime.now()\n",
        "\n",
        "# Lets first convert the 'result' dictionary to 'list of tuples'\n",
        "tup = dict(result.items())\n",
        "#Initializing WordCloud using frequencies of tags.\n",
        "wordcloud = WordCloud(    background_color='black',\n",
        "                          width=1600,\n",
        "                          height=800,\n",
        "                    ).generate_from_frequencies(tup)\n",
        "\n",
        "fig = plt.figure(figsize=(12,12))\n",
        "plt.imshow(wordcloud)\n",
        "plt.axis('off')\n",
        "plt.tight_layout(pad=0)\n",
        "fig.savefig(\"tag.png\")\n",
        "plt.show()\n",
        "print(\"Time taken to run this cell :\", datetime.now() - start)"
      ],
      "execution_count": 0,
      "outputs": [
        {
          "output_type": "display_data",
          "data": {
            "image/png": "[encoded data removed]",
            "text/plain": [
              "<Figure size 864x864 with 1 Axes>"
            ]
          },
          "metadata": {
            "tags": []
          }
        },
        {
          "output_type": "stream",
          "text": [
            "Time taken to run this cell : 0:00:03.670664\n"
          ],
          "name": "stdout"
        }
      ]
    },
    {
      "metadata": {
        "id": "krIuD5kQuYgb",
        "colab_type": "code",
        "outputId": "b7175842-cf8d-4a74-ee94-e2864a948ef0",
        "colab": {
          "base_uri": "https://localhost:8080/",
          "height": 421
        }
      },
      "cell_type": "code",
      "source": [
        "i=np.arange(30)\n",
        "tag_df_sorted.head(30).plot(kind='bar')\n",
        "plt.title('Frequency of top 20 tags')\n",
        "plt.xticks(i, tag_df_sorted['Tags'])\n",
        "plt.xlabel('Tags')\n",
        "plt.ylabel('Counts')\n",
        "plt.show()"
      ],
      "execution_count": 0,
      "outputs": [
        {
          "output_type": "display_data",
          "data": {
            "image/png": "[encoded data removed]",
            "text/plain": [
              "<Figure size 576x396 with 1 Axes>"
            ]
          },
          "metadata": {
            "tags": []
          }
        }
      ]
    },
    {
      "metadata": {
        "id": "RkmTWbgiuYgg",
        "colab_type": "code",
        "colab": {}
      },
      "cell_type": "code",
      "source": [
        ""
      ],
      "execution_count": 0,
      "outputs": []
    },
    {
      "metadata": {
        "id": "Tza6okXvuYgk",
        "colab_type": "text"
      },
      "cell_type": "markdown",
      "source": [
        "## 3.3 Cleaning and preprocessing of Questions\n"
      ]
    },
    {
      "metadata": {
        "id": "cpyJCgAE0jmF",
        "colab_type": "code",
        "outputId": "2b32fc48-ef4b-4afa-b87c-6859f0d1785f",
        "colab": {
          "base_uri": "https://localhost:8080/",
          "height": 68
        }
      },
      "cell_type": "code",
      "source": [
        "import nltk\n",
        "nltk.download('stopwords')"
      ],
      "execution_count": 0,
      "outputs": [
        {
          "output_type": "stream",
          "text": [
            "[nltk_data] Downloading package stopwords to /root/nltk_data...\n",
            "[nltk_data]   Package stopwords is already up-to-date!\n"
          ],
          "name": "stdout"
        },
        {
          "output_type": "execute_result",
          "data": {
            "text/plain": [
              "True"
            ]
          },
          "metadata": {
            "tags": []
          },
          "execution_count": 44
        }
      ]
    },
    {
      "metadata": {
        "id": "9-bjecHWuYgm",
        "colab_type": "code",
        "colab": {}
      },
      "cell_type": "code",
      "source": [
        "def striphtml(data):\n",
        "    cleanr = re.compile('<.*?>')\n",
        "    cleantext = re.sub(cleanr, ' ', str(data))\n",
        "    return cleantext\n",
        "stop_words = set(stopwords.words('english'))\n",
        "stemmer = SnowballStemmer(\"english\")"
      ],
      "execution_count": 0,
      "outputs": []
    },
    {
      "metadata": {
        "id": "gL92NbTauYgo",
        "colab_type": "code",
        "outputId": "5e530b61-f9c6-47e8-82e6-f8cf915ab046",
        "colab": {
          "base_uri": "https://localhost:8080/",
          "height": 51
        }
      },
      "cell_type": "code",
      "source": [
        "#http://www.sqlitetutorial.net/sqlite-python/create-tables/\n",
        "def create_connection(db_file):\n",
        "    \"\"\" create a database connection to the SQLite database\n",
        "        specified by db_file\n",
        "    :param db_file: database file\n",
        "    :return: Connection object or None\n",
        "    \"\"\"\n",
        "    try:\n",
        "        conn = sqlite3.connect(db_file)\n",
        "        return conn\n",
        "    except Error as e:\n",
        "        print(e)\n",
        " \n",
        "    return None\n",
        "\n",
        "def create_table(conn, create_table_sql):\n",
        "    \"\"\" create a table from the create_table_sql statement\n",
        "    :param conn: Connection object\n",
        "    :param create_table_sql: a CREATE TABLE statement\n",
        "    :return:\n",
        "    \"\"\"\n",
        "    try:\n",
        "        c = conn.cursor()\n",
        "        c.execute(create_table_sql)\n",
        "    except Error as e:\n",
        "        print(e)\n",
        "        \n",
        "def checkTableExists(dbcon):\n",
        "    cursr = dbcon.cursor()\n",
        "    str = \"select name from sqlite_master where type='table'\"\n",
        "    table_names = cursr.execute(str)\n",
        "    print(\"Tables in the databse:\")\n",
        "    tables =table_names.fetchall() \n",
        "    print(tables[0][0])\n",
        "    return(len(tables))\n",
        "\n",
        "def create_database_table(database, query):\n",
        "    conn = create_connection(database)\n",
        "    if conn is not None:\n",
        "        create_table(conn, query)\n",
        "        checkTableExists(conn)\n",
        "    else:\n",
        "        print(\"Error! cannot create the database connection.\")\n",
        "    conn.close()\n",
        "\n",
        "sql_create_table = \"\"\"CREATE TABLE IF NOT EXISTS QuestionsProcessed (question text NOT NULL, code text, tags text, words_pre integer, words_post integer, is_code integer);\"\"\"\n",
        "create_database_table(\"Processed.db\", sql_create_table)"
      ],
      "execution_count": 0,
      "outputs": [
        {
          "output_type": "stream",
          "text": [
            "Tables in the databse:\n",
            "QuestionsProcessed\n"
          ],
          "name": "stdout"
        }
      ]
    },
    {
      "metadata": {
        "id": "xaqcw3WiuYgt",
        "colab_type": "code",
        "outputId": "5dc4c361-600a-475e-a1dc-9a96a97b9ddc",
        "colab": {
          "base_uri": "https://localhost:8080/",
          "height": 85
        }
      },
      "cell_type": "code",
      "source": [
        "# http://www.sqlitetutorial.net/sqlite-delete/\n",
        "# https://stackoverflow.com/questions/2279706/select-random-row-from-a-sqlite-table\n",
        "start = datetime.now()\n",
        "read_db = 'train_no_dup.db'\n",
        "write_db = 'Processed.db'\n",
        "if os.path.isfile(read_db):\n",
        "    conn_r = create_connection(read_db)\n",
        "    if conn_r is not None:\n",
        "        reader =conn_r.cursor()\n",
        "        reader.execute(\"SELECT Title, Body, Tags From no_dup_train ORDER BY RANDOM() LIMIT 1000000;\")\n",
        "\n",
        "if os.path.isfile(write_db):\n",
        "    conn_w = create_connection(write_db)\n",
        "    if conn_w is not None:\n",
        "        tables = checkTableExists(conn_w)\n",
        "        writer =conn_w.cursor()\n",
        "        if tables != 0:\n",
        "            writer.execute(\"DELETE FROM QuestionsProcessed WHERE 1\")\n",
        "            print(\"Cleared All the rows\")\n",
        "print(\"Time taken to run this cell :\", datetime.now() - start)"
      ],
      "execution_count": 0,
      "outputs": [
        {
          "output_type": "stream",
          "text": [
            "Tables in the databse:\n",
            "QuestionsProcessed\n",
            "Cleared All the rows\n",
            "Time taken to run this cell : 0:50:54.987591\n"
          ],
          "name": "stdout"
        }
      ]
    },
    {
      "metadata": {
        "id": "YBhjtwTkuYgw",
        "colab_type": "code",
        "colab": {}
      },
      "cell_type": "code",
      "source": [
        "#http://www.bernzilla.com/2008/05/13/selecting-a-random-row-from-an-sqlite-table/\n",
        "\n",
        "start = datetime.now()\n",
        "preprocessed_data_list=[]\n",
        "reader.fetchone()\n",
        "questions_with_code=0\n",
        "len_pre=0\n",
        "len_post=0\n",
        "questions_proccesed = 0\n",
        "for row in reader:\n",
        "\n",
        "    is_code = 0\n",
        "\n",
        "    title, question, tags = row[0], row[1], row[2]\n",
        "\n",
        "    if '<code>' in question:\n",
        "        questions_with_code+=1\n",
        "        is_code = 1\n",
        "    x = len(question)+len(title)\n",
        "    len_pre+=x\n",
        "\n",
        "    code = str(re.findall(r'<code>(.*?)</code>', question, flags=re.DOTALL))\n",
        "\n",
        "    question=re.sub('<code>(.*?)</code>', '', question, flags=re.MULTILINE|re.DOTALL)\n",
        "    question=striphtml(question.encode('utf-8'))\n",
        "\n",
        "    title=title.encode('utf-8')\n",
        "\n",
        "    question=str(title)+\" \"+str(question)\n",
        "    question=re.sub(r'[^A-Za-z]+',' ',question)\n",
        "    words=word_tokenize(str(question.lower()))\n",
        "\n",
        "    #Removing all single letter and and stopwords from question exceptt for the letter 'c'\n",
        "    question=' '.join(str(stemmer.stem(j)) for j in words if j not in stop_words and (len(j)!=1 or j=='c'))\n",
        "\n",
        "    len_post+=len(question)\n",
        "    tup = (question,code,tags,x,len(question),is_code)\n",
        "    questions_proccesed += 1\n",
        "    writer.execute(\"insert into QuestionsProcessed(question,code,tags,words_pre,words_post,is_code) values (?,?,?,?,?,?)\",tup)\n",
        "    if (questions_proccesed%100000==0):\n",
        "        print(\"number of questions completed=\",questions_proccesed)\n",
        "\n",
        "no_dup_avg_len_pre=(len_pre*1.0)/questions_proccesed\n",
        "no_dup_avg_len_post=(len_post*1.0)/questions_proccesed\n",
        "\n",
        "print( \"Avg. length of questions(Title+Body) before processing: %d\"%no_dup_avg_len_pre)\n",
        "print( \"Avg. length of questions(Title+Body) after processing: %d\"%no_dup_avg_len_post)\n",
        "print (\"Percent of questions containing code: %d\"%((questions_with_code*100.0)/questions_proccesed))\n",
        "\n",
        "print(\"Time taken to run this cell :\", datetime.now() - start)"
      ],
      "execution_count": 0,
      "outputs": []
    },
    {
      "metadata": {
        "id": "w25bQMseuYgz",
        "colab_type": "code",
        "colab": {}
      },
      "cell_type": "code",
      "source": [
        "# dont forget to close the connections, or else you will end up with locks\n",
        "conn_r.commit()\n",
        "conn_w.commit()\n",
        "conn_r.close()\n",
        "conn_w.close()"
      ],
      "execution_count": 0,
      "outputs": []
    },
    {
      "metadata": {
        "id": "KCDNKM7vuYg3",
        "colab_type": "code",
        "colab": {}
      },
      "cell_type": "code",
      "source": [
        "if os.path.isfile(write_db):\n",
        "    conn_r = create_connection(write_db)\n",
        "    if conn_r is not None:\n",
        "        reader =conn_r.cursor()\n",
        "        reader.execute(\"SELECT question From QuestionsProcessed LIMIT 10\")\n",
        "        print(\"Questions after preprocessed\")\n",
        "        print('='*100)\n",
        "        reader.fetchone()\n",
        "        for row in reader:\n",
        "            print(row)\n",
        "            print('-'*100)\n",
        "conn_r.commit()\n",
        "conn_r.close()"
      ],
      "execution_count": 0,
      "outputs": []
    },
    {
      "metadata": {
        "id": "nmehzPCiuYg6",
        "colab_type": "code",
        "colab": {}
      },
      "cell_type": "code",
      "source": [
        "#Taking 1 Million entries to a dataframe.\n",
        "write_db = 'Processed.db'\n",
        "if os.path.isfile(write_db):\n",
        "    conn_r = create_connection(write_db)\n",
        "    if conn_r is not None:\n",
        "        preprocessed_data = pd.read_sql_query(\"\"\"SELECT question, Tags FROM QuestionsProcessed limit 50000\"\"\", conn_r)\n",
        "conn_r.commit()\n",
        "conn_r.close()"
      ],
      "execution_count": 0,
      "outputs": []
    },
    {
      "metadata": {
        "id": "Q3xXqwUCuYhB",
        "colab_type": "code",
        "outputId": "203bea38-d5d9-496d-d844-08b46a1ca9a4",
        "colab": {}
      },
      "cell_type": "code",
      "source": [
        "preprocessed_data.head()"
      ],
      "execution_count": 0,
      "outputs": [
        {
          "output_type": "execute_result",
          "data": {
            "text/html": [
              "<div>\n",
              "<style scoped>\n",
              "    .dataframe tbody tr th:only-of-type {\n",
              "        vertical-align: middle;\n",
              "    }\n",
              "\n",
              "    .dataframe tbody tr th {\n",
              "        vertical-align: top;\n",
              "    }\n",
              "\n",
              "    .dataframe thead th {\n",
              "        text-align: right;\n",
              "    }\n",
              "</style>\n",
              "<table border=\"1\" class=\"dataframe\">\n",
              "  <thead>\n",
              "    <tr style=\"text-align: right;\">\n",
              "      <th></th>\n",
              "      <th>question</th>\n",
              "      <th>tags</th>\n",
              "    </tr>\n",
              "  </thead>\n",
              "  <tbody>\n",
              "    <tr>\n",
              "      <th>0</th>\n",
              "      <td>chang cpu soni vaio pcg grx tri everywher find...</td>\n",
              "      <td>cpu motherboard sony-vaio replacement disassembly</td>\n",
              "    </tr>\n",
              "    <tr>\n",
              "      <th>1</th>\n",
              "      <td>display size grayscal qimag qt abl display ima...</td>\n",
              "      <td>c++ qt qt4</td>\n",
              "    </tr>\n",
              "    <tr>\n",
              "      <th>2</th>\n",
              "      <td>datagrid selecteditem set back null eventtocom...</td>\n",
              "      <td>mvvm silverlight-4.0</td>\n",
              "    </tr>\n",
              "    <tr>\n",
              "      <th>3</th>\n",
              "      <td>filter string collect base listview item resol...</td>\n",
              "      <td>c# winforms string listview collections</td>\n",
              "    </tr>\n",
              "    <tr>\n",
              "      <th>4</th>\n",
              "      <td>disabl home button without use type keyguard c...</td>\n",
              "      <td>android android-layout android-manifest androi...</td>\n",
              "    </tr>\n",
              "  </tbody>\n",
              "</table>\n",
              "</div>"
            ],
            "text/plain": [
              "                                            question  \\\n",
              "0  chang cpu soni vaio pcg grx tri everywher find...   \n",
              "1  display size grayscal qimag qt abl display ima...   \n",
              "2  datagrid selecteditem set back null eventtocom...   \n",
              "3  filter string collect base listview item resol...   \n",
              "4  disabl home button without use type keyguard c...   \n",
              "\n",
              "                                                tags  \n",
              "0  cpu motherboard sony-vaio replacement disassembly  \n",
              "1                                         c++ qt qt4  \n",
              "2                               mvvm silverlight-4.0  \n",
              "3            c# winforms string listview collections  \n",
              "4  android android-layout android-manifest androi...  "
            ]
          },
          "metadata": {
            "tags": []
          },
          "execution_count": 6
        }
      ]
    },
    {
      "metadata": {
        "id": "GTmCcdl0uYhG",
        "colab_type": "code",
        "outputId": "780cfa37-4641-407a-af6c-6da892a428c4",
        "colab": {}
      },
      "cell_type": "code",
      "source": [
        "print(\"number of data points in sample :\", preprocessed_data.shape[0])\n",
        "print(\"number of dimensions :\", preprocessed_data.shape[1])"
      ],
      "execution_count": 0,
      "outputs": [
        {
          "output_type": "stream",
          "text": [
            "number of data points in sample : 50000\n",
            "number of dimensions : 2\n"
          ],
          "name": "stdout"
        }
      ]
    },
    {
      "metadata": {
        "id": "Zb9chpcMuYhM",
        "colab_type": "code",
        "colab": {}
      },
      "cell_type": "code",
      "source": [
        ""
      ],
      "execution_count": 0,
      "outputs": []
    },
    {
      "metadata": {
        "id": "SoH-HIASuYhS",
        "colab_type": "code",
        "colab": {}
      },
      "cell_type": "code",
      "source": [
        ""
      ],
      "execution_count": 0,
      "outputs": []
    },
    {
      "metadata": {
        "id": "-ABcmAsYuYhX",
        "colab_type": "code",
        "colab": {}
      },
      "cell_type": "code",
      "source": [
        "# binary='true' will give a binary vectorizer\n",
        "vectorizer = CountVectorizer(tokenizer = lambda x: x.split(), binary='true')\n",
        "multilabel_y = vectorizer.fit_transform(preprocessed_data['tags'])"
      ],
      "execution_count": 0,
      "outputs": []
    },
    {
      "metadata": {
        "collapsed": true,
        "id": "pPzwgMxFuYhc",
        "colab_type": "code",
        "outputId": "787762ab-e82e-466b-aebc-76d2e1c5eebf",
        "colab": {}
      },
      "cell_type": "code",
      "source": [
        " multilabel_y.sum(axis=0).tolist()[0]"
      ],
      "execution_count": 0,
      "outputs": [
        {
          "output_type": "execute_result",
          "data": {
            "text/plain": [
              "[1,\n",
              " 2,\n",
              " 1,\n",
              " 1,\n",
              " 2,\n",
              " 1,\n",
              " 1,\n",
              " 180,\n",
              " 1,\n",
              " 1316,\n",
              " 2,\n",
              " 13,\n",
              " 1,\n",
              " 54,\n",
              " 58,\n",
              " 9,\n",
              " 6,\n",
              " 1,\n",
              " 1,\n",
              " 1,\n",
              " 1,\n",
              " 1,\n",
              " 1,\n",
              " 1,\n",
              " 1,\n",
              " 2,\n",
              " 1,\n",
              " 1,\n",
              " 1,\n",
              " 1,\n",
              " 1,\n",
              " 1,\n",
              " 30,\n",
              " 49,\n",
              " 8,\n",
              " 23,\n",
              " 3,\n",
              " 1,\n",
              " 1,\n",
              " 1,\n",
              " 10,\n",
              " 2,\n",
              " 2,\n",
              " 6,\n",
              " 9,\n",
              " 2,\n",
              " 1,\n",
              " 1,\n",
              " 1,\n",
              " 49,\n",
              " 1,\n",
              " 1,\n",
              " 2,\n",
              " 1,\n",
              " 3,\n",
              " 1,\n",
              " 1,\n",
              " 1,\n",
              " 2,\n",
              " 2,\n",
              " 1,\n",
              " 1,\n",
              " 13,\n",
              " 14,\n",
              " 1,\n",
              " 1,\n",
              " 1,\n",
              " 1,\n",
              " 2,\n",
              " 2,\n",
              " 3,\n",
              " 1,\n",
              " 3,\n",
              " 1,\n",
              " 2,\n",
              " 1,\n",
              " 1,\n",
              " 1,\n",
              " 3,\n",
              " 1,\n",
              " 1,\n",
              " 5,\n",
              " 1,\n",
              " 3,\n",
              " 5,\n",
              " 1,\n",
              " 1,\n",
              " 1,\n",
              " 1,\n",
              " 1,\n",
              " 3,\n",
              " 8,\n",
              " 1,\n",
              " 5,\n",
              " 67,\n",
              " 18,\n",
              " 1,\n",
              " 1,\n",
              " 1,\n",
              " 4,\n",
              " 1,\n",
              " 1,\n",
              " 1,\n",
              " 9,\n",
              " 1,\n",
              " 1,\n",
              " 2,\n",
              " 2,\n",
              " 1,\n",
              " 4,\n",
              " 4,\n",
              " 1,\n",
              " 3,\n",
              " 5,\n",
              " 1,\n",
              " 1,\n",
              " 6,\n",
              " 16,\n",
              " 2,\n",
              " 9,\n",
              " 3,\n",
              " 1,\n",
              " 1,\n",
              " 11,\n",
              " 1,\n",
              " 5,\n",
              " 1,\n",
              " 1,\n",
              " 3,\n",
              " 1,\n",
              " 2,\n",
              " 1,\n",
              " 2,\n",
              " 1,\n",
              " 8,\n",
              " 1,\n",
              " 1,\n",
              " 3,\n",
              " 3,\n",
              " 1,\n",
              " 1,\n",
              " 6,\n",
              " 2,\n",
              " 1,\n",
              " 20,\n",
              " 2,\n",
              " 18,\n",
              " 1,\n",
              " 6,\n",
              " 1,\n",
              " 6,\n",
              " 10,\n",
              " 1,\n",
              " 1,\n",
              " 2,\n",
              " 3,\n",
              " 51,\n",
              " 1,\n",
              " 14,\n",
              " 192,\n",
              " 3,\n",
              " 3,\n",
              " 1,\n",
              " 6,\n",
              " 89,\n",
              " 1,\n",
              " 5,\n",
              " 1,\n",
              " 1,\n",
              " 8,\n",
              " 1,\n",
              " 1,\n",
              " 72,\n",
              " 2,\n",
              " 1,\n",
              " 3,\n",
              " 19,\n",
              " 51,\n",
              " 2,\n",
              " 1,\n",
              " 2,\n",
              " 3,\n",
              " 4,\n",
              " 1,\n",
              " 2,\n",
              " 1,\n",
              " 3,\n",
              " 2,\n",
              " 2,\n",
              " 2,\n",
              " 2,\n",
              " 1,\n",
              " 3,\n",
              " 11,\n",
              " 9,\n",
              " 11,\n",
              " 1,\n",
              " 2,\n",
              " 7,\n",
              " 2,\n",
              " 1,\n",
              " 1,\n",
              " 3,\n",
              " 2,\n",
              " 1,\n",
              " 1,\n",
              " 2,\n",
              " 2,\n",
              " 1,\n",
              " 6,\n",
              " 6,\n",
              " 1,\n",
              " 2,\n",
              " 2,\n",
              " 5,\n",
              " 1,\n",
              " 1,\n",
              " 2,\n",
              " 2,\n",
              " 1,\n",
              " 1,\n",
              " 1,\n",
              " 2,\n",
              " 2,\n",
              " 22,\n",
              " 1,\n",
              " 13,\n",
              " 5,\n",
              " 12,\n",
              " 4,\n",
              " 48,\n",
              " 1,\n",
              " 25,\n",
              " 5,\n",
              " 1,\n",
              " 1,\n",
              " 1,\n",
              " 1,\n",
              " 1,\n",
              " 4,\n",
              " 4,\n",
              " 7,\n",
              " 5,\n",
              " 3,\n",
              " 1,\n",
              " 1,\n",
              " 1,\n",
              " 5,\n",
              " 2,\n",
              " 2,\n",
              " 1,\n",
              " 1,\n",
              " 5,\n",
              " 1,\n",
              " 1,\n",
              " 1,\n",
              " 1,\n",
              " 2,\n",
              " 1,\n",
              " 3,\n",
              " 1,\n",
              " 1,\n",
              " 3,\n",
              " 2,\n",
              " 2,\n",
              " 2,\n",
              " 4,\n",
              " 1,\n",
              " 20,\n",
              " 3,\n",
              " 1,\n",
              " 1,\n",
              " 1,\n",
              " 8,\n",
              " 2,\n",
              " 1,\n",
              " 2,\n",
              " 1,\n",
              " 1,\n",
              " 8,\n",
              " 15,\n",
              " 1,\n",
              " 6,\n",
              " 13,\n",
              " 1,\n",
              " 1,\n",
              " 1,\n",
              " 2,\n",
              " 2,\n",
              " 1,\n",
              " 2,\n",
              " 2,\n",
              " 35,\n",
              " 2,\n",
              " 1,\n",
              " 3,\n",
              " 1,\n",
              " 1,\n",
              " 1,\n",
              " 4,\n",
              " 563,\n",
              " 1,\n",
              " 1,\n",
              " 2,\n",
              " 4,\n",
              " 1,\n",
              " 12,\n",
              " 1,\n",
              " 6,\n",
              " 2,\n",
              " 1,\n",
              " 10,\n",
              " 6,\n",
              " 12,\n",
              " 1,\n",
              " 1,\n",
              " 1,\n",
              " 1,\n",
              " 1,\n",
              " 1,\n",
              " 11,\n",
              " 8,\n",
              " 4,\n",
              " 9,\n",
              " 2,\n",
              " 46,\n",
              " 3,\n",
              " 29,\n",
              " 1,\n",
              " 1,\n",
              " 9,\n",
              " 24,\n",
              " 258,\n",
              " 1,\n",
              " 1,\n",
              " 27,\n",
              " 15,\n",
              " 1,\n",
              " 1,\n",
              " 5,\n",
              " 21,\n",
              " 1,\n",
              " 1,\n",
              " 2,\n",
              " 1,\n",
              " 3,\n",
              " 2,\n",
              " 2,\n",
              " 3,\n",
              " 1,\n",
              " 1,\n",
              " 2,\n",
              " 1,\n",
              " 3,\n",
              " 2,\n",
              " 2,\n",
              " 2,\n",
              " 2,\n",
              " 2,\n",
              " 1,\n",
              " 1,\n",
              " 1,\n",
              " 2,\n",
              " 1,\n",
              " 2,\n",
              " 2,\n",
              " 1,\n",
              " 16,\n",
              " 3,\n",
              " 1,\n",
              " 3,\n",
              " 4,\n",
              " 6,\n",
              " 71,\n",
              " 1,\n",
              " 1,\n",
              " 2,\n",
              " 1,\n",
              " 4,\n",
              " 2,\n",
              " 32,\n",
              " 2,\n",
              " 2,\n",
              " 1,\n",
              " 43,\n",
              " 1,\n",
              " 1,\n",
              " 7,\n",
              " 1,\n",
              " 3,\n",
              " 3,\n",
              " 1,\n",
              " 1,\n",
              " 3,\n",
              " 1,\n",
              " 3,\n",
              " 1,\n",
              " 2,\n",
              " 4,\n",
              " 1,\n",
              " 4,\n",
              " 1,\n",
              " 1,\n",
              " 1,\n",
              " 61,\n",
              " 2,\n",
              " 5,\n",
              " 3,\n",
              " 2,\n",
              " 6,\n",
              " 2,\n",
              " 1,\n",
              " 16,\n",
              " 13,\n",
              " 1,\n",
              " 2673,\n",
              " 1,\n",
              " 1,\n",
              " 2,\n",
              " 1,\n",
              " 3,\n",
              " 1,\n",
              " 19,\n",
              " 30,\n",
              " 2,\n",
              " 1,\n",
              " 2,\n",
              " 9,\n",
              " 1,\n",
              " 1,\n",
              " 2,\n",
              " 1,\n",
              " 6,\n",
              " 26,\n",
              " 2,\n",
              " 1,\n",
              " 1,\n",
              " 1,\n",
              " 5,\n",
              " 3,\n",
              " 15,\n",
              " 1,\n",
              " 9,\n",
              " 2,\n",
              " 1,\n",
              " 1,\n",
              " 5,\n",
              " 15,\n",
              " 1,\n",
              " 1,\n",
              " 3,\n",
              " 3,\n",
              " 3,\n",
              " 1,\n",
              " 4,\n",
              " 1,\n",
              " 7,\n",
              " 55,\n",
              " 2,\n",
              " 25,\n",
              " 3,\n",
              " 6,\n",
              " 4,\n",
              " 2,\n",
              " 1,\n",
              " 3,\n",
              " 6,\n",
              " 1,\n",
              " 1,\n",
              " 68,\n",
              " 3,\n",
              " 2,\n",
              " 116,\n",
              " 4,\n",
              " 2,\n",
              " 6,\n",
              " 4,\n",
              " 47,\n",
              " 1,\n",
              " 2,\n",
              " 3,\n",
              " 1,\n",
              " 1,\n",
              " 12,\n",
              " 6,\n",
              " 2,\n",
              " 15,\n",
              " 13,\n",
              " 1,\n",
              " 9,\n",
              " 2,\n",
              " 2,\n",
              " 1,\n",
              " 33,\n",
              " 1,\n",
              " 3,\n",
              " 1,\n",
              " 4,\n",
              " 2,\n",
              " 1,\n",
              " 2,\n",
              " 1,\n",
              " 1,\n",
              " 8,\n",
              " 3,\n",
              " 1,\n",
              " 1,\n",
              " 3,\n",
              " 1,\n",
              " 1,\n",
              " 7,\n",
              " 1,\n",
              " 5,\n",
              " 1,\n",
              " 2,\n",
              " 3,\n",
              " 12,\n",
              " 6,\n",
              " 4,\n",
              " 5,\n",
              " 4,\n",
              " 1,\n",
              " 1,\n",
              " 3,\n",
              " 2,\n",
              " 1,\n",
              " 5,\n",
              " 1,\n",
              " 6,\n",
              " 2,\n",
              " 6,\n",
              " 9,\n",
              " 1,\n",
              " 15,\n",
              " 39,\n",
              " 1,\n",
              " 2,\n",
              " 2,\n",
              " 3,\n",
              " 2,\n",
              " 3,\n",
              " 31,\n",
              " 1,\n",
              " 1,\n",
              " 9,\n",
              " 1,\n",
              " 7,\n",
              " 114,\n",
              " 1,\n",
              " 1,\n",
              " 2,\n",
              " 1,\n",
              " 37,\n",
              " 6,\n",
              " 3,\n",
              " 2,\n",
              " 7,\n",
              " 5,\n",
              " 5,\n",
              " 1,\n",
              " 7,\n",
              " 1,\n",
              " 60,\n",
              " 1,\n",
              " 1,\n",
              " 1,\n",
              " 3,\n",
              " 1,\n",
              " 1,\n",
              " 4,\n",
              " 4,\n",
              " 1,\n",
              " 3,\n",
              " 1,\n",
              " 21,\n",
              " 1,\n",
              " 6,\n",
              " 2,\n",
              " 1,\n",
              " 1,\n",
              " 1,\n",
              " 1,\n",
              " 1,\n",
              " 7,\n",
              " 1,\n",
              " 1,\n",
              " 231,\n",
              " 1,\n",
              " 12,\n",
              " 1,\n",
              " 2,\n",
              " 7,\n",
              " 1,\n",
              " 1,\n",
              " 2,\n",
              " 3,\n",
              " 2,\n",
              " 1,\n",
              " 1,\n",
              " 5,\n",
              " 2,\n",
              " 2,\n",
              " 1,\n",
              " 2,\n",
              " 2,\n",
              " 2,\n",
              " 4,\n",
              " 16,\n",
              " 1,\n",
              " 1,\n",
              " 1,\n",
              " 1,\n",
              " 198,\n",
              " 2,\n",
              " 1,\n",
              " 1,\n",
              " 5,\n",
              " 1,\n",
              " 1,\n",
              " 10,\n",
              " 176,\n",
              " 1,\n",
              " 1,\n",
              " 7,\n",
              " 1,\n",
              " 1,\n",
              " 6,\n",
              " 1,\n",
              " 1,\n",
              " 9,\n",
              " 1,\n",
              " 1,\n",
              " 2,\n",
              " 2,\n",
              " 1,\n",
              " 29,\n",
              " 1,\n",
              " 7,\n",
              " 5,\n",
              " 1,\n",
              " 6,\n",
              " 1,\n",
              " 22,\n",
              " 1,\n",
              " 1,\n",
              " 4,\n",
              " 7,\n",
              " 1,\n",
              " 1,\n",
              " 2,\n",
              " 5,\n",
              " 34,\n",
              " 3,\n",
              " 6,\n",
              " 5,\n",
              " 1,\n",
              " 18,\n",
              " 34,\n",
              " 106,\n",
              " 1,\n",
              " 1,\n",
              " 1,\n",
              " 5,\n",
              " 1,\n",
              " 3,\n",
              " 3,\n",
              " 2,\n",
              " 1,\n",
              " 2,\n",
              " 4,\n",
              " 1,\n",
              " 1,\n",
              " 7,\n",
              " 1,\n",
              " 1,\n",
              " 2,\n",
              " 1,\n",
              " 2,\n",
              " 1,\n",
              " 1,\n",
              " 1,\n",
              " 1,\n",
              " 1,\n",
              " 6,\n",
              " 1,\n",
              " 1,\n",
              " 1,\n",
              " 4,\n",
              " 2,\n",
              " 2,\n",
              " 5,\n",
              " 1,\n",
              " 2,\n",
              " 2,\n",
              " 1,\n",
              " 16,\n",
              " 3,\n",
              " 12,\n",
              " 1,\n",
              " 2,\n",
              " 5,\n",
              " 1,\n",
              " 4,\n",
              " 1,\n",
              " 1,\n",
              " 3,\n",
              " 1,\n",
              " 1,\n",
              " 3,\n",
              " 1,\n",
              " 12,\n",
              " 1,\n",
              " 1,\n",
              " 66,\n",
              " 1,\n",
              " 5,\n",
              " 1,\n",
              " 6,\n",
              " 5,\n",
              " 2,\n",
              " 2,\n",
              " 18,\n",
              " 4,\n",
              " 1,\n",
              " 3,\n",
              " 1,\n",
              " 1,\n",
              " 2,\n",
              " 1,\n",
              " 1,\n",
              " 1,\n",
              " 1,\n",
              " 27,\n",
              " 2,\n",
              " 8,\n",
              " 1,\n",
              " 4,\n",
              " 20,\n",
              " 1,\n",
              " 3,\n",
              " 4,\n",
              " 1,\n",
              " 2,\n",
              " 2,\n",
              " 1,\n",
              " 1,\n",
              " 5,\n",
              " 2,\n",
              " 2,\n",
              " 1,\n",
              " 1,\n",
              " 1,\n",
              " 47,\n",
              " 464,\n",
              " 4,\n",
              " 3,\n",
              " 3,\n",
              " 2,\n",
              " 2,\n",
              " 17,\n",
              " 1,\n",
              " 1,\n",
              " 1,\n",
              " 1,\n",
              " 1,\n",
              " 16,\n",
              " 1,\n",
              " 1,\n",
              " 1,\n",
              " 1,\n",
              " 1,\n",
              " 10,\n",
              " 1,\n",
              " 1,\n",
              " 2,\n",
              " 17,\n",
              " 1,\n",
              " 1,\n",
              " 53,\n",
              " 1,\n",
              " 2,\n",
              " 1538,\n",
              " 1,\n",
              " 6,\n",
              " 5,\n",
              " 9,\n",
              " 5,\n",
              " 28,\n",
              " 1,\n",
              " 1,\n",
              " 17,\n",
              " 527,\n",
              " 90,\n",
              " 324,\n",
              " 1,\n",
              " 63,\n",
              " 1,\n",
              " 2,\n",
              " 2,\n",
              " 15,\n",
              " 1,\n",
              " 1,\n",
              " 3,\n",
              " 2,\n",
              " 1,\n",
              " 28,\n",
              " 12,\n",
              " 1,\n",
              " 1,\n",
              " 2,\n",
              " 4,\n",
              " 1,\n",
              " 2,\n",
              " 1,\n",
              " 2,\n",
              " 3,\n",
              " 2,\n",
              " 16,\n",
              " 76,\n",
              " 1,\n",
              " 1,\n",
              " 1,\n",
              " 2,\n",
              " 1,\n",
              " 10,\n",
              " 2,\n",
              " 3,\n",
              " 1,\n",
              " 12,\n",
              " 1,\n",
              " 7,\n",
              " 1,\n",
              " 2,\n",
              " 13,\n",
              " 10,\n",
              " 1,\n",
              " 3,\n",
              " 3,\n",
              " 1,\n",
              " 1,\n",
              " 1,\n",
              " 8,\n",
              " 7,\n",
              " 2,\n",
              " 2,\n",
              " 76,\n",
              " 1,\n",
              " 1,\n",
              " 1,\n",
              " 2,\n",
              " 1,\n",
              " 3,\n",
              " 1,\n",
              " 1,\n",
              " 1,\n",
              " 4,\n",
              " 2,\n",
              " 1,\n",
              " 10,\n",
              " 2,\n",
              " 2,\n",
              " 3,\n",
              " 1,\n",
              " 2,\n",
              " 7,\n",
              " 8,\n",
              " 1,\n",
              " 1,\n",
              " 1,\n",
              " 1,\n",
              " 1,\n",
              " 9,\n",
              " 10,\n",
              " 1,\n",
              " 4,\n",
              " 1,\n",
              " 1,\n",
              " 1,\n",
              " 41,\n",
              " 1,\n",
              " 1,\n",
              " 1,\n",
              " 4,\n",
              " 1,\n",
              " 117,\n",
              " 1,\n",
              " 1,\n",
              " 6,\n",
              " 9,\n",
              " 1,\n",
              " 1,\n",
              " 1,\n",
              " 3,\n",
              " 1,\n",
              " 1,\n",
              " 1,\n",
              " 4,\n",
              " 3,\n",
              " 1,\n",
              " 2,\n",
              " 7,\n",
              " 109,\n",
              " 1,\n",
              " 1,\n",
              " 1,\n",
              " 6,\n",
              " 5,\n",
              " 1,\n",
              " 1,\n",
              " 1,\n",
              " 23,\n",
              " 1,\n",
              " 3,\n",
              " 1,\n",
              " 3,\n",
              " 1,\n",
              " 6,\n",
              " 1,\n",
              " 1,\n",
              " 1,\n",
              " 1,\n",
              " 1,\n",
              " 2,\n",
              " 4,\n",
              " 58,\n",
              " 3,\n",
              " 4,\n",
              " 1,\n",
              " 1,\n",
              " 2,\n",
              " 4,\n",
              " 1,\n",
              " 2,\n",
              " 1,\n",
              " 2,\n",
              " 1,\n",
              " 1,\n",
              " 1,\n",
              " 1,\n",
              " 7,\n",
              " 1,\n",
              " 1,\n",
              " 4,\n",
              " 8,\n",
              " 1,\n",
              " 1,\n",
              " 1,\n",
              " 2,\n",
              " 1,\n",
              " 10,\n",
              " 1,\n",
              " 2,\n",
              " 1,\n",
              " 2,\n",
              " 2,\n",
              " 1,\n",
              " 12,\n",
              " 1,\n",
              " 5,\n",
              " 14,\n",
              " 2,\n",
              " 42,\n",
              " 1,\n",
              " 2,\n",
              " 1,\n",
              " 3,\n",
              " 3,\n",
              " 1,\n",
              " 5,\n",
              " 2,\n",
              " 1,\n",
              " 4,\n",
              " 4,\n",
              " 1,\n",
              " 2,\n",
              " 1,\n",
              " 1,\n",
              " 3,\n",
              " 1,\n",
              " 3,\n",
              " 1,\n",
              " 3,\n",
              " 1,\n",
              " 1,\n",
              " 2,\n",
              " 1,\n",
              " 2,\n",
              " 1,\n",
              " 3,\n",
              " 3,\n",
              " 8,\n",
              " 4,\n",
              " 1,\n",
              " 2,\n",
              " 5,\n",
              " 14,\n",
              " 9,\n",
              " 1,\n",
              " 4,\n",
              " 2,\n",
              " ...]"
            ]
          },
          "metadata": {
            "tags": []
          },
          "execution_count": 9
        }
      ]
    },
    {
      "metadata": {
        "id": "7RFtniiSuYhf",
        "colab_type": "code",
        "outputId": "f861af79-3f47-4d88-ff06-9bd77f6faba1",
        "colab": {}
      },
      "cell_type": "code",
      "source": [
        "x=multilabel_y.sum(axis=1)\n",
        "x.shape\n",
        "np.count_nonzero"
      ],
      "execution_count": 0,
      "outputs": [
        {
          "output_type": "execute_result",
          "data": {
            "text/plain": [
              "<function numpy.core.numeric.count_nonzero(a, axis=None)>"
            ]
          },
          "metadata": {
            "tags": []
          },
          "execution_count": 10
        }
      ]
    },
    {
      "metadata": {
        "id": "uD4x4K-ruYhk",
        "colab_type": "code",
        "colab": {}
      },
      "cell_type": "code",
      "source": [
        "def tags_to_choose(n):\n",
        "    t = multilabel_y.sum(axis=0).tolist()[0]\n",
        "    sorted_tags_i = sorted(range(len(t)), key=lambda i: t[i], reverse=True)\n",
        "    multilabel_yn=multilabel_y[:,sorted_tags_i[:n]]\n",
        "    return multilabel_yn\n",
        "\n",
        "def questions_explained_fn(n):\n",
        "    multilabel_yn = tags_to_choose(n)\n",
        "    x= multilabel_yn.sum(axis=1)\n",
        "    return (np.count_nonzero(x==0))"
      ],
      "execution_count": 0,
      "outputs": []
    },
    {
      "metadata": {
        "id": "IN7WuTaluYho",
        "colab_type": "code",
        "colab": {}
      },
      "cell_type": "code",
      "source": [
        "questions_explained = []\n",
        "total_tags=multilabel_y.shape[1]\n",
        "total_qs=preprocessed_data.shape[0]\n",
        "for i in range(500, total_tags, 100):\n",
        "    questions_explained.append(np.round(((total_qs-questions_explained_fn(i))/total_qs)*100,3))"
      ],
      "execution_count": 0,
      "outputs": []
    },
    {
      "metadata": {
        "id": "kphQhgJ7uYhq",
        "colab_type": "code",
        "outputId": "7adaa675-1016-4e4a-c7fb-f0145aa7797e",
        "colab": {}
      },
      "cell_type": "code",
      "source": [
        "questions_explained"
      ],
      "execution_count": 0,
      "outputs": [
        {
          "output_type": "execute_result",
          "data": {
            "text/plain": [
              "[90.082,\n",
              " 91.27,\n",
              " 92.35,\n",
              " 92.988,\n",
              " 93.694,\n",
              " 94.246,\n",
              " 94.716,\n",
              " 95.028,\n",
              " 95.398,\n",
              " 95.69,\n",
              " 95.988,\n",
              " 96.232,\n",
              " 96.426,\n",
              " 96.696,\n",
              " 96.878,\n",
              " 97.056,\n",
              " 97.188,\n",
              " 97.31,\n",
              " 97.438,\n",
              " 97.558,\n",
              " 97.658,\n",
              " 97.798,\n",
              " 97.904,\n",
              " 97.972,\n",
              " 98.046,\n",
              " 98.122,\n",
              " 98.186,\n",
              " 98.254,\n",
              " 98.316,\n",
              " 98.386,\n",
              " 98.47,\n",
              " 98.532,\n",
              " 98.588,\n",
              " 98.634,\n",
              " 98.676,\n",
              " 98.726,\n",
              " 98.772,\n",
              " 98.81,\n",
              " 98.848,\n",
              " 98.878,\n",
              " 98.908,\n",
              " 98.938,\n",
              " 98.964,\n",
              " 98.994,\n",
              " 99.03,\n",
              " 99.054,\n",
              " 99.092,\n",
              " 99.112,\n",
              " 99.15,\n",
              " 99.174,\n",
              " 99.2,\n",
              " 99.22,\n",
              " 99.238,\n",
              " 99.25,\n",
              " 99.276,\n",
              " 99.3,\n",
              " 99.318,\n",
              " 99.348,\n",
              " 99.36,\n",
              " 99.38,\n",
              " 99.398,\n",
              " 99.416,\n",
              " 99.438,\n",
              " 99.454,\n",
              " 99.472,\n",
              " 99.504,\n",
              " 99.518,\n",
              " 99.53,\n",
              " 99.544,\n",
              " 99.562,\n",
              " 99.576,\n",
              " 99.594,\n",
              " 99.61,\n",
              " 99.632,\n",
              " 99.642,\n",
              " 99.65,\n",
              " 99.656,\n",
              " 99.666,\n",
              " 99.668,\n",
              " 99.674,\n",
              " 99.682,\n",
              " 99.69,\n",
              " 99.706,\n",
              " 99.712,\n",
              " 99.716,\n",
              " 99.724,\n",
              " 99.726,\n",
              " 99.734,\n",
              " 99.744,\n",
              " 99.75,\n",
              " 99.756,\n",
              " 99.762,\n",
              " 99.768,\n",
              " 99.774,\n",
              " 99.778,\n",
              " 99.788,\n",
              " 99.796,\n",
              " 99.804,\n",
              " 99.81,\n",
              " 99.816,\n",
              " 99.822,\n",
              " 99.828,\n",
              " 99.836,\n",
              " 99.838,\n",
              " 99.84,\n",
              " 99.846,\n",
              " 99.846,\n",
              " 99.848,\n",
              " 99.852,\n",
              " 99.856,\n",
              " 99.856,\n",
              " 99.86,\n",
              " 99.87,\n",
              " 99.874,\n",
              " 99.882,\n",
              " 99.894,\n",
              " 99.894,\n",
              " 99.896,\n",
              " 99.906,\n",
              " 99.914,\n",
              " 99.918,\n",
              " 99.918,\n",
              " 99.926,\n",
              " 99.934,\n",
              " 99.938,\n",
              " 99.944,\n",
              " 99.948,\n",
              " 99.956,\n",
              " 99.958,\n",
              " 99.962,\n",
              " 99.97,\n",
              " 99.974,\n",
              " 99.984,\n",
              " 99.988,\n",
              " 99.998]"
            ]
          },
          "metadata": {
            "tags": []
          },
          "execution_count": 13
        }
      ]
    },
    {
      "metadata": {
        "id": "uPz5tpf8uYhw",
        "colab_type": "code",
        "outputId": "2b8c06fd-851b-4566-cd19-beb052d8df03",
        "colab": {}
      },
      "cell_type": "code",
      "source": [
        "fig, ax = plt.subplots()\n",
        "ax.plot(questions_explained)\n",
        "xlabel = list(500+np.array(range(-50,450,50))*50)\n",
        "ax.set_xticklabels(xlabel)\n",
        "plt.xlabel(\"Number of tags\")\n",
        "plt.ylabel(\"Number Questions coverd partially\")\n",
        "plt.grid()\n",
        "plt.show()\n",
        "# you can choose any number of tags based on your computing power, minimun is 50(it covers 90% of the tags)\n",
        "print(\"with \",5500,\"tags we are covering \",questions_explained[50],\"% of questions\")"
      ],
      "execution_count": 0,
      "outputs": [
        {
          "output_type": "display_data",
          "data": {
            "image/png": "[encoded data removed]",
            "text/plain": [
              "<Figure size 432x288 with 1 Axes>"
            ]
          },
          "metadata": {
            "tags": [],
            "needs_background": "light"
          }
        },
        {
          "output_type": "stream",
          "text": [
            "with  5500 tags we are covering  99.2 % of questions\n"
          ],
          "name": "stdout"
        }
      ]
    },
    {
      "metadata": {
        "id": "aGOdXd-duYh0",
        "colab_type": "code",
        "outputId": "b8bbd704-6eca-46dc-a85e-7ac599754ec7",
        "colab": {}
      },
      "cell_type": "code",
      "source": [
        "multilabel_yx = tags_to_choose(5500)\n",
        "print(\"number of questions that are not covered :\", questions_explained_fn(5500),\"out of \", total_qs)"
      ],
      "execution_count": 0,
      "outputs": [
        {
          "output_type": "stream",
          "text": [
            "number of questions that are not covered : 400 out of  50000\n"
          ],
          "name": "stdout"
        }
      ]
    },
    {
      "metadata": {
        "id": "vbfYukA8uYh3",
        "colab_type": "code",
        "outputId": "e0c18b80-ec37-4eeb-b99b-b8d1b465eea5",
        "colab": {}
      },
      "cell_type": "code",
      "source": [
        "print(\"Number of tags in sample :\", multilabel_y.shape[1])\n",
        "print(\"number of tags taken :\", multilabel_yx.shape[1],\"(\",(multilabel_yx.shape[1]/multilabel_y.shape[1])*100,\"%)\")"
      ],
      "execution_count": 0,
      "outputs": [
        {
          "output_type": "stream",
          "text": [
            "Number of tags in sample : 13935\n",
            "number of tags taken : 5500 ( 39.46896304269824 %)\n"
          ],
          "name": "stdout"
        }
      ]
    },
    {
      "metadata": {
        "id": "V3y2e6j7uYh6",
        "colab_type": "code",
        "colab": {}
      },
      "cell_type": "code",
      "source": [
        "total_size=preprocessed_data.shape[0]\n",
        "train_size=int(0.80*total_size)\n",
        "\n",
        "x_train=preprocessed_data.head(train_size)\n",
        "x_test=preprocessed_data.tail(total_size - train_size)\n",
        "\n",
        "y_train = multilabel_yx[0:train_size,:]\n",
        "y_test = multilabel_yx[train_size:total_size,:]"
      ],
      "execution_count": 0,
      "outputs": []
    },
    {
      "metadata": {
        "id": "Y56KeosauYh9",
        "colab_type": "code",
        "outputId": "a0627f2a-f433-4f81-c9ee-015745c12abe",
        "colab": {}
      },
      "cell_type": "code",
      "source": [
        "print(\"Number of data points in train data :\", y_train.shape)\n",
        "print(\"Number of data points in test data :\", y_test.shape)"
      ],
      "execution_count": 0,
      "outputs": [
        {
          "output_type": "stream",
          "text": [
            "Number of data points in train data : (40000, 5500)\n",
            "Number of data points in test data : (10000, 5500)\n"
          ],
          "name": "stdout"
        }
      ]
    },
    {
      "metadata": {
        "id": "2jPgqNJwuYiA",
        "colab_type": "code",
        "colab": {}
      },
      "cell_type": "code",
      "source": [
        ""
      ],
      "execution_count": 0,
      "outputs": []
    },
    {
      "metadata": {
        "id": "ImGoGg49uYiD",
        "colab_type": "code",
        "colab": {}
      },
      "cell_type": "code",
      "source": [
        ""
      ],
      "execution_count": 0,
      "outputs": []
    },
    {
      "metadata": {
        "id": "uhQRWq5muYiF",
        "colab_type": "code",
        "outputId": "9ceb2645-acda-4149-a3a2-ecbbc91c8806",
        "colab": {}
      },
      "cell_type": "code",
      "source": [
        "start = datetime.now()\n",
        "vectorizer = TfidfVectorizer(min_df=0.00009, max_features=200000, smooth_idf=True, norm=\"l2\", \\\n",
        "                             tokenizer = lambda x: x.split(), sublinear_tf=False, ngram_range=(1,3))\n",
        "x_train_multilabel = vectorizer.fit_transform(x_train['question'])\n",
        "x_test_multilabel = vectorizer.transform(x_test['question'])\n",
        "print(\"Time taken to run this cell :\", datetime.now() - start)"
      ],
      "execution_count": 0,
      "outputs": [
        {
          "output_type": "stream",
          "text": [
            "Time taken to run this cell : 0:00:25.802866\n"
          ],
          "name": "stdout"
        }
      ]
    },
    {
      "metadata": {
        "id": "sUeuj5NauYiJ",
        "colab_type": "code",
        "outputId": "6917487b-0f86-41ad-d3f4-c52d7698a861",
        "colab": {}
      },
      "cell_type": "code",
      "source": [
        "start = datetime.now()\n",
        "vectorizer = CountVectorizer(min_df=0.00009, max_features=200000, \\\n",
        "                             tokenizer = lambda x: x.split(), ngram_range=(1,4))\n",
        "x_train_multilabel_bow = vectorizer.fit_transform(x_train['question'])\n",
        "x_test_multilabel_bow = vectorizer.transform(x_test['question'])\n",
        "print(\"Time taken to run this cell :\", datetime.now() - start)"
      ],
      "execution_count": 0,
      "outputs": [
        {
          "output_type": "stream",
          "text": [
            "Time taken to run this cell : 0:00:34.259962\n"
          ],
          "name": "stdout"
        }
      ]
    },
    {
      "metadata": {
        "id": "creOAlCjuYiN",
        "colab_type": "code",
        "colab": {}
      },
      "cell_type": "code",
      "source": [
        "# binary='true' will give a binary vectorizer\n",
        "#vectorizer = CountVectorizer(tokenizer = lambda x: x.split(), binary='true')\n",
        "#multilabel_y = vectorizer.fit_transform(preprocessed_data['tags'])"
      ],
      "execution_count": 0,
      "outputs": []
    },
    {
      "metadata": {
        "id": "-mBMnwD1uYiR",
        "colab_type": "code",
        "colab": {}
      },
      "cell_type": "code",
      "source": [
        "print(\"Dimensions of train data X:\",x_train_multilabel.shape, \"Y :\",y_train.shape)\n",
        "print(\"Dimensions of test data X:\",x_test_multilabel.shape,\"Y:\",y_test.shape)"
      ],
      "execution_count": 0,
      "outputs": []
    },
    {
      "metadata": {
        "id": "b217T3ITuYiV",
        "colab_type": "code",
        "outputId": "95801f37-5b54-4b4e-ce0e-01757cf6ef89",
        "colab": {}
      },
      "cell_type": "code",
      "source": [
        "print(\"Dimensions of train data X:\",x_train_multilabel_bow.shape, \"Y :\",y_train.shape)\n",
        "print(\"Dimensions of test data X:\",x_test_multilabel_bow.shape,\"Y:\",y_test.shape)"
      ],
      "execution_count": 0,
      "outputs": [
        {
          "output_type": "stream",
          "text": [
            "Dimensions of train data X: (40000, 106719) Y : (40000, 5500)\n",
            "Dimensions of test data X: (10000, 106719) Y: (10000, 5500)\n"
          ],
          "name": "stdout"
        }
      ]
    },
    {
      "metadata": {
        "id": "ZAAeddhcuYiY",
        "colab_type": "text"
      },
      "cell_type": "markdown",
      "source": [
        "## Logistic Regression with One Vs Rest"
      ]
    },
    {
      "metadata": {
        "id": "pny2gat7uYiY",
        "colab_type": "code",
        "colab": {}
      },
      "cell_type": "code",
      "source": [
        "# this will be taking so much time try not to run it, download the lr_with_equal_weight.pkl file and use to predict\n",
        "# This takes about 6-7 hours to run.\n",
        "classifier = OneVsRestClassifier(SGDClassifier(loss='log', alpha=0.00001, penalty='l1'), n_jobs=-1)\n",
        "classifier.fit(x_train_multilabel, y_train)\n",
        "predictions = classifier.predict(x_test_multilabel)\n",
        "\n",
        "print(\"accuracy :\",metrics.accuracy_score(y_test,predictions))\n",
        "print(\"macro f1 score :\",metrics.f1_score(y_test, predictions, average = 'macro'))\n",
        "print(\"micro f1 scoore :\",metrics.f1_score(y_test, predictions, average = 'micro'))\n",
        "print(\"hamming loss :\",metrics.hamming_loss(y_test,predictions))\n",
        "print(\"Precision recall report :\\n\",metrics.classification_report(y_test, predictions))\n"
      ],
      "execution_count": 0,
      "outputs": []
    },
    {
      "metadata": {
        "id": "WyiUXENjuYib",
        "colab_type": "code",
        "colab": {}
      },
      "cell_type": "code",
      "source": [
        "from sklearn.externals import joblib\n",
        "joblib.dump(classifier, 'lr_with_equal_weight.pkl') "
      ],
      "execution_count": 0,
      "outputs": []
    },
    {
      "metadata": {
        "id": "pNodh0cPNtLp",
        "colab_type": "code",
        "colab": {}
      },
      "cell_type": "code",
      "source": [
        ""
      ],
      "execution_count": 0,
      "outputs": []
    },
    {
      "metadata": {
        "id": "NqLUUsKBNvJs",
        "colab_type": "text"
      },
      "cell_type": "markdown",
      "source": [
        "## Machine Learning Models "
      ]
    },
    {
      "metadata": {
        "id": "1NNMUt7yuYid",
        "colab_type": "text"
      },
      "cell_type": "markdown",
      "source": [
        "### AS 1M DataPoints is tomuch for processing in my Google collab.so Decreasing it to 0.5M along with 500Tags\n",
        "### preparing data which consists of  0.5M Data points along with  3 times  giving weight to  title and  considering  500 Tags"
      ]
    },
    {
      "metadata": {
        "id": "uSBrGJvyuYif",
        "colab_type": "code",
        "outputId": "056d9213-441c-4e1c-ca61-2e93a24867ca",
        "colab": {
          "base_uri": "https://localhost:8080/",
          "height": 51
        }
      },
      "cell_type": "code",
      "source": [
        "sql_create_table = \"\"\"CREATE TABLE IF NOT EXISTS QuestionsProcessed (question text NOT NULL, code text, tags text, words_pre integer, words_post integer, is_code integer);\"\"\"\n",
        "create_database_table(\"Titlemoreweight.db\", sql_create_table )"
      ],
      "execution_count": 0,
      "outputs": [
        {
          "output_type": "stream",
          "text": [
            "Tables in the databse:\n",
            "QuestionsProcessed\n"
          ],
          "name": "stdout"
        }
      ]
    },
    {
      "metadata": {
        "id": "Vc9BCUlxuYii",
        "colab_type": "code",
        "outputId": "9da71d32-e48c-4e9e-b2db-eef85cc32734",
        "colab": {
          "base_uri": "https://localhost:8080/",
          "height": 68
        }
      },
      "cell_type": "code",
      "source": [
        "# http://www.sqlitetutorial.net/sqlite-delete/\n",
        "# https://stackoverflow.com/questions/2279706/select-random-row-from-a-sqlite-table\n",
        "\n",
        "read_db = 'train_no_dup.db'\n",
        "write_db = 'Titlemoreweight.db'\n",
        "train_datasize = 400000\n",
        "if os.path.isfile(read_db):\n",
        "    conn_r = create_connection(read_db)\n",
        "    if conn_r is not None:\n",
        "        reader =conn_r.cursor()\n",
        "        # for selecting first 0.5M rows\n",
        "        reader.execute(\"SELECT Title, Body, Tags From no_dup_train LIMIT 500001;\")\n",
        "        # for selecting random points\n",
        "        #reader.execute(\"SELECT Title, Body, Tags From no_dup_train ORDER BY RANDOM() LIMIT 500001;\")\n",
        "\n",
        "if os.path.isfile(write_db):\n",
        "    conn_w = create_connection(write_db)\n",
        "    if conn_w is not None:\n",
        "        tables = checkTableExists(conn_w)\n",
        "        writer =conn_w.cursor()\n",
        "        if tables != 0:\n",
        "            writer.execute(\"DELETE FROM QuestionsProcessed WHERE 1\")\n",
        "            print(\"Cleared All the rows\")"
      ],
      "execution_count": 0,
      "outputs": [
        {
          "output_type": "stream",
          "text": [
            "Tables in the databse:\n",
            "QuestionsProcessed\n",
            "Cleared All the rows\n"
          ],
          "name": "stdout"
        }
      ]
    },
    {
      "metadata": {
        "id": "erVL0WeFdcgx",
        "colab_type": "code",
        "outputId": "9e3f4f30-e0bf-4122-cfd1-5cc2387dc953",
        "colab": {
          "base_uri": "https://localhost:8080/",
          "height": 54
        }
      },
      "cell_type": "code",
      "source": [
        "a=0\n",
        "for row in reader:\n",
        "  a+=1\n",
        "  if(a<=5):\n",
        "    print(row)\n",
        "    break"
      ],
      "execution_count": 0,
      "outputs": [
        {
          "output_type": "stream",
          "text": [
            "('     Implementing Boundary Value Analysis of Software Testing in a C++ program?', '<pre><code>#include&lt;iostream&gt;\\n#include&lt;stdlib.h&gt;\\n\\nusing namespace std;\\n\\nint main()\\n{\\n         int n,a[n],x,c,u[n],m[n],e[n][4];\\n         cout&lt;&lt;\"Enter the number of variables\";\\n         cin&gt;&gt;n;\\n\\n         cout&lt;&lt;\"Enter the Lower, and Upper Limits of the variables\";\\n         for(int y=1; y&lt;n+1; y++)\\n         {\\n                 cin&gt;&gt;m[y];\\n                 cin&gt;&gt;u[y];\\n         }\\n         for(x=1; x&lt;n+1; x++)\\n         {\\n                 a[x] = (m[x] + u[x])/2;\\n         }\\n         c=(n*4)-4;\\n         for(int a1=1; a1&lt;n+1; a1++)\\n         {\\n\\n             e[a1][0] = m[a1];\\n             e[a1][1] = m[a1]+1;\\n             e[a1][2] = u[a1]-1;\\n             e[a1][3] = u[a1];\\n         }\\n         for(int i=1; i&lt;n+1; i++)\\n         {\\n            for(int l=1; l&lt;=i; l++)\\n            {\\n                 if(l!=1)\\n                 {\\n                    cout&lt;&lt;a[l]&lt;&lt;\"\\\\t\";\\n                 }\\n            }\\n            for(int j=0; j&lt;4; j++)\\n            {\\n                cout&lt;&lt;e[i][j];\\n                for(int k=0; k&lt;n-(i+1); k++)\\n                {\\n                    cout&lt;&lt;a[k]&lt;&lt;\"\\\\t\";\\n                }\\n                cout&lt;&lt;\"\\\\n\";\\n            }\\n        }    \\n\\n        system(\"PAUSE\");\\n        return 0;    \\n}\\n</code></pre>\\n\\n<p>The answer should come in the form of a table like</p>\\n\\n<pre><code>       1            50              50\\n       2            50              50\\n       99           50              50\\n       100          50              50\\n       50           1               50\\n       50           2               50\\n       50           99              50\\n       50           100             50\\n       50           50              1\\n       50           50              2\\n       50           50              99\\n       50           50              100\\n</code></pre>\\n\\n<p>if the no of inputs is 3 and their ranges are\\n1,100\\n1,100\\n1,100\\n(could be varied too)</p>\\n\\n<p>The output is not coming,can anyone correct the code or tell me what\\'s wrong?</p>\\n', 'c++ c')\n"
          ],
          "name": "stdout"
        }
      ]
    },
    {
      "metadata": {
        "id": "TqJmAUYsecD5",
        "colab_type": "code",
        "outputId": "7a6053e2-3e1c-4558-95e7-ff7363d369b0",
        "colab": {
          "base_uri": "https://localhost:8080/",
          "height": 68
        }
      },
      "cell_type": "code",
      "source": [
        "import nltk\n",
        "nltk.download('punkt')"
      ],
      "execution_count": 0,
      "outputs": [
        {
          "output_type": "stream",
          "text": [
            "[nltk_data] Downloading package punkt to /root/nltk_data...\n",
            "[nltk_data]   Package punkt is already up-to-date!\n"
          ],
          "name": "stdout"
        },
        {
          "output_type": "execute_result",
          "data": {
            "text/plain": [
              "True"
            ]
          },
          "metadata": {
            "tags": []
          },
          "execution_count": 50
        }
      ]
    },
    {
      "metadata": {
        "id": "0ejTtlPxuYio",
        "colab_type": "code",
        "outputId": "f3326563-1c9b-44d8-bc87-b44ad43f0534",
        "colab": {
          "base_uri": "https://localhost:8080/",
          "height": 153
        }
      },
      "cell_type": "code",
      "source": [
        "#http://www.bernzilla.com/2008/05/13/selecting-a-random-row-from-an-sqlite-table/\n",
        "start = datetime.now()\n",
        "preprocessed_data_list=[]\n",
        "reader.fetchone()\n",
        "questions_with_code=0\n",
        "len_pre=0\n",
        "len_post=0\n",
        "questions_proccesed = 0\n",
        "for row in reader:\n",
        "    \n",
        "    is_code = 0\n",
        "    \n",
        "    title, question, tags = row[0], row[1], str(row[2])\n",
        "    \n",
        "    if '<code>' in question:\n",
        "        questions_with_code+=1\n",
        "        is_code = 1\n",
        "    x = len(question)+len(title)\n",
        "    len_pre+=x\n",
        "    \n",
        "    code = str(re.findall(r'<code>(.*?)</code>', question, flags=re.DOTALL))\n",
        "    \n",
        "    question=re.sub('<code>(.*?)</code>', '', question, flags=re.MULTILINE|re.DOTALL)\n",
        "    question=striphtml(question.encode('utf-8'))\n",
        "    \n",
        "    title=title.encode('utf-8')\n",
        "    \n",
        "    # adding title three time to the data to increase its weight\n",
        "    # add tags string to the training data\n",
        "    \n",
        "    question=str(title)+\" \"+str(title)+\" \"+str(title)+\" \"+question\n",
        "    \n",
        "#     if questions_proccesed<=train_datasize:\n",
        "#         question=str(title)+\" \"+str(title)+\" \"+str(title)+\" \"+question+\" \"+str(tags)\n",
        "#     else:\n",
        "#         question=str(title)+\" \"+str(title)+\" \"+str(title)+\" \"+question\n",
        "\n",
        "    question=re.sub(r'[^A-Za-z0-9#+.\\-]+',' ',question)\n",
        "    words=word_tokenize(str(question.lower()))\n",
        "    \n",
        "    #Removing all single letter and and stopwords from question exceptt for the letter 'c'\n",
        "    question=' '.join(str(stemmer.stem(j)) for j in words if j not in stop_words and (len(j)!=1 or j=='c'))\n",
        "    \n",
        "    len_post+=len(question)\n",
        "    tup = (question,code,tags,x,len(question),is_code)\n",
        "    questions_proccesed += 1\n",
        "    writer.execute(\"insert into QuestionsProcessed(question,code,tags,words_pre,words_post,is_code) values (?,?,?,?,?,?)\",tup)\n",
        "    if (questions_proccesed%100000==0):\n",
        "        print(\"number of questions completed=\",questions_proccesed)\n",
        "\n",
        "no_dup_avg_len_pre=(len_pre*1.0)/questions_proccesed\n",
        "no_dup_avg_len_post=(len_post*1.0)/questions_proccesed\n",
        "\n",
        "print( \"Avg. length of questions(Title+Body) before processing: %d\"%no_dup_avg_len_pre)\n",
        "print( \"Avg. length of questions(Title+Body) after processing: %d\"%no_dup_avg_len_post)\n",
        "print (\"Percent of questions containing code: %d\"%((questions_with_code*100.0)/questions_proccesed))\n",
        "\n",
        "print(\"Time taken to run this cell :\", datetime.now() - start)"
      ],
      "execution_count": 0,
      "outputs": [
        {
          "output_type": "stream",
          "text": [
            "number of questions completed= 100000\n",
            "number of questions completed= 200000\n",
            "number of questions completed= 300000\n",
            "number of questions completed= 400000\n",
            "Avg. length of questions(Title+Body) before processing: 1239\n",
            "Avg. length of questions(Title+Body) after processing: 424\n",
            "Percent of questions containing code: 57\n",
            "Time taken to run this cell : 0:19:02.861504\n"
          ],
          "name": "stdout"
        }
      ]
    },
    {
      "metadata": {
        "id": "t5K_TIyuuYit",
        "colab_type": "code",
        "colab": {}
      },
      "cell_type": "code",
      "source": [
        "# never forget to close the conections or else we will end up with database locks\n",
        "conn_r.commit()\n",
        "conn_w.commit()\n",
        "conn_r.close()\n",
        "conn_w.close()"
      ],
      "execution_count": 0,
      "outputs": []
    },
    {
      "metadata": {
        "id": "hKM_G3G7uYiv",
        "colab_type": "code",
        "outputId": "163cf206-a25a-444a-84e5-4e86452d9644",
        "colab": {
          "base_uri": "https://localhost:8080/",
          "height": 377
        }
      },
      "cell_type": "code",
      "source": [
        "read_db = 'train_no_dup.db'\n",
        "write_db = 'Titlemoreweight.db'\n",
        "if os.path.isfile(write_db):\n",
        "    conn_r = create_connection(write_db)\n",
        "    if conn_r is not None:\n",
        "        reader =conn_r.cursor()\n",
        "        reader.execute(\"SELECT question From QuestionsProcessed LIMIT 10\")\n",
        "        print(\"Questions after preprocessed\")\n",
        "        print('='*100)\n",
        "        reader.fetchone()\n",
        "        for row in reader:\n",
        "            print(row)\n",
        "            print('-'*100)\n",
        "conn_r.commit()\n",
        "conn_r.close()"
      ],
      "execution_count": 0,
      "outputs": [
        {
          "output_type": "stream",
          "text": [
            "Questions after preprocessed\n",
            "====================================================================================================\n",
            "('java.lang.noclassdeffounderror javax servlet jsp tagext taglibraryvalid java.lang.noclassdeffounderror javax servlet jsp tagext taglibraryvalid java.lang.noclassdeffounderror javax servlet jsp tagext taglibraryvalid follow guid link instal jstl got follow error tri launch jsp page java.lang.noclassdeffounderror javax servlet jsp tagext taglibraryvalid taglib declar instal jstl 1.1 tomcat webapp tri project work also tri version 1.2 jstl still messag caus solv',)\n",
            "----------------------------------------------------------------------------------------------------\n",
            "('java.sql.sqlexcept microsoft odbc driver manag invalid descriptor index java.sql.sqlexcept microsoft odbc driver manag invalid descriptor index java.sql.sqlexcept microsoft odbc driver manag invalid descriptor index use follow code display caus solv',)\n",
            "----------------------------------------------------------------------------------------------------\n",
            "('better way updat feed fb php sdk better way updat feed fb php sdk better way updat feed fb php sdk novic facebook api read mani tutori still confused.i find post feed api method like correct second way use curl someth like way better',)\n",
            "----------------------------------------------------------------------------------------------------\n",
            "('btnadd click event open two window record ad btnadd click event open two window record ad btnadd click event open two window record ad open window search.aspx use code hav add button search.aspx nwhen insert record btnadd click event open anoth window nafter insert record close window',)\n",
            "----------------------------------------------------------------------------------------------------\n",
            "('sql inject issu prevent correct form submiss php sql inject issu prevent correct form submiss php sql inject issu prevent correct form submiss php check everyth think make sure input field safe type sql inject good news safe bad news one tag mess form submiss place even touch life figur exact html use templat file forgiv okay entir php script get execut see data post none forum field post problem use someth titl field none data get post current use print post see submit noth work flawless statement though also mention script work flawless local machin use host come across problem state list input test mess',)\n",
            "----------------------------------------------------------------------------------------------------\n",
            "('countabl subaddit lebesgu measur countabl subaddit lebesgu measur countabl subaddit lebesgu measur let lbrace rbrace sequenc set sigma -algebra mathcal want show left bigcup right leq sum left right countabl addit measur defin set sigma algebra mathcal think use monoton properti somewher proof start appreci littl help nthank ad han answer make follow addit construct given han answer clear bigcup bigcup cap emptyset neq left bigcup right left bigcup right sum left right also construct subset monoton left right leq left right final would sum leq sum result follow',)\n",
            "----------------------------------------------------------------------------------------------------\n",
            "('hql equival sql queri hql equival sql queri hql equival sql queri hql queri replac name class properti name error occur hql error',)\n",
            "----------------------------------------------------------------------------------------------------\n",
            "('undefin symbol architectur i386 objc class skpsmtpmessag referenc error undefin symbol architectur i386 objc class skpsmtpmessag referenc error undefin symbol architectur i386 objc class skpsmtpmessag referenc error import framework send email applic background import framework i.e skpsmtpmessag somebodi suggest get error collect2 ld return exit status import framework correct sorc taken framework follow mfmailcomposeviewcontrol question lock field updat answer drag drop folder project click copi nthat',)\n",
            "----------------------------------------------------------------------------------------------------\n",
            "('java.lang.nosuchmethoderror javax.servlet.servletcontext.geteffectivesessiontrackingmod ljava util set java.lang.nosuchmethoderror javax.servlet.servletcontext.geteffectivesessiontrackingmod ljava util set java.lang.nosuchmethoderror javax.servlet.servletcontext.geteffectivesessiontrackingmod ljava util set want servlet process input standalon java program deploy servlet jboss put servlet.class file web-inf class web.xml gave servlet url map .do java client program open connect servlet use url object use localhost 8080 .do get folow error error org.apache.catalina.connector.coyoteadapt except error occur contain request process java.lang.nosuchmethoderror javax.servlet.servletcontext.geteffectivesessiontrackingmod ljava util set org.apache.catalina.connector.coyoteadapter.postparserequest coyoteadapter.java 567 org.apache.catalina.connector.coyoteadapter.servic coyoteadapter.java 359 org.apache.coyote.http11.http11processor.process http11processor.java 877 org.apache.coyote.http11.http11protocol http11connectionhandler.process http11protocol.java 654 org.apache.tomcat.util.net.jioendpoint worker.run jioendpoint.java 951 web.xml file content',)\n",
            "----------------------------------------------------------------------------------------------------\n"
          ],
          "name": "stdout"
        }
      ]
    },
    {
      "metadata": {
        "id": "8519xoLXuYix",
        "colab_type": "code",
        "colab": {}
      },
      "cell_type": "code",
      "source": [
        "#Taking 0.5 Million entries to a dataframe.\n",
        "write_db = 'Titlemoreweight.db'\n",
        "if os.path.isfile(write_db):\n",
        "    conn_r = create_connection(write_db)\n",
        "    if conn_r is not None:\n",
        "        preprocessed_data = pd.read_sql_query(\"\"\"SELECT question, Tags FROM QuestionsProcessed limit 50000\"\"\", conn_r)\n",
        "conn_r.commit()\n",
        "conn_r.close()"
      ],
      "execution_count": 0,
      "outputs": []
    },
    {
      "metadata": {
        "id": "HcmUyIBnuYi3",
        "colab_type": "code",
        "outputId": "4aba5bd6-6892-4e1f-f09e-f38e82a200c4",
        "colab": {
          "base_uri": "https://localhost:8080/",
          "height": 51
        }
      },
      "cell_type": "code",
      "source": [
        "print(\"number of data points in sample :\", preprocessed_data.shape[0])\n",
        "print(\"number of dimensions :\", preprocessed_data.shape[1])"
      ],
      "execution_count": 0,
      "outputs": [
        {
          "output_type": "stream",
          "text": [
            "number of data points in sample : 499999\n",
            "number of dimensions : 2\n"
          ],
          "name": "stdout"
        }
      ]
    },
    {
      "metadata": {
        "id": "Xq7TdOH8uYi6",
        "colab_type": "code",
        "colab": {}
      },
      "cell_type": "code",
      "source": [
        ""
      ],
      "execution_count": 0,
      "outputs": []
    },
    {
      "metadata": {
        "id": "LuyUU__L3y4Y",
        "colab_type": "text"
      },
      "cell_type": "markdown",
      "source": [
        "## CountVectorizes"
      ]
    },
    {
      "metadata": {
        "id": "0_BhwsR9uYi8",
        "colab_type": "code",
        "colab": {}
      },
      "cell_type": "code",
      "source": [
        "vectorizer = CountVectorizer(tokenizer = lambda x: x.split(), binary='true')\n",
        "multilabel_y = vectorizer.fit_transform(preprocessed_data['tags'])"
      ],
      "execution_count": 0,
      "outputs": []
    },
    {
      "metadata": {
        "id": "xJldq671uYjA",
        "colab_type": "code",
        "colab": {}
      },
      "cell_type": "code",
      "source": [
        "questions_explained = []\n",
        "total_tags=multilabel_y.shape[1]\n",
        "total_qs=preprocessed_data.shape[0]\n",
        "for i in range(500, total_tags, 100):\n",
        "  \n",
        "    questions_explained.append(np.round(((total_qs-questions_explained_fn(i))/total_qs)*100,3))"
      ],
      "execution_count": 0,
      "outputs": []
    },
    {
      "metadata": {
        "id": "TaYpTzTYuYjD",
        "colab_type": "code",
        "outputId": "55a2c592-21d6-472c-f0d3-d9e633040412",
        "colab": {
          "base_uri": "https://localhost:8080/",
          "height": 395
        }
      },
      "cell_type": "code",
      "source": [
        "fig, ax = plt.subplots()\n",
        "ax.plot(questions_explained)\n",
        "xlabel = list(500+np.array(range(-50,450,50))*50)\n",
        "ax.set_xticklabels(xlabel)\n",
        "plt.xlabel(\"Number of tags\")\n",
        "plt.ylabel(\"Number Questions coverd partially\")\n",
        "plt.grid()\n",
        "plt.show()\n",
        "# you can choose any number of tags based on your computing power, minimun is 500(it covers 90% of the tags)\n",
        "print(\"with \",5500,\"tags we are covering \",questions_explained[50],\"% of questions\")\n",
        "print(\"with \",500,\"tags we are covering \",questions_explained[0],\"% of questions\")"
      ],
      "execution_count": 0,
      "outputs": [
        {
          "output_type": "display_data",
          "data": {
            "image/png": "[encoded data removed]",
            "text/plain": [
              "<Figure size 576x396 with 1 Axes>"
            ]
          },
          "metadata": {
            "tags": []
          }
        },
        {
          "output_type": "stream",
          "text": [
            "with  5500 tags we are covering  99.481 % of questions\n",
            "with  500 tags we are covering  92.5 % of questions\n"
          ],
          "name": "stdout"
        }
      ]
    },
    {
      "metadata": {
        "id": "-W_73iHLuYjK",
        "colab_type": "code",
        "outputId": "5ee076da-73ee-4096-dcb7-a3fd5da4ca80",
        "colab": {
          "base_uri": "https://localhost:8080/",
          "height": 34
        }
      },
      "cell_type": "code",
      "source": [
        "# we will be taking 500 tags\n",
        "multilabel_yx = tags_to_choose(500)\n",
        "print(\"number of questions that are not covered :\", questions_explained_fn(500),\"out of \", total_qs)"
      ],
      "execution_count": 0,
      "outputs": [
        {
          "output_type": "stream",
          "text": [
            "number of questions that are not covered : 7500 out of  100000\n"
          ],
          "name": "stdout"
        }
      ]
    },
    {
      "metadata": {
        "id": "x7XrDGW2oTVg",
        "colab_type": "text"
      },
      "cell_type": "markdown",
      "source": [
        "### Spliting Data using : Train_Test_Split "
      ]
    },
    {
      "metadata": {
        "id": "zbOqkxawuYjN",
        "colab_type": "code",
        "colab": {}
      },
      "cell_type": "code",
      "source": [
        "train_datasize =400000\n",
        "x_train=preprocessed_data.head(train_datasize)\n",
        "x_test=preprocessed_data.tail(preprocessed_data.shape[0] - 400000)\n",
        "\n",
        "y_train = multilabel_yx[0:train_datasize,:]\n",
        "y_test = multilabel_yx[train_datasize:preprocessed_data.shape[0],:]"
      ],
      "execution_count": 0,
      "outputs": []
    },
    {
      "metadata": {
        "id": "NcnkWQusAORb",
        "colab_type": "code",
        "outputId": "712ebddd-5cb4-471a-b0b8-1491c79f3e15",
        "colab": {
          "base_uri": "https://localhost:8080/",
          "height": 34
        }
      },
      "cell_type": "code",
      "source": [
        "x_test=preprocessed_data.tail(preprocessed_data.shape[0] - 400000)\n",
        "x_test.shape"
      ],
      "execution_count": 0,
      "outputs": [
        {
          "output_type": "execute_result",
          "data": {
            "text/plain": [
              "(10000, 2)"
            ]
          },
          "metadata": {
            "tags": []
          },
          "execution_count": 59
        }
      ]
    },
    {
      "metadata": {
        "id": "vgdkOtIeuYjR",
        "colab_type": "code",
        "outputId": "e37cf484-b089-41e0-df55-21c63856b5e3",
        "colab": {
          "base_uri": "https://localhost:8080/",
          "height": 85
        }
      },
      "cell_type": "code",
      "source": [
        "print(\"Number of data points in train data :\", y_train.shape)\n",
        "print(\"Number of data points in test data :\", y_test.shape)\n",
        "print(\"Number of data points in train data :\", x_test.shape)\n",
        "print(\"Number of data points in test data :\", x_train.shape)\n",
        "x_test_multilabel_bow = vectorizer.transform(x_test['question'])"
      ],
      "execution_count": 0,
      "outputs": [
        {
          "output_type": "stream",
          "text": [
            "Number of data points in train data : (100000, 500)\n",
            "Number of data points in test data : (0, 500)\n",
            "Number of data points in train data : (0, 2)\n",
            "Number of data points in test data : (100000, 2)\n"
          ],
          "name": "stdout"
        }
      ]
    },
    {
      "metadata": {
        "id": "e5WRFKz-uYjT",
        "colab_type": "code",
        "outputId": "d2b657cc-b566-43e6-bf4b-50d569b4a7c9",
        "colab": {
          "base_uri": "https://localhost:8080/",
          "height": 34
        }
      },
      "cell_type": "code",
      "source": [
        "start = datetime.now()\n",
        "vectorizer = CountVectorizer(min_df=0.00009, max_features=20000, \\\n",
        "                             tokenizer = lambda x: x.split(), ngram_range=(1,2))\n",
        "x_train_multilabel_bow = vectorizer.fit_transform(x_train['question'])\n",
        "x_test_multilabel_bow = vectorizer.transform(x_test['question'])\n",
        "print(\"Time taken to run this cell :\", datetime.now() - start)"
      ],
      "execution_count": 0,
      "outputs": [
        {
          "output_type": "stream",
          "text": [
            "Time taken to run this cell : 0:00:12.450817\n"
          ],
          "name": "stdout"
        }
      ]
    },
    {
      "metadata": {
        "id": "NOr-ZbfPuYja",
        "colab_type": "code",
        "colab": {}
      },
      "cell_type": "code",
      "source": [
        "#start = datetime.now()\n",
        "#vectorizer = TfidfVectorizer(min_df=0.00009, max_features=200000, smooth_idf=True, norm=\"l2\", \\\n",
        "#                             tokenizer = lambda x: x.split(), sublinear_tf=False, ngram_range=(1,3))\n",
        "#x_train_multilabel = vectorizer.fit_transform(x_train['question'])\n",
        "#x_test_multilabel = vectorizer.transform(x_test['question'])\n",
        "#print(\"Time taken to run this cell :\", datetime.now() - start)"
      ],
      "execution_count": 0,
      "outputs": []
    },
    {
      "metadata": {
        "id": "rn4i9qgYuYjd",
        "colab_type": "code",
        "outputId": "0dc04c19-3d8c-4bec-9c02-71c8d95cac2a",
        "colab": {
          "base_uri": "https://localhost:8080/",
          "height": 51
        }
      },
      "cell_type": "code",
      "source": [
        "print(\"Dimensions of train data X:\",x_train_multilabel_bow.shape, \"Y :\",y_train.shape)\n",
        "print(\"Dimensions of test data X:\",x_test_multilabel_bow.shape,\"Y:\",y_test.shape)"
      ],
      "execution_count": 0,
      "outputs": [
        {
          "output_type": "stream",
          "text": [
            "Dimensions of train data X: (40000, 20000) Y : (40000, 500)\n",
            "Dimensions of test data X: (10000, 20000) Y: (10000, 500)\n"
          ],
          "name": "stdout"
        }
      ]
    },
    {
      "metadata": {
        "id": "Gq5nE-R7uYjg",
        "colab_type": "text"
      },
      "cell_type": "markdown",
      "source": [
        "# SGDClassifier(loss='log') using TF-Idf W2V Method"
      ]
    },
    {
      "metadata": {
        "id": "B1__XGoYuYjg",
        "colab_type": "code",
        "colab": {}
      },
      "cell_type": "code",
      "source": [
        "start = datetime.now()\n",
        "classifier = OneVsRestClassifier(SGDClassifier(loss='log', alpha=0.00001, penalty='l1'), n_jobs=-1)\n",
        "classifier.fit(x_train_multilabel_bow, y_train)\n",
        "predictions = classifier.predict (x_test_multilabel_bow)\n",
        "\n",
        "\n",
        "print(\"Accuracy :\",metrics.accuracy_score(y_test, predictions))\n",
        "print(\"Hamming loss \",metrics.hamming_loss(y_test,predictions))\n",
        "\n",
        "\n",
        "precision = precision_score(y_test, predictions, average='micro')\n",
        "recall = recall_score(y_test, predictions, average='micro')\n",
        "f1 = f1_score(y_test, predictions, average='micro')\n",
        " \n",
        "print(\"Micro-average quality numbers\")\n",
        "print(\"Precision: {:.4f}, Recall: {:.4f}, F1-measure: {:.4f}\".format(precision, recall, f1))\n",
        "\n",
        "precision = precision_score(y_test, predictions, average='macro')\n",
        "recall = recall_score(y_test, predictions, average='macro')\n",
        "f1 = f1_score(y_test, predictions, average='macro')\n",
        " \n",
        "print(\"Macro-average quality numbers\")\n",
        "print(\"Precision: {:.4f}, Recall: {:.4f}, F1-measure: {:.4f}\".format(precision, recall, f1))\n",
        "\n",
        "print (metrics.classification_report(y_test, predictions))\n",
        "print(\"Time taken to run this cell :\", datetime.now() - start)"
      ],
      "execution_count": 0,
      "outputs": []
    },
    {
      "metadata": {
        "id": "3K1zGXAjuYjh",
        "colab_type": "code",
        "colab": {}
      },
      "cell_type": "code",
      "source": [
        "joblib.dump(classifier, 'lr_with_more_title_weight.pkl') "
      ],
      "execution_count": 0,
      "outputs": []
    },
    {
      "metadata": {
        "id": "pmDTqgrWuYjj",
        "colab_type": "text"
      },
      "cell_type": "markdown",
      "source": [
        "# LogisticRegression using TF-IDF  W2V Method "
      ]
    },
    {
      "metadata": {
        "scrolled": true,
        "id": "_Ac3-nXMuYjk",
        "colab_type": "code",
        "outputId": "d76ad7dd-c754-4f3b-98f1-5e22c6b41cf3",
        "colab": {}
      },
      "cell_type": "code",
      "source": [
        "start = datetime.now()\n",
        "classifier_2 = OneVsRestClassifier(LogisticRegression(penalty='l1'), n_jobs=-1)\n",
        "classifier_2.fit(x_train_multilabel, y_train)\n",
        "predictions_2 = classifier_2.predict(x_test_multilabel)\n",
        "print(\"Accuracy :\",metrics.accuracy_score(y_test, predictions_2))\n",
        "print(\"Hamming loss \",metrics.hamming_loss(y_test,predictions_2))\n",
        "\n",
        "\n",
        "precision = precision_score(y_test, predictions_2, average='micro')\n",
        "recall = recall_score(y_test, predictions_2, average='micro')\n",
        "f1 = f1_score(y_test, predictions_2, average='micro')\n",
        " \n",
        "print(\"Micro-average quality numbers\")\n",
        "print(\"Precision: {:.4f}, Recall: {:.4f}, F1-measure: {:.4f}\".format(precision, recall, f1))\n",
        "\n",
        "precision = precision_score(y_test, predictions_2, average='macro')\n",
        "recall = recall_score(y_test, predictions_2, average='macro')\n",
        "f1 = f1_score(y_test, predictions_2, average='macro')\n",
        " \n",
        "print(\"Macro-average quality numbers\")\n",
        "print(\"Precision: {:.4f}, Recall: {:.4f}, F1-measure: {:.4f}\".format(precision, recall, f1))\n",
        "\n",
        "print (metrics.classification_report(y_test, predictions_2))\n",
        "print(\"Time taken to run this cell :\", datetime.now() - start)"
      ],
      "execution_count": 0,
      "outputs": [
        {
          "output_type": "stream",
          "text": [
            "Accuracy : 0.2076\n",
            "Hamming loss  0.0029726\n",
            "Micro-average quality numbers\n",
            "Precision: 0.6862, Recall: 0.3211, F1-measure: 0.4375\n",
            "Macro-average quality numbers\n",
            "Precision: 0.4727, Recall: 0.2299, F1-measure: 0.2938\n",
            "              precision    recall  f1-score   support\n",
            "\n",
            "           0       0.57      0.17      0.26       773\n",
            "           1       0.78      0.40      0.53       753\n",
            "           2       0.83      0.56      0.67       695\n",
            "           3       0.69      0.42      0.52       642\n",
            "           4       0.87      0.67      0.75       520\n",
            "           5       0.92      0.72      0.81       530\n",
            "           6       0.65      0.27      0.38       353\n",
            "           7       0.85      0.61      0.71       330\n",
            "           8       0.72      0.43      0.53       310\n",
            "           9       0.66      0.38      0.49       280\n",
            "          10       0.62      0.18      0.28       288\n",
            "          11       0.83      0.60      0.70       294\n",
            "          12       0.46      0.07      0.12       253\n",
            "          13       0.62      0.21      0.32       208\n",
            "          14       0.55      0.26      0.36       234\n",
            "          15       0.79      0.46      0.58       226\n",
            "          16       0.52      0.18      0.27       210\n",
            "          17       0.78      0.54      0.63       181\n",
            "          18       0.58      0.25      0.35       170\n",
            "          19       0.42      0.12      0.19       144\n",
            "          20       0.34      0.07      0.12       147\n",
            "          21       0.49      0.22      0.31       125\n",
            "          22       0.68      0.39      0.49       123\n",
            "          23       0.77      0.45      0.57       117\n",
            "          24       0.84      0.59      0.70       108\n",
            "          25       0.58      0.40      0.48        94\n",
            "          26       0.64      0.36      0.46       117\n",
            "          27       0.72      0.59      0.65        90\n",
            "          28       0.31      0.05      0.09        93\n",
            "          29       0.46      0.24      0.32        96\n",
            "          30       0.92      0.80      0.86        91\n",
            "          31       0.64      0.16      0.26        86\n",
            "          32       0.24      0.06      0.10        83\n",
            "          33       0.79      0.54      0.64        89\n",
            "          34       0.79      0.79      0.79        68\n",
            "          35       0.73      0.32      0.45        68\n",
            "          36       0.67      0.25      0.37        79\n",
            "          37       0.38      0.11      0.17        73\n",
            "          38       0.75      0.43      0.55        69\n",
            "          39       0.24      0.09      0.13        64\n",
            "          40       0.68      0.27      0.38        56\n",
            "          41       0.24      0.12      0.16        68\n",
            "          42       0.60      0.34      0.44        70\n",
            "          43       0.43      0.14      0.21        66\n",
            "          44       0.35      0.11      0.17        55\n",
            "          45       0.77      0.35      0.48        66\n",
            "          46       0.00      0.00      0.00        52\n",
            "          47       0.93      0.70      0.80        57\n",
            "          48       0.50      0.07      0.13        55\n",
            "          49       0.29      0.05      0.08        44\n",
            "          50       0.43      0.11      0.17        55\n",
            "          51       0.45      0.17      0.24        54\n",
            "          52       0.50      0.18      0.26        45\n",
            "          53       0.49      0.33      0.40        51\n",
            "          54       0.62      0.43      0.51        49\n",
            "          55       0.50      0.22      0.31        50\n",
            "          56       0.93      0.45      0.60        58\n",
            "          57       0.38      0.18      0.24        56\n",
            "          58       0.90      0.79      0.84        56\n",
            "          59       0.20      0.06      0.09        50\n",
            "          60       0.88      0.65      0.75        55\n",
            "          61       0.12      0.02      0.03        64\n",
            "          62       0.82      0.21      0.34        42\n",
            "          63       0.00      0.00      0.00        43\n",
            "          64       0.38      0.13      0.19        47\n",
            "          65       0.74      0.47      0.57        43\n",
            "          66       0.80      0.41      0.54        49\n",
            "          67       0.63      0.50      0.56        52\n",
            "          68       0.50      0.14      0.22        43\n",
            "          69       0.75      0.30      0.43        50\n",
            "          70       0.38      0.19      0.26        57\n",
            "          71       0.73      0.17      0.28        46\n",
            "          72       0.55      0.50      0.52        36\n",
            "          73       1.00      0.27      0.42        49\n",
            "          74       0.91      0.71      0.79        41\n",
            "          75       0.85      0.58      0.69        48\n",
            "          76       0.79      0.45      0.58        42\n",
            "          77       0.22      0.04      0.07        45\n",
            "          78       0.41      0.18      0.25        39\n",
            "          79       0.66      0.56      0.60        45\n",
            "          80       0.29      0.12      0.17        33\n",
            "          81       0.43      0.17      0.24        36\n",
            "          82       0.80      0.40      0.53        40\n",
            "          83       0.89      0.55      0.68        31\n",
            "          84       0.89      0.57      0.70        28\n",
            "          85       0.81      0.50      0.62        34\n",
            "          86       0.67      0.42      0.52        38\n",
            "          87       0.78      0.47      0.58        30\n",
            "          88       0.40      0.11      0.17        38\n",
            "          89       0.50      0.24      0.33        33\n",
            "          90       0.94      0.76      0.84        41\n",
            "          91       0.67      0.15      0.24        41\n",
            "          92       0.33      0.06      0.11        31\n",
            "          93       0.55      0.22      0.32        27\n",
            "          94       0.79      0.61      0.69        36\n",
            "          95       0.95      0.58      0.72        31\n",
            "          96       0.61      0.38      0.47        37\n",
            "          97       1.00      0.71      0.83        28\n",
            "          98       0.31      0.20      0.24        25\n",
            "          99       0.85      0.55      0.67        31\n",
            "         100       0.00      0.00      0.00        31\n",
            "         101       0.60      0.32      0.42        28\n",
            "         102       0.95      0.65      0.77        31\n",
            "         103       0.33      0.10      0.16        29\n",
            "         104       0.00      0.00      0.00        30\n",
            "         105       0.29      0.10      0.15        20\n",
            "         106       0.58      0.34      0.43        32\n",
            "         107       0.43      0.20      0.27        30\n",
            "         108       0.60      0.08      0.14        39\n",
            "         109       0.92      0.69      0.79        32\n",
            "         110       0.12      0.03      0.05        32\n",
            "         111       0.33      0.09      0.14        35\n",
            "         112       0.29      0.08      0.12        26\n",
            "         113       0.74      0.59      0.65        29\n",
            "         114       0.57      0.10      0.16        42\n",
            "         115       0.75      0.21      0.32        29\n",
            "         116       0.75      0.36      0.49        25\n",
            "         117       0.73      0.46      0.56        24\n",
            "         118       0.81      0.38      0.52        34\n",
            "         119       0.17      0.06      0.09        32\n",
            "         120       0.00      0.00      0.00        20\n",
            "         121       0.62      0.45      0.52        29\n",
            "         122       0.53      0.32      0.40        28\n",
            "         123       0.14      0.07      0.09        15\n",
            "         124       0.50      0.11      0.18        27\n",
            "         125       0.90      0.43      0.58        21\n",
            "         126       0.40      0.24      0.30        17\n",
            "         127       0.00      0.00      0.00        21\n",
            "         128       0.53      0.35      0.42        23\n",
            "         129       0.73      0.46      0.56        24\n",
            "         130       0.00      0.00      0.00        27\n",
            "         131       0.70      0.35      0.47        20\n",
            "         132       0.50      0.13      0.21        23\n",
            "         133       0.83      0.74      0.78        27\n",
            "         134       0.00      0.00      0.00        26\n",
            "         135       0.50      0.12      0.19        26\n",
            "         136       0.20      0.04      0.07        23\n",
            "         137       0.78      0.61      0.68        23\n",
            "         138       0.75      0.10      0.18        29\n",
            "         139       0.83      0.83      0.83        12\n",
            "         140       0.67      0.21      0.32        19\n",
            "         141       0.25      0.12      0.16        26\n",
            "         142       0.38      0.18      0.24        17\n",
            "         143       1.00      0.55      0.71        20\n",
            "         144       0.50      0.12      0.20        33\n",
            "         145       0.73      0.33      0.46        24\n",
            "         146       0.43      0.12      0.18        26\n",
            "         147       1.00      0.11      0.19        19\n",
            "         148       0.76      0.59      0.67        22\n",
            "         149       0.56      0.31      0.40        16\n",
            "         150       0.69      0.35      0.46        26\n",
            "         151       0.33      0.04      0.07        26\n",
            "         152       0.67      0.20      0.31        20\n",
            "         153       0.50      0.27      0.35        30\n",
            "         154       0.73      0.42      0.54        26\n",
            "         155       0.33      0.11      0.17        18\n",
            "         156       0.83      0.50      0.62        20\n",
            "         157       0.71      0.21      0.32        24\n",
            "         158       0.58      0.47      0.52        15\n",
            "         159       0.00      0.00      0.00        21\n",
            "         160       0.20      0.05      0.07        22\n",
            "         161       0.20      0.07      0.10        29\n",
            "         162       0.33      0.11      0.16        28\n",
            "         163       0.75      0.39      0.51        23\n",
            "         164       0.67      0.22      0.33        27\n",
            "         165       0.00      0.00      0.00        26\n",
            "         166       0.95      0.82      0.88        22\n",
            "         167       0.20      0.04      0.06        27\n",
            "         168       0.75      0.32      0.44        19\n",
            "         169       0.67      0.09      0.15        23\n",
            "         170       0.83      0.52      0.64        29\n",
            "         171       0.56      0.21      0.30        24\n",
            "         172       0.25      0.14      0.18        21\n",
            "         173       0.60      0.10      0.18        29\n",
            "         174       0.67      0.33      0.44        30\n",
            "         175       0.31      0.22      0.26        23\n",
            "         176       0.38      0.17      0.23        18\n",
            "         177       0.00      0.00      0.00        21\n",
            "         178       0.38      0.23      0.29        22\n",
            "         179       0.70      0.29      0.41        24\n",
            "         180       0.25      0.05      0.08        21\n",
            "         181       0.75      0.27      0.40        22\n",
            "         182       0.36      0.33      0.35        24\n",
            "         183       0.80      0.24      0.36        17\n",
            "         184       0.00      0.00      0.00        18\n",
            "         185       0.43      0.15      0.22        20\n",
            "         186       0.56      0.50      0.53        18\n",
            "         187       0.31      0.20      0.24        20\n",
            "         188       0.68      0.56      0.61        27\n",
            "         189       0.89      0.33      0.48        24\n",
            "         190       0.38      0.19      0.25        16\n",
            "         191       0.00      0.00      0.00        24\n",
            "         192       0.92      0.65      0.76        17\n",
            "         193       0.88      0.37      0.52        19\n",
            "         194       1.00      0.50      0.67        16\n",
            "         195       0.43      0.30      0.35        10\n",
            "         196       0.00      0.00      0.00        17\n",
            "         197       0.00      0.00      0.00        12\n",
            "         198       0.36      0.27      0.31        15\n",
            "         199       1.00      0.05      0.10        20\n",
            "         200       0.85      0.52      0.65        21\n",
            "         201       0.00      0.00      0.00        15\n",
            "         202       0.82      0.53      0.64        17\n",
            "         203       0.46      0.23      0.31        26\n",
            "         204       0.00      0.00      0.00        18\n",
            "         205       0.00      0.00      0.00        20\n",
            "         206       0.79      0.44      0.56        25\n",
            "         207       0.20      0.07      0.10        15\n",
            "         208       0.75      0.18      0.29        17\n",
            "         209       0.00      0.00      0.00        17\n",
            "         210       0.25      0.07      0.11        14\n",
            "         211       0.00      0.00      0.00        15\n",
            "         212       0.50      0.07      0.12        28\n",
            "         213       0.57      0.50      0.53        16\n",
            "         214       0.60      0.26      0.36        23\n",
            "         215       0.50      0.20      0.29        10\n",
            "         216       0.79      0.69      0.73        16\n",
            "         217       0.56      0.31      0.40        16\n",
            "         218       0.50      0.14      0.22        21\n",
            "         219       0.25      0.09      0.13        22\n",
            "         220       0.00      0.00      0.00        13\n",
            "         221       1.00      0.65      0.79        20\n",
            "         222       0.71      0.31      0.43        16\n",
            "         223       0.14      0.04      0.06        24\n",
            "         224       0.40      0.08      0.13        25\n",
            "         225       0.60      0.16      0.25        19\n",
            "         226       0.00      0.00      0.00        19\n",
            "         227       0.00      0.00      0.00        13\n",
            "         228       0.33      0.09      0.14        11\n",
            "         229       0.81      0.81      0.81        16\n",
            "         230       1.00      0.61      0.76        18\n",
            "         231       0.73      0.57      0.64        14\n",
            "         232       0.40      0.22      0.29        18\n",
            "         233       0.50      0.16      0.24        19\n",
            "         234       0.67      0.35      0.46        17\n",
            "         235       1.00      0.79      0.88        19\n",
            "         236       1.00      0.81      0.89        21\n",
            "         237       0.86      0.40      0.55        15\n",
            "         238       0.88      0.35      0.50        20\n",
            "         239       0.91      0.59      0.71        17\n",
            "         240       0.50      0.04      0.08        23\n",
            "         241       0.29      0.18      0.22        11\n",
            "         242       0.71      0.23      0.34        22\n",
            "         243       0.50      0.08      0.14        12\n",
            "         244       0.33      0.16      0.21        19\n",
            "         245       0.00      0.00      0.00        18\n",
            "         246       0.00      0.00      0.00        10\n",
            "         247       0.67      0.24      0.35        17\n",
            "         248       0.33      0.14      0.20        14\n",
            "         249       0.00      0.00      0.00        17\n",
            "         250       0.00      0.00      0.00        14\n",
            "         251       0.00      0.00      0.00         9\n",
            "         252       0.50      0.06      0.11        16\n",
            "         253       0.67      0.11      0.19        18\n",
            "         254       0.94      0.65      0.77        23\n",
            "         255       0.00      0.00      0.00        19\n",
            "         256       0.80      0.55      0.65        22\n",
            "         257       0.57      0.20      0.30        20\n",
            "         258       0.89      0.53      0.67        15\n",
            "         259       0.73      0.53      0.62        15\n",
            "         260       0.60      0.30      0.40        10\n",
            "         261       1.00      0.64      0.78        11\n",
            "         262       0.20      0.06      0.09        18\n",
            "         263       1.00      0.09      0.17        11\n",
            "         264       0.67      0.27      0.38        15\n",
            "         265       0.29      0.12      0.17        16\n",
            "         266       0.86      0.46      0.60        13\n",
            "         267       0.00      0.00      0.00        12\n",
            "         268       0.00      0.00      0.00        18\n",
            "         269       0.00      0.00      0.00        13\n",
            "         270       0.00      0.00      0.00        16\n",
            "         271       0.60      0.30      0.40        10\n",
            "         272       0.33      0.08      0.13        12\n",
            "         273       0.14      0.08      0.11        12\n",
            "         274       1.00      0.33      0.50        15\n",
            "         275       0.00      0.00      0.00        17\n",
            "         276       0.33      0.06      0.10        18\n",
            "         277       0.50      0.08      0.13        13\n",
            "         278       0.78      0.58      0.67        12\n",
            "         279       0.00      0.00      0.00        14\n",
            "         280       0.00      0.00      0.00        12\n",
            "         281       0.50      0.06      0.11        17\n",
            "         282       0.83      0.31      0.45        16\n",
            "         283       0.33      0.08      0.13        12\n",
            "         284       0.50      0.08      0.14        12\n",
            "         285       0.67      0.20      0.31        10\n",
            "         286       0.00      0.00      0.00        17\n",
            "         287       0.00      0.00      0.00        12\n",
            "         288       0.50      0.12      0.20         8\n",
            "         289       1.00      0.12      0.22        16\n",
            "         290       0.71      0.42      0.53        12\n",
            "         291       0.00      0.00      0.00         8\n",
            "         292       0.33      0.15      0.21        13\n",
            "         293       0.50      0.22      0.31         9\n",
            "         294       0.75      0.23      0.35        13\n",
            "         295       0.20      0.14      0.17         7\n",
            "         296       0.43      0.21      0.29        14\n",
            "         297       1.00      0.67      0.80        12\n",
            "         298       0.25      0.06      0.10        17\n",
            "         299       1.00      0.33      0.50         6\n",
            "         300       0.67      0.31      0.42        13\n",
            "         301       0.25      0.10      0.14        10\n",
            "         302       0.29      0.14      0.19        14\n",
            "         303       0.55      0.30      0.39        20\n",
            "         304       0.71      0.42      0.53        12\n",
            "         305       0.00      0.00      0.00        10\n",
            "         306       0.50      0.07      0.12        14\n",
            "         307       0.42      0.42      0.42        12\n",
            "         308       0.20      0.10      0.13        10\n",
            "         309       0.67      0.13      0.22        15\n",
            "         310       0.25      0.11      0.15         9\n",
            "         311       0.00      0.00      0.00        12\n",
            "         312       0.00      0.00      0.00         8\n",
            "         313       0.40      0.17      0.24        12\n",
            "         314       0.71      0.33      0.45        15\n",
            "         315       0.29      0.20      0.24        10\n",
            "         316       0.00      0.00      0.00        12\n",
            "         317       0.00      0.00      0.00        14\n",
            "         318       0.00      0.00      0.00        10\n",
            "         319       0.33      0.08      0.13        12\n",
            "         320       0.00      0.00      0.00        16\n",
            "         321       0.50      0.13      0.21        15\n",
            "         322       0.00      0.00      0.00         7\n",
            "         323       0.50      0.17      0.25        12\n",
            "         324       0.62      0.56      0.59         9\n",
            "         325       0.00      0.00      0.00         8\n",
            "         326       0.83      0.42      0.56        12\n",
            "         327       0.67      0.14      0.24        14\n",
            "         328       0.30      0.33      0.32         9\n",
            "         329       0.00      0.00      0.00         9\n",
            "         330       0.50      0.15      0.24        13\n",
            "         331       0.00      0.00      0.00        12\n",
            "         332       0.89      0.53      0.67        15\n",
            "         333       0.00      0.00      0.00         9\n",
            "         334       0.67      0.17      0.27        12\n",
            "         335       0.33      0.09      0.14        11\n",
            "         336       0.20      0.07      0.10        15\n",
            "         337       0.62      0.56      0.59         9\n",
            "         338       0.50      0.08      0.13        13\n",
            "         339       0.57      0.29      0.38        14\n",
            "         340       0.60      0.27      0.37        11\n",
            "         341       0.00      0.00      0.00         4\n",
            "         342       0.83      0.50      0.62        10\n",
            "         343       0.82      0.69      0.75        13\n",
            "         344       0.50      0.07      0.12        14\n",
            "         345       0.20      0.09      0.13        11\n",
            "         346       0.50      0.09      0.15        11\n",
            "         347       0.00      0.00      0.00        15\n",
            "         348       0.00      0.00      0.00        11\n",
            "         349       0.80      0.40      0.53        10\n",
            "         350       0.50      0.11      0.18         9\n",
            "         351       0.78      0.50      0.61        14\n",
            "         352       1.00      0.11      0.20        18\n",
            "         353       1.00      0.67      0.80         9\n",
            "         354       0.33      0.08      0.13        12\n",
            "         355       0.50      0.08      0.13        13\n",
            "         356       0.50      0.10      0.17        10\n",
            "         357       0.00      0.00      0.00        12\n",
            "         358       0.67      0.13      0.22        15\n",
            "         359       0.50      0.07      0.12        14\n",
            "         360       0.50      0.14      0.22         7\n",
            "         361       0.33      0.13      0.19        15\n",
            "         362       0.00      0.00      0.00        17\n",
            "         363       0.00      0.00      0.00        14\n",
            "         364       0.00      0.00      0.00        18\n",
            "         365       0.00      0.00      0.00        13\n",
            "         366       1.00      0.20      0.33        10\n",
            "         367       0.00      0.00      0.00        10\n",
            "         368       0.67      0.18      0.29        11\n",
            "         369       0.67      0.44      0.53         9\n",
            "         370       0.40      0.18      0.25        11\n",
            "         371       0.25      0.12      0.17         8\n",
            "         372       0.78      0.70      0.74        10\n",
            "         373       1.00      0.10      0.18        10\n",
            "         374       0.00      0.00      0.00        16\n",
            "         375       0.00      0.00      0.00         8\n",
            "         376       1.00      0.62      0.77         8\n",
            "         377       0.25      0.08      0.12        13\n",
            "         378       1.00      0.44      0.62         9\n",
            "         379       0.00      0.00      0.00         7\n",
            "         380       0.40      0.15      0.22        13\n",
            "         381       0.00      0.00      0.00         9\n",
            "         382       0.00      0.00      0.00        12\n",
            "         383       0.00      0.00      0.00        10\n",
            "         384       0.70      0.64      0.67        11\n",
            "         385       0.80      0.33      0.47        12\n",
            "         386       0.50      0.18      0.27        11\n",
            "         387       0.50      0.50      0.50         2\n",
            "         388       0.50      0.20      0.29        10\n",
            "         389       0.00      0.00      0.00        10\n",
            "         390       0.00      0.00      0.00         8\n",
            "         391       0.50      0.07      0.12        14\n",
            "         392       0.00      0.00      0.00         9\n",
            "         393       0.80      0.50      0.62        16\n",
            "         394       0.00      0.00      0.00        12\n",
            "         395       0.50      0.25      0.33        12\n",
            "         396       0.33      0.11      0.17         9\n",
            "         397       0.00      0.00      0.00         8\n",
            "         398       0.25      0.07      0.11        15\n",
            "         399       0.00      0.00      0.00         9\n",
            "         400       1.00      0.36      0.53        11\n",
            "         401       1.00      0.47      0.64        15\n",
            "         402       0.86      0.75      0.80         8\n",
            "         403       1.00      0.40      0.57        10\n",
            "         404       0.00      0.00      0.00        10\n",
            "         405       0.00      0.00      0.00        11\n",
            "         406       0.50      0.25      0.33         8\n",
            "         407       0.00      0.00      0.00         9\n",
            "         408       1.00      0.38      0.55         8\n",
            "         409       0.33      0.09      0.14        11\n",
            "         410       0.00      0.00      0.00        10\n",
            "         411       0.75      0.25      0.38        12\n",
            "         412       0.33      0.12      0.18         8\n",
            "         413       0.00      0.00      0.00        12\n",
            "         414       0.00      0.00      0.00        11\n",
            "         415       0.50      0.17      0.25        12\n",
            "         416       0.50      0.29      0.36         7\n",
            "         417       0.00      0.00      0.00         8\n",
            "         418       0.78      0.58      0.67        12\n",
            "         419       0.00      0.00      0.00         9\n",
            "         420       0.50      0.22      0.31         9\n",
            "         421       1.00      0.10      0.18        10\n",
            "         422       0.00      0.00      0.00         4\n",
            "         423       0.50      0.15      0.24        13\n",
            "         424       0.00      0.00      0.00         7\n",
            "         425       0.00      0.00      0.00         8\n",
            "         426       1.00      0.50      0.67         4\n",
            "         427       0.00      0.00      0.00        10\n",
            "         428       1.00      0.50      0.67        12\n",
            "         429       0.80      0.33      0.47        12\n",
            "         430       0.20      0.17      0.18         6\n",
            "         431       0.25      0.11      0.15         9\n",
            "         432       0.00      0.00      0.00        10\n",
            "         433       1.00      0.67      0.80         9\n",
            "         434       0.00      0.00      0.00        10\n",
            "         435       0.71      0.50      0.59        10\n",
            "         436       0.50      0.11      0.18         9\n",
            "         437       0.00      0.00      0.00         9\n",
            "         438       0.00      0.00      0.00        11\n",
            "         439       0.00      0.00      0.00         8\n",
            "         440       1.00      0.20      0.33        10\n",
            "         441       0.80      0.40      0.53        10\n",
            "         442       0.57      0.67      0.62         6\n",
            "         443       0.25      0.08      0.12        12\n",
            "         444       0.00      0.00      0.00        10\n",
            "         445       0.50      0.25      0.33         8\n",
            "         446       0.00      0.00      0.00        11\n",
            "         447       0.00      0.00      0.00         7\n",
            "         448       1.00      0.11      0.20         9\n",
            "         449       1.00      0.33      0.50         9\n",
            "         450       0.00      0.00      0.00        12\n",
            "         451       0.00      0.00      0.00         7\n",
            "         452       0.14      0.17      0.15         6\n",
            "         453       0.00      0.00      0.00        13\n",
            "         454       1.00      0.10      0.18        10\n",
            "         455       0.33      0.09      0.14        11\n",
            "         456       0.00      0.00      0.00         8\n",
            "         457       0.50      0.25      0.33         8\n",
            "         458       0.67      0.29      0.40         7\n",
            "         459       0.60      0.25      0.35        12\n",
            "         460       0.00      0.00      0.00         5\n",
            "         461       1.00      0.12      0.22         8\n",
            "         462       0.00      0.00      0.00        10\n",
            "         463       0.00      0.00      0.00         6\n",
            "         464       0.00      0.00      0.00        10\n",
            "         465       0.50      0.25      0.33         8\n",
            "         466       0.80      0.44      0.57         9\n",
            "         467       0.33      0.12      0.18         8\n",
            "         468       0.50      0.12      0.20         8\n",
            "         469       0.00      0.00      0.00         8\n",
            "         470       0.00      0.00      0.00         9\n",
            "         471       0.00      0.00      0.00         6\n",
            "         472       1.00      0.36      0.53        11\n",
            "         473       0.00      0.00      0.00        12\n",
            "         474       0.00      0.00      0.00        10\n",
            "         475       0.75      0.43      0.55         7\n",
            "         476       0.50      0.10      0.17        10\n",
            "         477       0.50      0.33      0.40         3\n",
            "         478       0.89      0.73      0.80        11\n",
            "         479       0.60      0.38      0.46         8\n",
            "         480       0.50      0.11      0.18         9\n",
            "         481       0.50      0.12      0.20         8\n",
            "         482       0.00      0.00      0.00         5\n",
            "         483       0.50      0.17      0.25         6\n",
            "         484       0.00      0.00      0.00         8\n",
            "         485       0.86      0.55      0.67        11\n",
            "         486       0.00      0.00      0.00         9\n",
            "         487       0.00      0.00      0.00         9\n",
            "         488       1.00      0.14      0.25         7\n",
            "         489       1.00      1.00      1.00         7\n",
            "         490       0.00      0.00      0.00         8\n",
            "         491       0.40      0.25      0.31         8\n",
            "         492       1.00      0.11      0.20         9\n",
            "         493       0.00      0.00      0.00        10\n",
            "         494       0.00      0.00      0.00         6\n",
            "         495       0.67      0.22      0.33         9\n",
            "         496       0.83      0.83      0.83         6\n",
            "         497       0.33      0.17      0.22         6\n",
            "         498       1.00      0.09      0.17        11\n",
            "         499       0.00      0.00      0.00         9\n",
            "\n",
            "   micro avg       0.69      0.32      0.44     18000\n",
            "   macro avg       0.47      0.23      0.29     18000\n",
            "weighted avg       0.60      0.32      0.40     18000\n",
            " samples avg       0.41      0.31      0.33     18000\n",
            "\n",
            "Time taken to run this cell : 0:04:53.896068\n"
          ],
          "name": "stdout"
        }
      ]
    },
    {
      "metadata": {
        "id": "x5F3-FRQuYjm",
        "colab_type": "text"
      },
      "cell_type": "markdown",
      "source": [
        "# Question 1 : LogisticRegression using BOW Method"
      ]
    },
    {
      "metadata": {
        "id": "bIW80chR_XE5",
        "colab_type": "code",
        "colab": {}
      },
      "cell_type": "code",
      "source": [
        "predictions_2 = classifier_2.predict(x_test_multilabel_bow)"
      ],
      "execution_count": 0,
      "outputs": []
    },
    {
      "metadata": {
        "id": "JtpkJzUZuYjn",
        "colab_type": "code",
        "colab": {}
      },
      "cell_type": "code",
      "source": [
        "start = datetime.now()\n",
        "classifier_2 = OneVsRestClassifier(LogisticRegression(penalty='l1'))\n",
        "classifier_2.fit(x_train_multilabel_bow, y_train)\n",
        "predictions_2 = classifier_2.predict(x_test_multilabel_bow)\n"
      ],
      "execution_count": 0,
      "outputs": []
    },
    {
      "metadata": {
        "id": "EtXRbCcg_Se-",
        "colab_type": "code",
        "outputId": "579cfc24-fb04-40b4-9742-fad53f497503",
        "colab": {
          "base_uri": "https://localhost:8080/",
          "height": 8772
        }
      },
      "cell_type": "code",
      "source": [
        "print(\"Accuracy :\",metrics.accuracy_score(y_test, predictions_2))\n",
        "print(\"Hamming loss \",metrics.hamming_loss(y_test,predictions_2))\n",
        "\n",
        "\n",
        "precision = precision_score(y_test, predictions_2, average='micro')\n",
        "recall = recall_score(y_test, predictions_2, average='micro')\n",
        "f1 = f1_score(y_test, predictions_2, average='micro')\n",
        " \n",
        "print(\"Micro-average quality numbers\")\n",
        "print(\"Precision: {:.4f}, Recall: {:.4f}, F1-measure: {:.4f}\".format(precision, recall, f1))\n",
        "\n",
        "precision = precision_score(y_test, predictions_2, average='macro')\n",
        "recall = recall_score(y_test, predictions_2, average='macro')\n",
        "f1 = f1_score(y_test, predictions_2, average='macro')\n",
        " \n",
        "print(\"Macro-average quality numbers\")\n",
        "print(\"Precision: {:.4f}, Recall: {:.4f}, F1-measure: {:.4f}\".format(precision, recall, f1))\n",
        "\n",
        "print (metrics.classification_report(y_test, predictions_2))\n",
        "print(\"Time taken to run this cell :\", datetime.now() - start)"
      ],
      "execution_count": 0,
      "outputs": [
        {
          "output_type": "stream",
          "text": [
            "Accuracy : 0.21441\n",
            "Hamming loss  0.00310812\n",
            "Micro-average quality numbers\n",
            "Precision: 0.5765, Recall: 0.3988, F1-measure: 0.4715\n",
            "Macro-average quality numbers\n",
            "Precision: 0.4442, Recall: 0.3323, F1-measure: 0.3766\n",
            "              precision    recall  f1-score   support\n",
            "\n",
            "           0       0.90      0.74      0.81      5519\n",
            "           1       0.61      0.36      0.46      8190\n",
            "           2       0.72      0.43      0.54      6529\n",
            "           3       0.71      0.52      0.60      3231\n",
            "           4       0.71      0.47      0.57      6430\n",
            "           5       0.68      0.40      0.50      2879\n",
            "           6       0.79      0.55      0.65      5086\n",
            "           7       0.78      0.60      0.68      4533\n",
            "           8       0.45      0.16      0.23      3000\n",
            "           9       0.72      0.60      0.65      2765\n",
            "          10       0.47      0.27      0.34      3051\n",
            "          11       0.59      0.43      0.50      3009\n",
            "          12       0.50      0.35      0.41      2630\n",
            "          13       0.57      0.36      0.44      1426\n",
            "          14       0.80      0.58      0.67      2548\n",
            "          15       0.49      0.28      0.36      2371\n",
            "          16       0.56      0.29      0.38       873\n",
            "          17       0.80      0.65      0.72      2151\n",
            "          18       0.46      0.28      0.35      2204\n",
            "          19       0.55      0.42      0.48       831\n",
            "          20       0.70      0.46      0.55      1860\n",
            "          21       0.25      0.15      0.19      2023\n",
            "          22       0.41      0.30      0.34      1513\n",
            "          23       0.75      0.57      0.65      1207\n",
            "          24       0.47      0.32      0.38       506\n",
            "          25       0.50      0.37      0.42       425\n",
            "          26       0.59      0.42      0.49       793\n",
            "          27       0.53      0.41      0.46      1291\n",
            "          28       0.61      0.41      0.49      1208\n",
            "          29       0.31      0.17      0.22       406\n",
            "          30       0.44      0.21      0.29       504\n",
            "          31       0.19      0.13      0.15       732\n",
            "          32       0.42      0.32      0.37       441\n",
            "          33       0.51      0.36      0.42      1645\n",
            "          34       0.45      0.28      0.35      1058\n",
            "          35       0.72      0.58      0.64       946\n",
            "          36       0.47      0.27      0.34       644\n",
            "          37       0.86      0.70      0.77       136\n",
            "          38       0.52      0.38      0.44       570\n",
            "          39       0.65      0.34      0.45       766\n",
            "          40       0.53      0.41      0.46      1132\n",
            "          41       0.34      0.30      0.32       174\n",
            "          42       0.65      0.53      0.58       210\n",
            "          43       0.64      0.44      0.52       433\n",
            "          44       0.60      0.48      0.53       626\n",
            "          45       0.57      0.38      0.46       852\n",
            "          46       0.63      0.45      0.53       534\n",
            "          47       0.30      0.20      0.24       350\n",
            "          48       0.67      0.52      0.58       496\n",
            "          49       0.77      0.64      0.70       785\n",
            "          50       0.21      0.11      0.15       475\n",
            "          51       0.27      0.23      0.25       305\n",
            "          52       0.23      0.07      0.10       251\n",
            "          53       0.54      0.41      0.47       914\n",
            "          54       0.41      0.26      0.32       728\n",
            "          55       0.17      0.08      0.11       258\n",
            "          56       0.34      0.28      0.31       821\n",
            "          57       0.34      0.19      0.24       541\n",
            "          58       0.57      0.35      0.43       748\n",
            "          59       0.86      0.67      0.75       724\n",
            "          60       0.35      0.18      0.23       660\n",
            "          61       0.46      0.24      0.31       235\n",
            "          62       0.86      0.71      0.78       718\n",
            "          63       0.77      0.69      0.73       468\n",
            "          64       0.43      0.29      0.34       191\n",
            "          65       0.29      0.19      0.23       429\n",
            "          66       0.19      0.11      0.14       415\n",
            "          67       0.67      0.51      0.58       274\n",
            "          68       0.73      0.55      0.63       510\n",
            "          69       0.59      0.46      0.52       466\n",
            "          70       0.22      0.16      0.19       305\n",
            "          71       0.32      0.22      0.26       247\n",
            "          72       0.73      0.53      0.61       401\n",
            "          73       0.82      0.80      0.81        86\n",
            "          74       0.52      0.41      0.46       120\n",
            "          75       0.86      0.74      0.79       129\n",
            "          76       0.14      0.06      0.08       473\n",
            "          77       0.38      0.33      0.35       143\n",
            "          78       0.66      0.47      0.55       347\n",
            "          79       0.47      0.26      0.34       479\n",
            "          80       0.44      0.39      0.42       279\n",
            "          81       0.46      0.25      0.32       461\n",
            "          82       0.13      0.07      0.09       298\n",
            "          83       0.69      0.51      0.59       396\n",
            "          84       0.42      0.37      0.39       184\n",
            "          85       0.42      0.28      0.34       573\n",
            "          86       0.27      0.13      0.17       325\n",
            "          87       0.46      0.37      0.41       273\n",
            "          88       0.44      0.33      0.37       135\n",
            "          89       0.25      0.19      0.22       232\n",
            "          90       0.49      0.40      0.44       409\n",
            "          91       0.49      0.32      0.39       420\n",
            "          92       0.66      0.57      0.61       408\n",
            "          93       0.54      0.50      0.52       241\n",
            "          94       0.17      0.07      0.10       211\n",
            "          95       0.27      0.17      0.21       277\n",
            "          96       0.20      0.12      0.15       410\n",
            "          97       0.73      0.44      0.55       501\n",
            "          98       0.62      0.56      0.59       136\n",
            "          99       0.45      0.36      0.40       239\n",
            "         100       0.35      0.20      0.25       324\n",
            "         101       0.85      0.70      0.77       277\n",
            "         102       0.86      0.77      0.81       613\n",
            "         103       0.34      0.18      0.24       157\n",
            "         104       0.19      0.13      0.15       295\n",
            "         105       0.66      0.46      0.54       334\n",
            "         106       0.56      0.33      0.41       335\n",
            "         107       0.66      0.58      0.62       389\n",
            "         108       0.51      0.32      0.39       251\n",
            "         109       0.52      0.46      0.49       317\n",
            "         110       0.32      0.12      0.18       187\n",
            "         111       0.42      0.16      0.23       140\n",
            "         112       0.52      0.40      0.45       154\n",
            "         113       0.49      0.26      0.34       332\n",
            "         114       0.43      0.31      0.36       323\n",
            "         115       0.40      0.32      0.36       344\n",
            "         116       0.66      0.55      0.60       370\n",
            "         117       0.39      0.27      0.31       313\n",
            "         118       0.75      0.74      0.75       874\n",
            "         119       0.35      0.26      0.30       293\n",
            "         120       0.14      0.09      0.11       200\n",
            "         121       0.66      0.51      0.58       463\n",
            "         122       0.27      0.12      0.16       119\n",
            "         123       0.14      0.03      0.05       256\n",
            "         124       0.85      0.72      0.78       195\n",
            "         125       0.30      0.17      0.22       138\n",
            "         126       0.70      0.51      0.59       376\n",
            "         127       0.14      0.08      0.10       122\n",
            "         128       0.12      0.06      0.08       252\n",
            "         129       0.39      0.28      0.32       144\n",
            "         130       0.35      0.21      0.26       150\n",
            "         131       0.19      0.09      0.12       210\n",
            "         132       0.51      0.33      0.40       361\n",
            "         133       0.83      0.65      0.73       453\n",
            "         134       0.80      0.78      0.79       124\n",
            "         135       0.11      0.09      0.10        91\n",
            "         136       0.40      0.34      0.37       128\n",
            "         137       0.44      0.38      0.41       218\n",
            "         138       0.39      0.22      0.28       243\n",
            "         139       0.36      0.25      0.29       149\n",
            "         140       0.68      0.51      0.58       318\n",
            "         141       0.22      0.13      0.16       159\n",
            "         142       0.56      0.37      0.45       274\n",
            "         143       0.81      0.79      0.80       362\n",
            "         144       0.39      0.23      0.29       118\n",
            "         145       0.46      0.40      0.43       164\n",
            "         146       0.50      0.38      0.43       461\n",
            "         147       0.65      0.45      0.53       159\n",
            "         148       0.32      0.20      0.25       166\n",
            "         149       0.85      0.55      0.67       346\n",
            "         150       0.44      0.22      0.29       350\n",
            "         151       0.84      0.67      0.75        55\n",
            "         152       0.68      0.51      0.59       387\n",
            "         153       0.37      0.30      0.33       150\n",
            "         154       0.32      0.15      0.20       281\n",
            "         155       0.25      0.20      0.22       202\n",
            "         156       0.71      0.65      0.68       130\n",
            "         157       0.25      0.11      0.16       245\n",
            "         158       0.82      0.70      0.75       177\n",
            "         159       0.42      0.39      0.40       130\n",
            "         160       0.38      0.24      0.29       336\n",
            "         161       0.76      0.65      0.70       220\n",
            "         162       0.20      0.13      0.16       229\n",
            "         163       0.81      0.47      0.59       316\n",
            "         164       0.61      0.46      0.52       283\n",
            "         165       0.50      0.34      0.40       197\n",
            "         166       0.61      0.57      0.59       101\n",
            "         167       0.32      0.22      0.26       231\n",
            "         168       0.39      0.33      0.36       370\n",
            "         169       0.38      0.26      0.31       258\n",
            "         170       0.23      0.16      0.19       101\n",
            "         171       0.30      0.26      0.28        89\n",
            "         172       0.43      0.35      0.38       193\n",
            "         173       0.45      0.37      0.40       309\n",
            "         174       0.30      0.15      0.20       172\n",
            "         175       0.78      0.79      0.79        95\n",
            "         176       0.84      0.61      0.71       346\n",
            "         177       0.76      0.55      0.64       322\n",
            "         178       0.54      0.50      0.52       232\n",
            "         179       0.21      0.12      0.15       125\n",
            "         180       0.45      0.41      0.43       145\n",
            "         181       0.29      0.21      0.24        77\n",
            "         182       0.16      0.09      0.12       182\n",
            "         183       0.51      0.37      0.43       257\n",
            "         184       0.23      0.15      0.18       216\n",
            "         185       0.32      0.15      0.21       242\n",
            "         186       0.33      0.24      0.28       165\n",
            "         187       0.68      0.59      0.63       263\n",
            "         188       0.20      0.13      0.16       174\n",
            "         189       0.58      0.43      0.50       136\n",
            "         190       0.78      0.57      0.66       202\n",
            "         191       0.27      0.23      0.25       134\n",
            "         192       0.55      0.42      0.48       230\n",
            "         193       0.26      0.22      0.24        90\n",
            "         194       0.57      0.58      0.58       185\n",
            "         195       0.18      0.09      0.12       156\n",
            "         196       0.15      0.12      0.13       160\n",
            "         197       0.28      0.17      0.21       266\n",
            "         198       0.31      0.17      0.22       284\n",
            "         199       0.16      0.10      0.12       145\n",
            "         200       0.85      0.77      0.81       212\n",
            "         201       0.42      0.27      0.33       317\n",
            "         202       0.69      0.63      0.66       427\n",
            "         203       0.23      0.15      0.18       232\n",
            "         204       0.38      0.32      0.35       217\n",
            "         205       0.48      0.46      0.47       527\n",
            "         206       0.21      0.08      0.12       124\n",
            "         207       0.40      0.33      0.36       103\n",
            "         208       0.73      0.51      0.60       287\n",
            "         209       0.18      0.12      0.14       193\n",
            "         210       0.55      0.43      0.48       220\n",
            "         211       0.45      0.22      0.30       140\n",
            "         212       0.16      0.11      0.13       161\n",
            "         213       0.47      0.57      0.51        72\n",
            "         214       0.59      0.42      0.49       396\n",
            "         215       0.63      0.39      0.48       134\n",
            "         216       0.42      0.26      0.32       400\n",
            "         217       0.32      0.29      0.31        75\n",
            "         218       0.91      0.76      0.83       219\n",
            "         219       0.57      0.43      0.49       210\n",
            "         220       0.83      0.67      0.74       298\n",
            "         221       0.89      0.70      0.78       266\n",
            "         222       0.65      0.44      0.52       290\n",
            "         223       0.11      0.05      0.07       128\n",
            "         224       0.67      0.45      0.54       159\n",
            "         225       0.39      0.35      0.37       164\n",
            "         226       0.45      0.34      0.39       144\n",
            "         227       0.54      0.41      0.47       276\n",
            "         228       0.11      0.06      0.07       235\n",
            "         229       0.15      0.08      0.10       216\n",
            "         230       0.35      0.23      0.28       228\n",
            "         231       0.63      0.56      0.60        64\n",
            "         232       0.16      0.11      0.13       103\n",
            "         233       0.57      0.38      0.46       216\n",
            "         234       0.40      0.19      0.26       116\n",
            "         235       0.52      0.32      0.40        77\n",
            "         236       0.89      0.72      0.79        67\n",
            "         237       0.30      0.17      0.21       218\n",
            "         238       0.21      0.18      0.19       139\n",
            "         239       0.30      0.07      0.12        94\n",
            "         240       0.44      0.35      0.39        77\n",
            "         241       0.24      0.12      0.16       167\n",
            "         242       0.67      0.40      0.50        86\n",
            "         243       0.28      0.26      0.27        58\n",
            "         244       0.47      0.41      0.44       269\n",
            "         245       0.19      0.13      0.16       112\n",
            "         246       0.91      0.80      0.85       255\n",
            "         247       0.20      0.21      0.20        58\n",
            "         248       0.11      0.06      0.08        81\n",
            "         249       0.08      0.04      0.05       131\n",
            "         250       0.37      0.29      0.33        93\n",
            "         251       0.57      0.35      0.43       154\n",
            "         252       0.12      0.07      0.09       129\n",
            "         253       0.44      0.37      0.40        83\n",
            "         254       0.24      0.16      0.19       191\n",
            "         255       0.12      0.08      0.10       219\n",
            "         256       0.11      0.08      0.09       130\n",
            "         257       0.38      0.31      0.34        93\n",
            "         258       0.64      0.53      0.58       217\n",
            "         259       0.31      0.21      0.25       141\n",
            "         260       0.61      0.24      0.34       143\n",
            "         261       0.38      0.20      0.26       219\n",
            "         262       0.51      0.33      0.40       107\n",
            "         263       0.36      0.24      0.29       236\n",
            "         264       0.31      0.28      0.29       119\n",
            "         265       0.43      0.28      0.34        72\n",
            "         266       0.16      0.09      0.11        70\n",
            "         267       0.32      0.22      0.26       107\n",
            "         268       0.53      0.41      0.46       169\n",
            "         269       0.33      0.21      0.26       129\n",
            "         270       0.69      0.58      0.63       159\n",
            "         271       0.69      0.48      0.57       190\n",
            "         272       0.43      0.31      0.36       248\n",
            "         273       0.82      0.75      0.79       264\n",
            "         274       0.84      0.69      0.75       105\n",
            "         275       0.18      0.12      0.14       104\n",
            "         276       0.06      0.03      0.04       115\n",
            "         277       0.75      0.59      0.66       170\n",
            "         278       0.70      0.50      0.58       145\n",
            "         279       0.86      0.75      0.80       230\n",
            "         280       0.56      0.40      0.47        80\n",
            "         281       0.64      0.57      0.60       217\n",
            "         282       0.68      0.53      0.59       175\n",
            "         283       0.26      0.19      0.22       269\n",
            "         284       0.47      0.38      0.42        74\n",
            "         285       0.70      0.52      0.60       206\n",
            "         286       0.83      0.70      0.76       227\n",
            "         287       0.61      0.39      0.48       130\n",
            "         288       0.18      0.09      0.12       129\n",
            "         289       0.13      0.10      0.11        80\n",
            "         290       0.18      0.14      0.16        99\n",
            "         291       0.57      0.39      0.46       208\n",
            "         292       0.27      0.16      0.20        67\n",
            "         293       0.77      0.55      0.64       109\n",
            "         294       0.32      0.24      0.28       140\n",
            "         295       0.20      0.15      0.17       241\n",
            "         296       0.22      0.11      0.15        72\n",
            "         297       0.20      0.17      0.18       107\n",
            "         298       0.64      0.59      0.62        61\n",
            "         299       0.73      0.58      0.65        77\n",
            "         300       0.18      0.14      0.15       111\n",
            "         301       0.03      0.01      0.01       126\n",
            "         302       0.22      0.12      0.16        73\n",
            "         303       0.49      0.39      0.43       176\n",
            "         304       0.86      0.77      0.82       230\n",
            "         305       0.81      0.71      0.76       156\n",
            "         306       0.45      0.36      0.40       146\n",
            "         307       0.24      0.13      0.17        98\n",
            "         308       0.07      0.04      0.05        78\n",
            "         309       0.45      0.16      0.24        94\n",
            "         310       0.62      0.40      0.49       162\n",
            "         311       0.70      0.50      0.58       116\n",
            "         312       0.46      0.32      0.37        57\n",
            "         313       0.27      0.11      0.15        65\n",
            "         314       0.41      0.37      0.39       138\n",
            "         315       0.48      0.30      0.37       195\n",
            "         316       0.38      0.33      0.35        69\n",
            "         317       0.23      0.20      0.22       134\n",
            "         318       0.50      0.41      0.45       148\n",
            "         319       0.74      0.49      0.59       161\n",
            "         320       0.20      0.19      0.20       104\n",
            "         321       0.68      0.59      0.63       156\n",
            "         322       0.51      0.47      0.49       134\n",
            "         323       0.49      0.43      0.46       232\n",
            "         324       0.18      0.12      0.14        92\n",
            "         325       0.34      0.29      0.31       197\n",
            "         326       0.09      0.07      0.08       126\n",
            "         327       0.12      0.06      0.08       115\n",
            "         328       0.91      0.69      0.79       198\n",
            "         329       0.43      0.34      0.38       125\n",
            "         330       0.54      0.27      0.36        81\n",
            "         331       0.33      0.15      0.20        94\n",
            "         332       0.33      0.25      0.28        56\n",
            "         333       0.19      0.12      0.15       260\n",
            "         334       0.14      0.13      0.14        60\n",
            "         335       0.22      0.10      0.14       110\n",
            "         336       0.54      0.54      0.54        71\n",
            "         337       0.19      0.14      0.16        66\n",
            "         338       0.45      0.46      0.46       150\n",
            "         339       0.11      0.09      0.10        54\n",
            "         340       0.78      0.58      0.67       195\n",
            "         341       0.66      0.56      0.60        79\n",
            "         342       0.35      0.47      0.40        38\n",
            "         343       0.55      0.37      0.44        43\n",
            "         344       0.42      0.29      0.34        68\n",
            "         345       0.66      0.40      0.50        73\n",
            "         346       0.08      0.05      0.06       116\n",
            "         347       0.58      0.47      0.52       111\n",
            "         348       0.25      0.21      0.23        63\n",
            "         349       0.85      0.70      0.77       104\n",
            "         350       0.61      0.57      0.59        44\n",
            "         351       0.24      0.28      0.26        40\n",
            "         352       0.80      0.52      0.63       136\n",
            "         353       0.37      0.20      0.26        54\n",
            "         354       0.22      0.12      0.15       134\n",
            "         355       0.46      0.42      0.44       120\n",
            "         356       0.45      0.30      0.36       228\n",
            "         357       0.55      0.41      0.47       269\n",
            "         358       0.53      0.35      0.42        80\n",
            "         359       0.75      0.59      0.66       140\n",
            "         360       0.27      0.22      0.25       125\n",
            "         361       0.84      0.74      0.79       169\n",
            "         362       0.15      0.12      0.14        56\n",
            "         363       0.86      0.78      0.82       154\n",
            "         364       0.26      0.26      0.26        58\n",
            "         365       0.26      0.15      0.19        71\n",
            "         366       0.86      0.67      0.75        54\n",
            "         367       0.17      0.15      0.16       116\n",
            "         368       0.18      0.15      0.16        54\n",
            "         369       0.08      0.06      0.07        71\n",
            "         370       0.20      0.08      0.12        61\n",
            "         371       0.26      0.10      0.14        71\n",
            "         372       0.50      0.40      0.45        52\n",
            "         373       0.61      0.45      0.52       150\n",
            "         374       0.24      0.19      0.22        93\n",
            "         375       0.10      0.07      0.09        67\n",
            "         376       0.06      0.03      0.04        76\n",
            "         377       0.46      0.35      0.40       106\n",
            "         378       0.09      0.03      0.05        86\n",
            "         379       0.17      0.14      0.15        14\n",
            "         380       0.77      0.57      0.65       122\n",
            "         381       0.09      0.06      0.07       104\n",
            "         382       0.20      0.14      0.16        66\n",
            "         383       0.48      0.36      0.41       110\n",
            "         384       0.14      0.06      0.09       155\n",
            "         385       0.30      0.24      0.27        50\n",
            "         386       0.26      0.16      0.20        64\n",
            "         387       0.22      0.12      0.15        93\n",
            "         388       0.39      0.32      0.35       102\n",
            "         389       0.13      0.07      0.09       108\n",
            "         390       0.87      0.66      0.75       178\n",
            "         391       0.30      0.19      0.23       115\n",
            "         392       0.67      0.48      0.56        42\n",
            "         393       0.03      0.01      0.01       134\n",
            "         394       0.25      0.19      0.22       112\n",
            "         395       0.35      0.32      0.34       176\n",
            "         396       0.29      0.18      0.22       125\n",
            "         397       0.64      0.45      0.52       224\n",
            "         398       0.74      0.63      0.68        63\n",
            "         399       0.10      0.07      0.08        59\n",
            "         400       0.40      0.37      0.38        63\n",
            "         401       0.37      0.31      0.34        98\n",
            "         402       0.38      0.23      0.29       162\n",
            "         403       0.20      0.14      0.17        83\n",
            "         404       0.65      0.79      0.71        19\n",
            "         405       0.14      0.11      0.12        92\n",
            "         406       0.57      0.39      0.46        41\n",
            "         407       0.52      0.33      0.40        43\n",
            "         408       0.61      0.50      0.55       160\n",
            "         409       0.18      0.14      0.16        50\n",
            "         410       0.06      0.05      0.05        19\n",
            "         411       0.28      0.21      0.24       175\n",
            "         412       0.21      0.12      0.16        72\n",
            "         413       0.21      0.11      0.14        95\n",
            "         414       0.26      0.18      0.21        97\n",
            "         415       0.15      0.12      0.13        48\n",
            "         416       0.45      0.36      0.40        83\n",
            "         417       0.19      0.10      0.13        40\n",
            "         418       0.24      0.15      0.19        91\n",
            "         419       0.53      0.42      0.47        90\n",
            "         420       0.32      0.32      0.32        37\n",
            "         421       0.11      0.08      0.09        66\n",
            "         422       0.44      0.41      0.43        73\n",
            "         423       0.39      0.29      0.33        56\n",
            "         424       0.91      0.88      0.89        33\n",
            "         425       0.17      0.08      0.11        76\n",
            "         426       0.07      0.02      0.04        81\n",
            "         427       0.94      0.71      0.81       150\n",
            "         428       0.92      0.76      0.83        29\n",
            "         429       0.98      0.95      0.97       389\n",
            "         430       0.57      0.46      0.51       167\n",
            "         431       0.38      0.16      0.23       123\n",
            "         432       0.31      0.21      0.25        39\n",
            "         433       0.34      0.32      0.33        82\n",
            "         434       0.90      0.70      0.79        66\n",
            "         435       0.52      0.42      0.46        93\n",
            "         436       0.52      0.40      0.45        87\n",
            "         437       0.11      0.07      0.09        86\n",
            "         438       0.65      0.56      0.60       104\n",
            "         439       0.39      0.22      0.28       100\n",
            "         440       0.16      0.06      0.08       141\n",
            "         441       0.39      0.44      0.41       110\n",
            "         442       0.26      0.23      0.24       123\n",
            "         443       0.30      0.18      0.23        71\n",
            "         444       0.27      0.11      0.16       109\n",
            "         445       0.43      0.31      0.36        48\n",
            "         446       0.38      0.28      0.32        76\n",
            "         447       0.17      0.18      0.17        38\n",
            "         448       0.62      0.57      0.59        81\n",
            "         449       0.40      0.26      0.31       132\n",
            "         450       0.42      0.36      0.39        81\n",
            "         451       0.61      0.36      0.45        76\n",
            "         452       0.06      0.05      0.05        44\n",
            "         453       0.18      0.05      0.07        44\n",
            "         454       0.76      0.54      0.63        70\n",
            "         455       0.27      0.24      0.25       155\n",
            "         456       0.33      0.23      0.27        43\n",
            "         457       0.36      0.33      0.35        72\n",
            "         458       0.17      0.15      0.16        62\n",
            "         459       0.38      0.30      0.34        69\n",
            "         460       0.13      0.08      0.10       119\n",
            "         461       0.58      0.37      0.45        79\n",
            "         462       0.30      0.23      0.26        47\n",
            "         463       0.33      0.25      0.28       104\n",
            "         464       0.55      0.37      0.44       106\n",
            "         465       0.35      0.31      0.33        64\n",
            "         466       0.41      0.32      0.36       173\n",
            "         467       0.55      0.39      0.46       107\n",
            "         468       0.43      0.33      0.38       126\n",
            "         469       0.15      0.07      0.10       114\n",
            "         470       0.91      0.81      0.86       140\n",
            "         471       0.57      0.39      0.47        79\n",
            "         472       0.38      0.42      0.40       143\n",
            "         473       0.59      0.38      0.46       158\n",
            "         474       0.27      0.12      0.16       138\n",
            "         475       0.15      0.14      0.14        59\n",
            "         476       0.55      0.45      0.50        88\n",
            "         477       0.70      0.66      0.68       176\n",
            "         478       0.78      0.75      0.77        24\n",
            "         479       0.25      0.20      0.22        92\n",
            "         480       0.73      0.57      0.64       100\n",
            "         481       0.35      0.34      0.35       103\n",
            "         482       0.31      0.24      0.27        74\n",
            "         483       0.71      0.62      0.66       105\n",
            "         484       0.13      0.06      0.08        83\n",
            "         485       0.05      0.04      0.04        82\n",
            "         486       0.32      0.18      0.23        71\n",
            "         487       0.40      0.24      0.30       120\n",
            "         488       0.22      0.10      0.14       105\n",
            "         489       0.50      0.36      0.42        87\n",
            "         490       0.93      0.84      0.89        32\n",
            "         491       0.08      0.04      0.06        69\n",
            "         492       0.05      0.02      0.03        49\n",
            "         493       0.08      0.05      0.06       117\n",
            "         494       0.46      0.36      0.40        61\n",
            "         495       0.94      0.80      0.86       344\n",
            "         496       0.26      0.19      0.22        52\n",
            "         497       0.46      0.34      0.39       137\n",
            "         498       0.26      0.14      0.19        98\n",
            "         499       0.33      0.23      0.27        79\n",
            "\n",
            "   micro avg       0.58      0.40      0.47    173812\n",
            "   macro avg       0.44      0.33      0.38    173812\n",
            "weighted avg       0.56      0.40      0.46    173812\n",
            " samples avg       0.43      0.38      0.37    173812\n",
            "\n",
            "Time taken to run this cell : 5:50:41.661110\n"
          ],
          "name": "stdout"
        }
      ]
    },
    {
      "metadata": {
        "id": "YCeWfSuZuYjq",
        "colab_type": "text"
      },
      "cell_type": "markdown",
      "source": [
        "# Question 2 : estimator__C and estimator__penalty using GridSearchCv"
      ]
    },
    {
      "metadata": {
        "id": "YEzg4oMAuYjr",
        "colab_type": "code",
        "colab": {}
      },
      "cell_type": "code",
      "source": [
        "from sklearn.model_selection import GridSearchCV\n",
        "clf=OneVsRestClassifier(LogisticRegression())\n",
        "parameters={'estimator__C':[0.1,0.001,0.0001],\n",
        "            'estimator__penalty':['l1','l2']}\n",
        "gcv=GridSearchCV(clf,param_grid=parameters,cv=5)\n",
        "gcv.fit(x_train_multilabel_bow, y_train)\n",
        "print(gcv.best_params_)\n",
        "print(gcv.best_score_)"
      ],
      "execution_count": 0,
      "outputs": []
    },
    {
      "metadata": {
        "id": "bDbhj1lcuYjs",
        "colab_type": "code",
        "outputId": "2774ee36-30d9-4d83-8189-5cb2e50026fd",
        "colab": {}
      },
      "cell_type": "code",
      "source": [
        "clf.get_params().keys()"
      ],
      "execution_count": 0,
      "outputs": [
        {
          "output_type": "execute_result",
          "data": {
            "text/plain": [
              "dict_keys(['estimator__C', 'estimator__class_weight', 'estimator__dual', 'estimator__fit_intercept', 'estimator__intercept_scaling', 'estimator__max_iter', 'estimator__multi_class', 'estimator__n_jobs', 'estimator__penalty', 'estimator__random_state', 'estimator__solver', 'estimator__tol', 'estimator__verbose', 'estimator__warm_start', 'estimator', 'n_jobs'])"
            ]
          },
          "metadata": {
            "tags": []
          },
          "execution_count": 45
        }
      ]
    },
    {
      "metadata": {
        "id": "alrTaOX4uYju",
        "colab_type": "code",
        "colab": {}
      },
      "cell_type": "code",
      "source": [
        "\n",
        "clf1=OneVsRestClassifier(LogisticRegression(c=100,penalty='l1'), n_jobs=-1)\n",
        "clf1.fit(x_train_multilabel_bow, y_train)\n",
        "pred=clf1.predict(x_test_multilabel_bow)\n",
        "\n",
        "print(\"Accuracy :\",metrics.accuracy_score(y_test, pred))\n",
        "print(\"Hamming loss \",metrics.hamming_loss(y_test,pred))\n",
        "\n",
        "\n",
        "precision = precision_score(y_test, pred, average='micro')\n",
        "recall = recall_score(y_test, pred, average='micro')\n",
        "f1 = f1_score(y_test, predpred, average='micro')\n",
        " \n",
        "print(\"Micro-average quality numbers\")\n",
        "print(\"Precision: {:.4f}, Recall: {:.4f}, F1-measure: {:.4f}\".format(precision, recall, f1))\n",
        "\n",
        "precision = precision_score(y_test, pred, average='macro')\n",
        "recall = recall_score(y_test, pred, average='macro')\n",
        "f1 = f1_score(y_test, pred, average='macro')\n",
        " \n",
        "print(\"Macro-average quality numbers\")\n",
        "print(\"Precision: {:.4f}, Recall: {:.4f}, F1-measure: {:.4f}\".format(precision, recall, f1))\n",
        "\n",
        "print (metrics.classification_report(y_test, pred))\n",
        "print(\"Time taken to run this cell :\", datetime.now() - start)\n"
      ],
      "execution_count": 0,
      "outputs": []
    },
    {
      "metadata": {
        "id": "npaZ-ZZGuYjv",
        "colab_type": "text"
      },
      "cell_type": "markdown",
      "source": [
        "#  Question 3 : SGDClassifier(loss='hinge')"
      ]
    },
    {
      "metadata": {
        "id": "SwiL-FQHInO1",
        "colab_type": "code",
        "outputId": "4b51fa49-0f09-44df-8a26-57391dd2dfd9",
        "colab": {
          "base_uri": "https://localhost:8080/",
          "height": 51
        }
      },
      "cell_type": "code",
      "source": [
        "y_train"
      ],
      "execution_count": 0,
      "outputs": [
        {
          "output_type": "execute_result",
          "data": {
            "text/plain": [
              "<400000x500 sparse matrix of type '<class 'numpy.int64'>'\n",
              "\twith 753683 stored elements in Compressed Sparse Row format>"
            ]
          },
          "metadata": {
            "tags": []
          },
          "execution_count": 32
        }
      ]
    },
    {
      "metadata": {
        "id": "2krZEDkauYjw",
        "colab_type": "code",
        "outputId": "fd815e34-1665-41d0-cfbd-aeb113628c92",
        "colab": {
          "base_uri": "https://localhost:8080/",
          "height": 8772
        }
      },
      "cell_type": "code",
      "source": [
        "start = datetime.now()\n",
        "#Classifier = OneVsRestClassifier(SGDClassifier(random_state=0,loss='log',alpha=0.00001,penalty='elasticnet')).fit(Finaldata,y)\n",
        "classifier = OneVsRestClassifier(SGDClassifier(loss='hinge', alpha=0.00001, penalty='l1'))\n",
        "classifier.fit(x_train_multilabel_bow, y_train)\n",
        "predictions = classifier.predict(x_test_multilabel_bow)\n",
        "\n",
        "\n",
        "print(\"Accuracy :\",metrics.accuracy_score(y_test, predictions))\n",
        "print(\"Hamming loss \",metrics.hamming_loss(y_test,predictions))\n",
        "\n",
        "\n",
        "precision = precision_score(y_test, predictions, average='micro')\n",
        "recall = recall_score(y_test, predictions, average='micro')\n",
        "f1 = f1_score(y_test, predictions, average='micro')\n",
        " \n",
        "print(\"Micro-average quality numbers\")\n",
        "print(\"Precision: {:.4f}, Recall: {:.4f}, F1-measure: {:.4f}\".format(precision, recall, f1))\n",
        "\n",
        "precision = precision_score(y_test, predictions, average='macro')\n",
        "recall = recall_score(y_test, predictions, average='macro')\n",
        "f1 = f1_score(y_test, predictions, average='macro')\n",
        " \n",
        "print(\"Macro-average quality numbers\")\n",
        "print(\"Precision: {:.4f}, Recall: {:.4f}, F1-measure: {:.4f}\".format(precision, recall, f1))\n",
        "\n",
        "print (metrics.classification_report(y_test, predictions))\n",
        "print(\"Time taken to run this cell :\", datetime.now() - start)"
      ],
      "execution_count": 0,
      "outputs": [
        {
          "output_type": "stream",
          "text": [
            "Accuracy : 0.10983109831098312\n",
            "Hamming loss  0.005943459434594346\n",
            "Micro-average quality numbers\n",
            "Precision: 0.2861, Recall: 0.4748, F1-measure: 0.3571\n",
            "Macro-average quality numbers\n",
            "Precision: 0.2057, Recall: 0.4074, F1-measure: 0.2652\n",
            "              precision    recall  f1-score   support\n",
            "\n",
            "           0       0.72      0.80      0.75      5519\n",
            "           1       0.45      0.44      0.45      8189\n",
            "           2       0.52      0.48      0.50      6529\n",
            "           3       0.50      0.59      0.54      3231\n",
            "           4       0.52      0.55      0.54      6430\n",
            "           5       0.43      0.48      0.45      2878\n",
            "           6       0.59      0.62      0.60      5086\n",
            "           7       0.60      0.67      0.63      4533\n",
            "           8       0.24      0.21      0.22      3000\n",
            "           9       0.54      0.70      0.61      2765\n",
            "          10       0.30      0.38      0.33      3051\n",
            "          11       0.45      0.51      0.47      3009\n",
            "          12       0.37      0.42      0.40      2630\n",
            "          13       0.36      0.45      0.40      1426\n",
            "          14       0.60      0.65      0.63      2548\n",
            "          15       0.36      0.37      0.37      2371\n",
            "          16       0.26      0.34      0.30       873\n",
            "          17       0.54      0.72      0.61      2151\n",
            "          18       0.30      0.40      0.34      2204\n",
            "          19       0.28      0.51      0.36       831\n",
            "          20       0.50      0.54      0.52      1860\n",
            "          21       0.18      0.20      0.19      2023\n",
            "          22       0.28      0.36      0.32      1513\n",
            "          23       0.48      0.68      0.56      1207\n",
            "          24       0.25      0.43      0.32       506\n",
            "          25       0.24      0.45      0.31       425\n",
            "          26       0.36      0.53      0.43       793\n",
            "          27       0.39      0.43      0.41      1291\n",
            "          28       0.42      0.52      0.46      1208\n",
            "          29       0.11      0.23      0.15       406\n",
            "          30       0.17      0.34      0.23       504\n",
            "          31       0.11      0.23      0.15       732\n",
            "          32       0.20      0.43      0.27       441\n",
            "          33       0.33      0.46      0.38      1645\n",
            "          34       0.26      0.37      0.30      1058\n",
            "          35       0.40      0.63      0.49       946\n",
            "          36       0.23      0.43      0.30       644\n",
            "          37       0.26      0.74      0.38       136\n",
            "          38       0.29      0.54      0.38       570\n",
            "          39       0.33      0.43      0.37       766\n",
            "          40       0.33      0.50      0.39      1132\n",
            "          41       0.11      0.39      0.17       174\n",
            "          42       0.33      0.62      0.43       210\n",
            "          43       0.31      0.58      0.40       433\n",
            "          44       0.31      0.58      0.41       626\n",
            "          45       0.27      0.47      0.35       852\n",
            "          46       0.32      0.59      0.41       534\n",
            "          47       0.13      0.35      0.19       350\n",
            "          48       0.34      0.54      0.42       496\n",
            "          49       0.57      0.72      0.64       785\n",
            "          50       0.11      0.20      0.14       475\n",
            "          51       0.09      0.24      0.13       305\n",
            "          52       0.09      0.17      0.11       251\n",
            "          53       0.32      0.48      0.38       914\n",
            "          54       0.20      0.28      0.23       728\n",
            "          55       0.06      0.15      0.09       258\n",
            "          56       0.22      0.39      0.28       821\n",
            "          57       0.15      0.26      0.19       541\n",
            "          58       0.32      0.44      0.38       748\n",
            "          59       0.62      0.75      0.68       724\n",
            "          60       0.17      0.25      0.20       660\n",
            "          61       0.15      0.35      0.21       235\n",
            "          62       0.53      0.80      0.64       718\n",
            "          63       0.45      0.77      0.57       468\n",
            "          64       0.18      0.54      0.27       191\n",
            "          65       0.12      0.23      0.15       429\n",
            "          66       0.12      0.24      0.16       415\n",
            "          67       0.26      0.58      0.36       274\n",
            "          68       0.43      0.61      0.51       510\n",
            "          69       0.30      0.54      0.39       466\n",
            "          70       0.12      0.21      0.15       305\n",
            "          71       0.12      0.26      0.17       247\n",
            "          72       0.40      0.58      0.47       401\n",
            "          73       0.35      0.83      0.49        86\n",
            "          74       0.18      0.50      0.26       120\n",
            "          75       0.31      0.76      0.44       129\n",
            "          76       0.07      0.12      0.09       473\n",
            "          77       0.09      0.34      0.14       143\n",
            "          78       0.31      0.59      0.41       347\n",
            "          79       0.23      0.36      0.28       479\n",
            "          80       0.18      0.46      0.26       279\n",
            "          81       0.17      0.31      0.22       461\n",
            "          82       0.08      0.13      0.09       298\n",
            "          83       0.32      0.58      0.42       396\n",
            "          84       0.18      0.43      0.25       184\n",
            "          85       0.25      0.32      0.28       573\n",
            "          86       0.12      0.23      0.16       325\n",
            "          87       0.16      0.42      0.24       273\n",
            "          88       0.10      0.39      0.16       135\n",
            "          89       0.11      0.23      0.15       232\n",
            "          90       0.30      0.51      0.38       409\n",
            "          91       0.21      0.45      0.29       420\n",
            "          92       0.38      0.61      0.47       408\n",
            "          93       0.22      0.58      0.32       241\n",
            "          94       0.07      0.18      0.10       211\n",
            "          95       0.13      0.29      0.18       277\n",
            "          96       0.12      0.21      0.15       410\n",
            "          97       0.44      0.54      0.48       501\n",
            "          98       0.20      0.66      0.30       136\n",
            "          99       0.20      0.44      0.28       239\n",
            "         100       0.09      0.20      0.12       324\n",
            "         101       0.52      0.76      0.62       277\n",
            "         102       0.70      0.80      0.75       613\n",
            "         103       0.09      0.32      0.14       157\n",
            "         104       0.10      0.24      0.14       295\n",
            "         105       0.36      0.58      0.44       334\n",
            "         106       0.23      0.35      0.28       335\n",
            "         107       0.34      0.62      0.44       389\n",
            "         108       0.21      0.37      0.27       251\n",
            "         109       0.29      0.50      0.37       317\n",
            "         110       0.07      0.17      0.10       187\n",
            "         111       0.09      0.28      0.14       140\n",
            "         112       0.16      0.54      0.25       154\n",
            "         113       0.21      0.33      0.26       332\n",
            "         114       0.19      0.37      0.25       323\n",
            "         115       0.17      0.36      0.23       344\n",
            "         116       0.36      0.59      0.45       370\n",
            "         117       0.20      0.38      0.26       313\n",
            "         118       0.62      0.80      0.70       874\n",
            "         119       0.16      0.40      0.23       293\n",
            "         120       0.05      0.18      0.08       200\n",
            "         121       0.36      0.60      0.45       463\n",
            "         122       0.10      0.30      0.15       119\n",
            "         123       0.02      0.04      0.03       256\n",
            "         124       0.39      0.73      0.51       195\n",
            "         125       0.12      0.33      0.18       138\n",
            "         126       0.36      0.64      0.46       376\n",
            "         127       0.02      0.08      0.04       122\n",
            "         128       0.10      0.20      0.13       252\n",
            "         129       0.17      0.32      0.22       144\n",
            "         130       0.09      0.31      0.14       150\n",
            "         131       0.07      0.15      0.09       210\n",
            "         132       0.23      0.36      0.28       361\n",
            "         133       0.56      0.70      0.62       453\n",
            "         134       0.49      0.81      0.61       124\n",
            "         135       0.05      0.22      0.08        91\n",
            "         136       0.11      0.41      0.18       128\n",
            "         137       0.20      0.54      0.29       218\n",
            "         138       0.15      0.32      0.20       243\n",
            "         139       0.12      0.36      0.18       149\n",
            "         140       0.39      0.56      0.46       318\n",
            "         141       0.07      0.17      0.10       159\n",
            "         142       0.32      0.47      0.38       274\n",
            "         143       0.57      0.83      0.68       362\n",
            "         144       0.11      0.31      0.16       118\n",
            "         145       0.18      0.51      0.27       164\n",
            "         146       0.26      0.43      0.32       461\n",
            "         147       0.18      0.58      0.27       159\n",
            "         148       0.10      0.27      0.14       166\n",
            "         149       0.41      0.63      0.49       346\n",
            "         150       0.16      0.30      0.21       350\n",
            "         151       0.20      0.69      0.31        55\n",
            "         152       0.37      0.57      0.45       387\n",
            "         153       0.16      0.29      0.21       150\n",
            "         154       0.11      0.19      0.14       281\n",
            "         155       0.10      0.24      0.14       202\n",
            "         156       0.29      0.71      0.41       130\n",
            "         157       0.12      0.18      0.14       245\n",
            "         158       0.44      0.70      0.54       177\n",
            "         159       0.19      0.52      0.28       130\n",
            "         160       0.17      0.29      0.22       336\n",
            "         161       0.42      0.72      0.53       220\n",
            "         162       0.08      0.24      0.12       229\n",
            "         163       0.38      0.57      0.45       316\n",
            "         164       0.26      0.55      0.36       283\n",
            "         165       0.19      0.43      0.26       197\n",
            "         166       0.20      0.61      0.30       101\n",
            "         167       0.14      0.29      0.19       231\n",
            "         168       0.17      0.37      0.24       370\n",
            "         169       0.20      0.40      0.27       258\n",
            "         170       0.05      0.24      0.08       101\n",
            "         171       0.09      0.40      0.15        89\n",
            "         172       0.16      0.34      0.21       193\n",
            "         173       0.25      0.46      0.32       309\n",
            "         174       0.08      0.27      0.13       172\n",
            "         175       0.35      0.83      0.49        95\n",
            "         176       0.60      0.68      0.64       346\n",
            "         177       0.46      0.62      0.52       322\n",
            "         178       0.27      0.52      0.36       232\n",
            "         179       0.06      0.15      0.09       125\n",
            "         180       0.16      0.44      0.24       145\n",
            "         181       0.05      0.25      0.08        77\n",
            "         182       0.07      0.22      0.10       182\n",
            "         183       0.26      0.42      0.32       257\n",
            "         184       0.07      0.24      0.11       216\n",
            "         185       0.12      0.32      0.18       242\n",
            "         186       0.12      0.21      0.15       165\n",
            "         187       0.37      0.63      0.47       263\n",
            "         188       0.07      0.16      0.10       174\n",
            "         189       0.33      0.55      0.41       136\n",
            "         190       0.46      0.68      0.55       202\n",
            "         191       0.07      0.28      0.11       134\n",
            "         192       0.23      0.54      0.32       230\n",
            "         193       0.07      0.22      0.11        90\n",
            "         194       0.28      0.55      0.37       185\n",
            "         195       0.05      0.16      0.07       156\n",
            "         196       0.06      0.18      0.09       160\n",
            "         197       0.16      0.27      0.20       266\n",
            "         198       0.14      0.28      0.19       284\n",
            "         199       0.07      0.17      0.10       145\n",
            "         200       0.52      0.80      0.63       212\n",
            "         201       0.21      0.38      0.27       317\n",
            "         202       0.48      0.64      0.55       427\n",
            "         203       0.12      0.26      0.17       232\n",
            "         204       0.16      0.41      0.24       217\n",
            "         205       0.39      0.63      0.48       527\n",
            "         206       0.05      0.15      0.07       124\n",
            "         207       0.19      0.39      0.25       103\n",
            "         208       0.34      0.56      0.42       287\n",
            "         209       0.08      0.17      0.11       193\n",
            "         210       0.23      0.45      0.30       220\n",
            "         211       0.09      0.31      0.14       140\n",
            "         212       0.04      0.12      0.06       161\n",
            "         213       0.22      0.64      0.33        72\n",
            "         214       0.46      0.61      0.52       396\n",
            "         215       0.18      0.46      0.26       134\n",
            "         216       0.18      0.30      0.23       400\n",
            "         217       0.11      0.41      0.17        75\n",
            "         218       0.58      0.80      0.67       219\n",
            "         219       0.18      0.45      0.26       210\n",
            "         220       0.48      0.73      0.58       298\n",
            "         221       0.47      0.70      0.56       266\n",
            "         222       0.40      0.59      0.48       290\n",
            "         223       0.03      0.13      0.05       128\n",
            "         224       0.21      0.52      0.30       159\n",
            "         225       0.16      0.44      0.24       164\n",
            "         226       0.20      0.40      0.26       144\n",
            "         227       0.30      0.53      0.38       276\n",
            "         228       0.05      0.14      0.08       235\n",
            "         229       0.05      0.16      0.08       216\n",
            "         230       0.09      0.29      0.14       228\n",
            "         231       0.17      0.55      0.26        64\n",
            "         232       0.06      0.23      0.10       103\n",
            "         233       0.24      0.47      0.32       216\n",
            "         234       0.16      0.35      0.22       116\n",
            "         235       0.16      0.52      0.24        77\n",
            "         236       0.36      0.78      0.49        67\n",
            "         237       0.11      0.23      0.15       218\n",
            "         238       0.10      0.26      0.14       139\n",
            "         239       0.04      0.15      0.06        94\n",
            "         240       0.11      0.38      0.17        77\n",
            "         241       0.08      0.18      0.11       167\n",
            "         242       0.19      0.45      0.26        86\n",
            "         243       0.05      0.33      0.09        58\n",
            "         244       0.26      0.42      0.32       269\n",
            "         245       0.07      0.21      0.10       112\n",
            "         246       0.54      0.81      0.65       255\n",
            "         247       0.06      0.33      0.10        58\n",
            "         248       0.01      0.10      0.03        81\n",
            "         249       0.04      0.12      0.06       131\n",
            "         250       0.09      0.31      0.14        93\n",
            "         251       0.18      0.42      0.25       154\n",
            "         252       0.04      0.14      0.06       129\n",
            "         253       0.14      0.48      0.21        83\n",
            "         254       0.12      0.17      0.14       191\n",
            "         255       0.07      0.12      0.09       219\n",
            "         256       0.04      0.10      0.06       130\n",
            "         257       0.16      0.41      0.22        93\n",
            "         258       0.32      0.58      0.42       217\n",
            "         259       0.10      0.30      0.16       141\n",
            "         260       0.18      0.36      0.24       143\n",
            "         261       0.12      0.25      0.16       219\n",
            "         262       0.10      0.39      0.16       107\n",
            "         263       0.22      0.40      0.29       236\n",
            "         264       0.09      0.34      0.15       119\n",
            "         265       0.09      0.36      0.14        72\n",
            "         266       0.05      0.20      0.08        70\n",
            "         267       0.11      0.29      0.16       107\n",
            "         268       0.20      0.49      0.28       169\n",
            "         269       0.17      0.36      0.23       129\n",
            "         270       0.29      0.64      0.40       159\n",
            "         271       0.24      0.55      0.33       190\n",
            "         272       0.18      0.39      0.25       248\n",
            "         273       0.57      0.82      0.67       264\n",
            "         274       0.45      0.75      0.57       105\n",
            "         275       0.07      0.22      0.10       104\n",
            "         276       0.02      0.06      0.03       115\n",
            "         277       0.37      0.70      0.48       170\n",
            "         278       0.26      0.57      0.35       145\n",
            "         279       0.50      0.75      0.60       230\n",
            "         280       0.18      0.45      0.25        80\n",
            "         281       0.41      0.57      0.48       217\n",
            "         282       0.39      0.63      0.48       175\n",
            "         283       0.18      0.31      0.22       269\n",
            "         284       0.11      0.49      0.18        74\n",
            "         285       0.30      0.64      0.41       206\n",
            "         286       0.50      0.72      0.59       227\n",
            "         287       0.22      0.65      0.33       130\n",
            "         288       0.07      0.16      0.09       129\n",
            "         289       0.04      0.25      0.07        80\n",
            "         290       0.06      0.22      0.09        99\n",
            "         291       0.24      0.52      0.33       208\n",
            "         292       0.05      0.25      0.08        67\n",
            "         293       0.22      0.60      0.33       109\n",
            "         294       0.16      0.49      0.24       140\n",
            "         295       0.11      0.25      0.15       241\n",
            "         296       0.10      0.42      0.16        72\n",
            "         297       0.06      0.21      0.10       107\n",
            "         298       0.25      0.59      0.35        61\n",
            "         299       0.32      0.64      0.42        77\n",
            "         300       0.07      0.29      0.12       111\n",
            "         301       0.01      0.04      0.02       126\n",
            "         302       0.05      0.15      0.08        73\n",
            "         303       0.26      0.52      0.34       176\n",
            "         304       0.60      0.83      0.69       230\n",
            "         305       0.50      0.79      0.61       156\n",
            "         306       0.21      0.48      0.30       146\n",
            "         307       0.10      0.29      0.15        98\n",
            "         308       0.02      0.08      0.03        78\n",
            "         309       0.06      0.17      0.09        94\n",
            "         310       0.18      0.38      0.24       162\n",
            "         311       0.28      0.55      0.38       116\n",
            "         312       0.09      0.37      0.14        57\n",
            "         313       0.03      0.15      0.06        65\n",
            "         314       0.19      0.42      0.26       138\n",
            "         315       0.24      0.44      0.31       195\n",
            "         316       0.14      0.43      0.21        69\n",
            "         317       0.08      0.31      0.13       134\n",
            "         318       0.17      0.55      0.26       148\n",
            "         319       0.34      0.55      0.42       161\n",
            "         320       0.09      0.38      0.14       104\n",
            "         321       0.28      0.63      0.39       156\n",
            "         322       0.17      0.46      0.25       134\n",
            "         323       0.26      0.47      0.33       232\n",
            "         324       0.07      0.27      0.12        92\n",
            "         325       0.16      0.34      0.22       197\n",
            "         326       0.04      0.13      0.06       126\n",
            "         327       0.02      0.07      0.03       115\n",
            "         328       0.51      0.75      0.60       198\n",
            "         329       0.18      0.42      0.25       125\n",
            "         330       0.17      0.36      0.23        81\n",
            "         331       0.07      0.17      0.10        94\n",
            "         332       0.08      0.23      0.11        56\n",
            "         333       0.07      0.15      0.10       260\n",
            "         334       0.08      0.27      0.12        60\n",
            "         335       0.13      0.33      0.19       110\n",
            "         336       0.20      0.59      0.30        71\n",
            "         337       0.03      0.18      0.06        66\n",
            "         338       0.16      0.42      0.23       150\n",
            "         339       0.01      0.04      0.01        54\n",
            "         340       0.43      0.71      0.53       195\n",
            "         341       0.24      0.46      0.32        79\n",
            "         342       0.15      0.53      0.23        38\n",
            "         343       0.15      0.49      0.23        43\n",
            "         344       0.22      0.37      0.27        68\n",
            "         345       0.18      0.47      0.26        73\n",
            "         346       0.04      0.15      0.06       116\n",
            "         347       0.14      0.56      0.22       111\n",
            "         348       0.04      0.19      0.06        63\n",
            "         349       0.36      0.73      0.48       104\n",
            "         350       0.20      0.57      0.29        44\n",
            "         351       0.12      0.33      0.18        40\n",
            "         352       0.30      0.56      0.39       136\n",
            "         353       0.12      0.48      0.19        54\n",
            "         354       0.07      0.28      0.11       134\n",
            "         355       0.14      0.41      0.21       120\n",
            "         356       0.35      0.50      0.41       228\n",
            "         357       0.34      0.46      0.39       269\n",
            "         358       0.16      0.47      0.24        80\n",
            "         359       0.29      0.65      0.41       140\n",
            "         360       0.11      0.32      0.16       125\n",
            "         361       0.59      0.77      0.67       169\n",
            "         362       0.03      0.14      0.05        56\n",
            "         363       0.51      0.77      0.61       154\n",
            "         364       0.09      0.31      0.14        58\n",
            "         365       0.11      0.32      0.16        71\n",
            "         366       0.43      0.74      0.54        54\n",
            "         367       0.06      0.22      0.09       116\n",
            "         368       0.04      0.15      0.07        54\n",
            "         369       0.02      0.13      0.04        71\n",
            "         370       0.01      0.05      0.01        61\n",
            "         371       0.04      0.15      0.07        71\n",
            "         372       0.17      0.48      0.25        52\n",
            "         373       0.28      0.55      0.37       150\n",
            "         374       0.13      0.43      0.20        93\n",
            "         375       0.06      0.21      0.09        67\n",
            "         376       0.02      0.08      0.03        76\n",
            "         377       0.17      0.39      0.24       106\n",
            "         378       0.04      0.09      0.06        86\n",
            "         379       0.01      0.21      0.03        14\n",
            "         380       0.21      0.56      0.31       122\n",
            "         381       0.03      0.10      0.04       104\n",
            "         382       0.05      0.29      0.09        66\n",
            "         383       0.17      0.40      0.23       110\n",
            "         384       0.04      0.10      0.05       155\n",
            "         385       0.08      0.38      0.13        50\n",
            "         386       0.10      0.27      0.14        64\n",
            "         387       0.05      0.15      0.07        93\n",
            "         388       0.18      0.39      0.24       102\n",
            "         389       0.04      0.08      0.05       108\n",
            "         390       0.48      0.71      0.58       178\n",
            "         391       0.15      0.38      0.22       115\n",
            "         392       0.21      0.55      0.31        42\n",
            "         393       0.02      0.04      0.03       134\n",
            "         394       0.05      0.20      0.08       112\n",
            "         395       0.16      0.38      0.22       176\n",
            "         396       0.08      0.26      0.13       125\n",
            "         397       0.38      0.66      0.48       224\n",
            "         398       0.30      0.70      0.42        63\n",
            "         399       0.01      0.03      0.01        59\n",
            "         400       0.14      0.48      0.21        63\n",
            "         401       0.10      0.40      0.16        98\n",
            "         402       0.17      0.28      0.21       162\n",
            "         403       0.09      0.39      0.15        83\n",
            "         404       0.28      0.89      0.43        19\n",
            "         405       0.07      0.29      0.11        92\n",
            "         406       0.09      0.54      0.15        41\n",
            "         407       0.20      0.40      0.27        43\n",
            "         408       0.32      0.53      0.40       160\n",
            "         409       0.07      0.24      0.10        50\n",
            "         410       0.02      0.26      0.04        19\n",
            "         411       0.12      0.26      0.17       175\n",
            "         412       0.06      0.22      0.09        72\n",
            "         413       0.07      0.20      0.11        95\n",
            "         414       0.06      0.18      0.09        97\n",
            "         415       0.04      0.23      0.06        48\n",
            "         416       0.21      0.47      0.29        83\n",
            "         417       0.07      0.20      0.10        40\n",
            "         418       0.07      0.23      0.11        91\n",
            "         419       0.17      0.40      0.24        90\n",
            "         420       0.06      0.35      0.10        37\n",
            "         421       0.06      0.20      0.09        66\n",
            "         422       0.14      0.48      0.22        73\n",
            "         423       0.10      0.36      0.16        56\n",
            "         424       0.51      0.88      0.64        33\n",
            "         425       0.03      0.12      0.05        76\n",
            "         426       0.03      0.10      0.04        81\n",
            "         427       0.56      0.76      0.65       150\n",
            "         428       0.26      0.72      0.38        29\n",
            "         429       0.93      0.90      0.91       389\n",
            "         430       0.28      0.51      0.37       167\n",
            "         431       0.09      0.15      0.11       123\n",
            "         432       0.13      0.51      0.21        39\n",
            "         433       0.15      0.45      0.22        82\n",
            "         434       0.36      0.74      0.48        66\n",
            "         435       0.22      0.42      0.29        93\n",
            "         436       0.16      0.46      0.23        87\n",
            "         437       0.06      0.15      0.08        86\n",
            "         438       0.36      0.61      0.45       104\n",
            "         439       0.10      0.28      0.14       100\n",
            "         440       0.06      0.08      0.07       141\n",
            "         441       0.22      0.49      0.30       110\n",
            "         442       0.12      0.23      0.16       123\n",
            "         443       0.10      0.34      0.15        71\n",
            "         444       0.10      0.25      0.14       109\n",
            "         445       0.09      0.40      0.14        48\n",
            "         446       0.14      0.41      0.21        76\n",
            "         447       0.05      0.29      0.08        38\n",
            "         448       0.29      0.72      0.42        81\n",
            "         449       0.21      0.39      0.27       132\n",
            "         450       0.16      0.40      0.22        81\n",
            "         451       0.17      0.50      0.26        76\n",
            "         452       0.07      0.23      0.11        44\n",
            "         453       0.01      0.02      0.01        44\n",
            "         454       0.34      0.64      0.44        70\n",
            "         455       0.12      0.40      0.19       155\n",
            "         456       0.15      0.44      0.22        43\n",
            "         457       0.13      0.38      0.20        72\n",
            "         458       0.06      0.23      0.10        62\n",
            "         459       0.07      0.36      0.12        69\n",
            "         460       0.03      0.09      0.05       119\n",
            "         461       0.25      0.42      0.31        79\n",
            "         462       0.09      0.23      0.13        47\n",
            "         463       0.10      0.34      0.16       104\n",
            "         464       0.21      0.51      0.30       106\n",
            "         465       0.10      0.36      0.16        64\n",
            "         466       0.27      0.48      0.35       173\n",
            "         467       0.24      0.50      0.32       107\n",
            "         468       0.18      0.41      0.25       126\n",
            "         469       0.04      0.11      0.06       114\n",
            "         470       0.68      0.83      0.75       140\n",
            "         471       0.22      0.43      0.29        79\n",
            "         472       0.27      0.48      0.35       143\n",
            "         473       0.28      0.51      0.36       158\n",
            "         474       0.07      0.12      0.08       138\n",
            "         475       0.02      0.07      0.03        59\n",
            "         476       0.25      0.42      0.32        88\n",
            "         477       0.47      0.74      0.58       176\n",
            "         478       0.22      0.92      0.35        24\n",
            "         479       0.07      0.23      0.10        92\n",
            "         480       0.33      0.65      0.44       100\n",
            "         481       0.25      0.49      0.33       103\n",
            "         482       0.08      0.26      0.12        74\n",
            "         483       0.35      0.70      0.47       105\n",
            "         484       0.04      0.12      0.06        83\n",
            "         485       0.04      0.16      0.06        82\n",
            "         486       0.08      0.28      0.12        71\n",
            "         487       0.16      0.32      0.21       120\n",
            "         488       0.07      0.18      0.10       105\n",
            "         489       0.21      0.39      0.28        87\n",
            "         490       0.28      0.81      0.41        32\n",
            "         491       0.03      0.10      0.04        69\n",
            "         492       0.03      0.12      0.05        49\n",
            "         493       0.03      0.07      0.04       117\n",
            "         494       0.09      0.28      0.14        61\n",
            "         495       0.76      0.83      0.79       344\n",
            "         496       0.09      0.23      0.13        52\n",
            "         497       0.19      0.42      0.26       137\n",
            "         498       0.09      0.22      0.12        98\n",
            "         499       0.09      0.32      0.14        79\n",
            "\n",
            "   micro avg       0.29      0.47      0.36    173810\n",
            "   macro avg       0.21      0.41      0.27    173810\n",
            "weighted avg       0.35      0.47      0.39    173810\n",
            " samples avg       0.36      0.44      0.35    173810\n",
            "\n",
            "Time taken to run this cell : 0:19:57.560269\n"
          ],
          "name": "stdout"
        }
      ]
    },
    {
      "metadata": {
        "id": "lHWQ-bdnizZl",
        "colab_type": "text"
      },
      "cell_type": "markdown",
      "source": [
        "### Comparsions"
      ]
    },
    {
      "metadata": {
        "id": "IMHscly2i2LR",
        "colab_type": "text"
      },
      "cell_type": "markdown",
      "source": [
        "#### Preety Table"
      ]
    },
    {
      "metadata": {
        "id": "20Bep760i1iO",
        "colab_type": "code",
        "outputId": "17a03282-a2e8-4acb-adec-677b94ddc2ca",
        "colab": {
          "base_uri": "https://localhost:8080/",
          "height": 119
        }
      },
      "cell_type": "code",
      "source": [
        "from prettytable import PrettyTable\n",
        "    \n",
        "x = PrettyTable()\n",
        "\n",
        "x.field_names = [\"ALGO\" , \"Hamming Loss\" , 'Micro-average','F1-Precision','Recall','F1-measure']\n",
        "\n",
        "     \n",
        "x.add_row([ \"LR with BOW\" , 0.00310 , '----' , 0.5765,  0.3988 , 0.4715 ])\n",
        "x.add_row([ \"SVM with BOW\" , 0.00594 , '----', 0.2861,0.4748, 0.3571 ])\n",
        "\n",
        "print(x)"
      ],
      "execution_count": 0,
      "outputs": [
        {
          "output_type": "stream",
          "text": [
            "+--------------+--------------+---------------+--------------+--------+------------+\n",
            "|     ALGO     | Hamming Loss | Micro-average | F1-Precision | Recall | F1-measure |\n",
            "+--------------+--------------+---------------+--------------+--------+------------+\n",
            "| LR with BOW  |    0.0031    |      ----     |    0.5765    | 0.3988 |   0.4715   |\n",
            "| SVM with BOW |   0.00594    |      ----     |    0.2861    | 0.4748 |   0.3571   |\n",
            "+--------------+--------------+---------------+--------------+--------+------------+\n"
          ],
          "name": "stdout"
        }
      ]
    },
    {
      "metadata": {
        "id": "69_wEu_Niyz_",
        "colab_type": "code",
        "outputId": "3bec0b50-bb1b-4281-caa1-c9c2dfa782cf",
        "colab": {
          "base_uri": "https://localhost:8080/",
          "height": 463
        }
      },
      "cell_type": "code",
      "source": [
        "import pandas as pd\n",
        "import matplotlib.pyplot as plt\n",
        "a=pd.DataFrame([ ['LR with BOW',0.0031,0.5765 , 0.3988 ,  0.4715] ,[' SVM with BOW',0.00594,0.2861 , 0.4748 , 0.3571 ] ],\n",
        "               columns=[\"MODELS\",'Hamming Loss','F1-Precision' , 'Recall','F1-measure'],\n",
        "               )\n",
        "a.set_index('MODELS', inplace=True)\n",
        "a.plot(kind='bar')\n",
        "plt.xlabel(\"Models\",fontsize=20)\n",
        "plt.ylabel(\"LogLoss\",fontsize=20)\n",
        "plt.xticks(fontsize=14) #rotation=90)\n",
        "plt.yticks(fontsize=14)\n",
        "plt.show()\n"
      ],
      "execution_count": 0,
      "outputs": [
        {
          "output_type": "display_data",
          "data": {
            "image/png": "[encoded data removed]",
            "text/plain": [
              "<Figure size 576x396 with 1 Axes>"
            ]
          },
          "metadata": {
            "tags": []
          }
        }
      ]
    },
    {
      "metadata": {
        "id": "61zNypr-wFgb",
        "colab_type": "text"
      },
      "cell_type": "markdown",
      "source": [
        "### Summary:\n",
        "*  This is  MultiLabel Classification Problem as we need to predict one ore more TAGS for each StackOverFlow Question\n",
        "* AS, this is   MultiLabel Classification probrlm we have implemented OnevsRestClassifier Technique along with the ML models\n",
        "*  we have nearly 1M DataPoints and more than 18000 Tags ie...\n",
        "  * we need to apply ML model on 1M DataPoints for 18000  Tags (means ML model runs for 18000 Tags ie each model runs 18000 times on 1M DataPoins) as it is Computations Expensive Task as my System is not highlyConfugrable one\n",
        "  * So i took  0.5M dataPoints for this probelm \n",
        "  and took tags which covered more than 90% of questions (500 tags covered 90% of questions)\n",
        "  * we have this only redyced datapoints and tags for Computatio Purpose only\n",
        "  * we can apply above code for the complete DATAPoints and Tags\n",
        "* As title is the more imporatnt feature compared to the other features so i have given more weightage to the title ie 3time weight to title(repeated title feature 3times in each data)\n",
        "* converted all Text Data Features to the TFIDF W2V and BOW Vectors\n",
        "* Applied ML Models on top of that data \n",
        " #### ML MOdels\n",
        "* Done  Logistic Regression with  BOW Vector  and  Linear SVM BOW Vector\n",
        "* SVM with BOW Vector perform better than the LogisticRehgression"
      ]
    }
  ]
}